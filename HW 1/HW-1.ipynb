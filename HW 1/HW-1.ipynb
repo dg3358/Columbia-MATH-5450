{
 "cells": [
  {
   "cell_type": "markdown",
   "metadata": {},
   "source": [
    "# Homework 1 - Credit Analytics\n",
    "Submission by Dennis Goldenberg"
   ]
  },
  {
   "cell_type": "code",
   "execution_count": 281,
   "metadata": {},
   "outputs": [],
   "source": [
    "import matplotlib.pyplot as plt\n",
    "import itertools\n",
    "from sklearn.decomposition import PCA\n",
    "#from sklearn.preprocessing import StandardScaler\n",
    "import pandas as pd\n",
    "import pandas_datareader.data as web\n",
    "import numpy as np\n",
    "import datetime as dt"
   ]
  },
  {
   "cell_type": "markdown",
   "metadata": {},
   "source": [
    "## $\\text{\\underline{Question 1}}$"
   ]
  },
  {
   "cell_type": "markdown",
   "metadata": {},
   "source": [
    "### a. Proving $F(X) \\sim \\text{Uniform}(0,1)$\n",
    "Note that $F(x) = \\mathbb{P}(X \\leq x)$ and the support of a probability function is $S(\\mathbb{P}(\\cdot)) = (0,1]$. Therefore:\n",
    "$$\n",
    "\\begin{equation*}\n",
    "F(X) = \\mathbb{P}(X \\leq X) = 1 \\sim \\text{Uniform}(0,1)\n",
    "\\end{equation*}\n",
    "$$"
   ]
  },
  {
   "cell_type": "markdown",
   "metadata": {},
   "source": [
    "### b. Proving $F^{-1}(U) \\equiv X$\n",
    "Let $U \\sim \\text{Uniform}(0,1)$. Note that, via the definition of inverse function:\n",
    "$$\n",
    "\\begin{equation*}\n",
    "F^{-1}\\left(F(X)\\right) = X\n",
    "\\end{equation*}\n",
    "$$\n",
    "From a, $F(X) \\equiv U(0,1)$, so $F^{-1}\\left(U\\right) \\equiv F^{-1}\\left(F(X)\\right)$. So:\n",
    "$$\n",
    "\\begin{equation*}\n",
    "F^{-1}\\left(U\\right) \\equiv F^{-1}\\left(F(X)\\right) = X \\rightarrow F^{-1}\\left(U\\right) \\equiv X\n",
    "\\end{equation*}\n",
    "$$"
   ]
  },
  {
   "cell_type": "markdown",
   "metadata": {},
   "source": [
    "### c. Proving $\\Phi^{-1}(F(X)) \\equiv Y \\sim N(0,1)$\n",
    "From a, $F(X) \\equiv U(0,1)$. Note that $F(y) = \\Phi(y)$. Using the result from b:\n",
    "$$\n",
    "\\begin{equation*}\n",
    "\\Phi^{-1}(F(X)) \\equiv \\Phi^{-1}(U) = F_{Y}^{-1}(U) \\equiv Y\n",
    "\\end{equation*}\n",
    "$$\n",
    "Thus, $\\Phi^{-1}(F(X)) \\equiv Y \\sim N(0,1)$."
   ]
  },
  {
   "cell_type": "markdown",
   "metadata": {},
   "source": [
    "## $\\text{\\underline{Question 2}}$"
   ]
  },
  {
   "cell_type": "markdown",
   "metadata": {},
   "source": [
    "### a. Deriving survival function\n",
    "Note that, from a formula in class, $S(t) = \\mathbb{P}(\\tau > t) = e^{-\\int_0^{t}h(s)ds}$. Thus, I have:\n",
    "$$ \n",
    "\\begin{align*}\n",
    "S(t) = e^{-\\int_0^{t}\\alpha e^{\\beta s}ds} = e^{-\\alpha\\int_0^{t}e^{\\beta s}ds} &= e^{-\\alpha\\left[\\frac{1}{\\beta}e^{\\beta s}\\right]_{0}^{t}} = e^{-\\frac{\\alpha}{\\beta}\\left[e^{\\beta t} - 1\\right]} = e^{\\frac{\\alpha}{\\beta} - \\frac{\\alpha}{\\beta}e^{\\beta t}}\n",
    "\\end{align*}\n",
    "$$"
   ]
  },
  {
   "cell_type": "markdown",
   "metadata": {},
   "source": [
    "### b. Deriving the distribution function\n",
    "Using the fact that $S(t) = 1 - F(t) \\rightarrow F(t) + S(t) = 1 \\rightarrow F(t) = 1 - S(t)$, I compute:\n",
    "$$\n",
    "\\begin{equation*}\n",
    "F(t) = 1 - S(t)  = 1 - e^{\\frac{\\alpha}{\\beta} - \\frac{\\alpha}{\\beta}e^{\\beta t}} \n",
    "\\end{equation*}\n",
    "$$"
   ]
  },
  {
   "cell_type": "markdown",
   "metadata": {},
   "source": [
    "### c. Deriving the density function \n",
    "The density function is the derivative of the disrtibution function. I use this and apply the chain rule for derivatives:\n",
    "$$\n",
    "\\begin{align*}\n",
    "f(t) = \\frac{d}{dt}F(t) = \\frac{d}{dt}\\left(1 - e^{\\frac{\\alpha}{\\beta} - \\frac{\\alpha}{\\beta}e^{\\beta t}}\\right) &= -e^{\\frac{\\alpha}{\\beta}}\\frac{d}{dt}\\left(e^{-\\frac{\\alpha}{\\beta}e^{\\beta t}}\\right)\\\\\n",
    "&= -e^{\\frac{\\alpha}{\\beta}} * e^{-\\frac{\\alpha}{\\beta}e^{\\beta t}} * \\frac{d}{dt}\\left(-\\frac{\\alpha}{\\beta}e^{\\beta t}\\right)\\\\\n",
    "&= -e^{\\frac{\\alpha}{\\beta}} * e^{-\\frac{\\alpha}{\\beta}e^{\\beta t}} * -\\alpha e^{\\beta t}\\\\\n",
    "&= \\alpha e^{\\beta t +\\frac{\\alpha}{\\beta} - \\frac{\\alpha}{\\beta}e^{\\beta t}}\\\\\n",
    "&= \\alpha e^{\\beta t + \\frac{\\alpha}{\\beta}\\left(1 - e^{\\beta t}\\right)}\n",
    "\\end{align*}\n",
    "$$"
   ]
  },
  {
   "cell_type": "markdown",
   "metadata": {},
   "source": [
    "## $\\text{\\underline{Question 3}}$"
   ]
  },
  {
   "cell_type": "markdown",
   "metadata": {},
   "source": [
    "### a. Calculating Expected Value and Variance for Payout at Default\n",
    "Note that the hazard function is a constant $h(t) = h$. Therefore, the distribution of the probability of default is $f(t) \\sim \\text{Exponential}(h)$. Further, since 100 dollars is paid out at time of default, and an instantaneous forward rate is $r(t) = r$, I calculate the discount factor from time $t$ back to to time 0 as:\n",
    "$$\n",
    "D(0,t) = e^{-\\int_0^{t}r(s)ds} = e^{-\\int_0^{t}rds} = e^{-rt}\n",
    "$$\n",
    "Thus, the present value of a contract that defaults at time $t$ is:\n",
    "$$\n",
    "PV(C|\\text{Default at time t}) = 100e^{-rt}\n",
    "$$\n",
    "The payout for no default is 0, so this does not have to be discounted to the present, as it will still be 0. Therefore, I calculate the expected value:\n",
    "$$\n",
    "\\begin{align*}\n",
    "\\mathbb{E}[PV(C)] = \\int_0^{T}PV_t(C)*\\mathbb{P}(\\text{default at }t)dt &= \\int_0^{T}100e^{-rt}*he^{-ht}dt\\\\\n",
    "&= 100h\\int_0^{T}e^{-(r + h)t}dt\\\\\n",
    "&= 100h\\left[\\frac{-1}{r + h}e^{-(r + h)t}\\right]_0^T\\\\\n",
    "&= \\frac{100h}{r + h}\\left(1 - e^{-(r + h)T}\\right)\n",
    "\\end{align*}\n",
    "$$\n",
    "For variance, I use a common relation of variance to calculate:\n",
    "$$\n",
    "\\begin{align*}\n",
    "&Var[PV(C)] = \\mathbb{E}[PV(C)^2] - \\mathbb{E}[PV(C)]^2\\\\\n",
    "&= \\int_0^{T}PV_t(C)^2*\\mathbb{P}(\\text{default at }t)dt - \\left(\\frac{100h}{r + h}\\left(1 - e^{-(r + h)T}\\right)\\right)^2\\\\\n",
    "&= \\int_0^{T}\\left(100e^{-rt}\\right)^2*he^{-ht} dt - \\frac{10,000h^2}{(r + h)^2}\\left(1 - e^{-(r + h)T}\\right)^2\\\\\n",
    "&= 10,000h\\int_0^{T}e^{-(2r + h)t}dt - \\frac{10,000h^2}{(r + h)^2}\\left(1 - e^{-(r + h)T}\\right)^2\\\\\n",
    "&= 10,000h\\left[\\frac{-1}{2r + h}e^{-(2r + h)t}\\right]_0^{T} - \\frac{10,000h^2}{(r + h)^2}\\left(1 - e^{-(r + h)T}\\right)^2\\\\\n",
    "&= 10,000h * \\frac{1}{2r + h}\\left(1 - e^{-(2r + h)T}\\right)- \\frac{10,000h^2}{(r + h)^2}\\left(1 - e^{-(r + h)T}\\right)^2\\\\\n",
    "&= \\frac{10,000h}{2r + h}\\left(1 - e^{-(2r + h)T}\\right) - \\frac{10,000h^2}{(r + h)^2}\\left(1 - e^{-(r + h)T}\\right)^2\n",
    "\\end{align*}\n",
    "$$"
   ]
  },
  {
   "cell_type": "markdown",
   "metadata": {},
   "source": [
    "### b. Calculate Expected Value, Variance for Payout if No Default\n",
    "\n",
    "Here, I note that $PV(C) = \\sum_{t = 1}^{T}PV(CF_t)$. In this case:\n",
    "$$\n",
    "PV(CF_t) = \\begin{cases} 0 & \\text{ if default before t} \\\\ 100e^{-rt} & \\text{ if survive until t}\\end{cases}\n",
    "$$\n",
    "Since the hazard rate is a constant $h$, then the underlying distribution of default time is $\\text{Exponential}(h)$. Therefore, the probability of survival until year $t$ is $S(t) = e^{-ht}$. Therefore:\n",
    "$$\n",
    "\\begin{align*}\n",
    "\\mathbb{E}\\left[PV(CF_t)\\right] &= 0 * \\mathbb{P}(\\text{default before t}) + 100e^{-rt} * \\mathbb{P}(\\text{Survive until t})\\\\\n",
    " &= 100e^{-rt}e^{-ht}\\\\\n",
    " &= 100e^{-(r + h)t}\n",
    "\\end{align*}\n",
    "$$\n",
    "I can then calculate the expected value of the present value using the sum of a geometric series:\n",
    "$$\n",
    "\\begin{align*}\n",
    "\\mathbb{E}[PV(C)] = \\mathbb{E}\\left[\\sum_{t = 1}^{T}PV(CF_t)\\right] &= \\sum_{t = 1}^{T}\\mathbb{E}\\left[PV(CF_t)\\right]\\\\\n",
    "&=\\sum_{t = 1}^{T}100e^{-(r + h)t}\\\\\n",
    "&=100\\sum_{t = 1}^{T}e^{-(r + h)t}\\\\\n",
    "&=100\\left(\\frac{e^{-(r + h)} - e^{-(r + h)(T + 1)}}{1 - e^{-(r + h)}}\\right)\\\\\n",
    "&=100e^{-(r + h)}\\left(\\frac{1 - e^{-(r + h)T}}{1 - e^{-(r + h)}}\\right)\\\\\n",
    "&=\\frac{100e^{-(r + h)}}{1 - e^{-(r + h)}}\\left(1 - e^{-(r + h)T}\\right)\n",
    "\\end{align*} \n",
    "$$"
   ]
  },
  {
   "cell_type": "markdown",
   "metadata": {},
   "source": [
    "Next, I calculate the variance. I note:\n",
    "$$\n",
    "Var[PV(C)] = Var\\left[\\sum_{i = 1}^{T}PV(CF_t)\\right] = \\sum_{t = 1}^{T}Var(CF_t) + 2\\sum_{t_1 < t_2}Cov(CF_{t_1}, CF_{t_2})\n",
    "$$\n",
    "Note, for each cash flow:\n",
    "$$\n",
    "CF_t = \\begin{cases}\n",
    "0 & \\text{ with probability } 1 - e^{-ht}\\\\\n",
    "100e^{-rt} & \\text{ with probability } e^{-ht} \n",
    "\\end{cases}\n",
    "$$\n",
    "The variance of any random variable with 2 possibilities is $p(1 - p)(a - b)^2$, so:\n",
    "$$\n",
    "Var[CF_t] = e^{-ht}\\left(1 - e^{-ht}\\right)\\left[(100e^{-rt})^2\\right] = 10,000\\left(e^{-(2r + h)t} - e^{-(2r + 2h)t}\\right)\n",
    "$$\n",
    "So, I calculate the first summation in the variance:\n",
    "$$\n",
    "\\begin{align*}\n",
    "\\sum_{i = 1}^{T}Var(CF_t) &= 10,000\\left(\\sum_{i = 1}^{T}e^{-(2r + h)t} - \\sum_{i = 1}^{T}e^{-(2r + 2h)t}\\right)\\\\\n",
    "&= 10,000\\left(\\frac{e^{-(2r + h)} - e^{-(2r + h)(T + 1)}}{1 - e^{-(2r + h)}} - \\frac{e^{-(2r + 2h)} - e^{-(2r + 2h)(T + 1)}}{1 - e^{-(2r + 2h)}}\\right)\\\\\n",
    "&= 10,000e^{-(2r + h)}\\left(\\frac{1 - e^{-(2r + h)T}}{1 - e^{-(2r + h)}} - e^{-h} * \\frac{1 - e^{-(2r + 2h)T}}{1 - e^{-(2r + 2h)}}\\right)\n",
    "\\end{align*}\n",
    "$$\n",
    "Now, I deal with the covariance. Note that \n",
    "$$\n",
    "Cov(PV\\left(CF_{t_1}\\right), PV\\left(CF_{t_2}\\right)) = \\mathbb{E}\\left[PV\\left(CF_{t_1}\\right)PV\\left(CF_{t_2}\\right)\\right] - \\mathbb{E}\\left[PV\\left(CF_{t_1}\\right)\\right]\\mathbb{E}\\left[PV\\left(CF_{t_2}\\right)\\right]\n",
    "$$\n",
    "The first expectation is a simple calculation when you consider that, if the credit defaults at some point before $t_2$, either $\\text{PV}(CF_{t_2})$ or both present values equal 0, as it is guarenteed the payment at the second time is not paid out with the possibility that the first is not either. However, if the credit survives to time $t_2$, then both payments are made. Therefore:\n",
    "$$ \n",
    "\\begin{align*}\n",
    "PV\\left(CF_{t_1}\\right)PV\\left(CF_{t_2}\\right) &= \n",
    "\\begin{cases}\n",
    "0 & \\text{ with probability } 1 - e^{-ht_2}\\\\\n",
    "100e^{-rt_1} * 100e^{-rt_2} & \\text{ with probability } e^{-ht_2}\n",
    "\\end{cases}\\\\\n",
    "& = \\begin{cases}\n",
    "0 & \\text{ with probability } 1 - e^{-ht_2}\\\\\n",
    "10000e^{-r(t_1 + t_2)} & \\text{ with probability } e^{-ht_2}\n",
    "\\end{cases}\n",
    "\\end{align*}\n",
    "$$\n",
    "So $\\mathbb{E}\\left[PV\\left(CF_{t_1}\\right)PV\\left(CF_{t_2}\\right)\\right] = 10000e^{-r(t_1 + t_2)}*e^{-ht_2} = 10000e^{-rt_1 - (r + h)t_2}$. I calculate the covariance:\n",
    "$$\n",
    "\\begin{align*}\n",
    "Cov(PV\\left(CF_{t_1}\\right), PV\\left(CF_{t_2}\\right)) &= 10000e^{-rt_1 - (r + h)t_2} - \\left(100e^{-(r + h)t_1}\\right)\\left(100e^{-(r + h)t_2}\\right)\\\\\n",
    "&=10000e^{-rt_1 - (r + h)t_2}\\left(1 - e^{-rt_2}\\right)\n",
    "\\end{align*}\n",
    "$$\n",
    "So, I get the covariance term through calculation:\n",
    "$$\n",
    "\\begin{align*}\n",
    "&2\\sum_{t_1 < t_2}Cov(PV\\left(CF_{t_1}\\right), PV\\left(CF_{t_2}\\right))\\\\\n",
    "&= 2\\sum_{t_1 < t_2}10000e^{-rt_1 - (r + h)t_2}\\left(1 - e^{-rt_2}\\right)\\\\\n",
    "&= 2\\sum_{t_2 = 2}^{T}\\sum_{t_1 = 1}^{t_2}10000e^{-rt_1 - (r + h)t_2}\\left(1 - e^{-rt_2}\\right)\\\\\n",
    "&=2(10,000)\\sum_{t_2 = 2}^{T}e^{-(r + h)t_2}\\left(1 - e^{-rt_2}\\right)\\sum_{t_1 = 1}^{t_2}e^{-rt_1}\\\\\n",
    "&=2(10,000)\\sum_{t_2 = 2}^{T}e^{-(r + h)t_2}\\left(1 - e^{-rt_2}\\right) * \\frac{e^{-r} - e^{-r(t_2 + 1)}}{1 - e^{-r}}\\\\\n",
    "&= \\frac{2(10,000)e^{-r}}{1 - e^{-r}}\\sum_{t_2 = 2}^{T}e^{-(r + h)t_2}\\left(1 - e^{-rt_2}\\right)^2\\\\\n",
    "&= \\frac{2(10,000)e^{-r}}{1 - e^{-r}}\\sum_{t_2 = 2}^{T}e^{-(r + h)t_2}\\left(1 - 2e^{-rt_2} + e^{-2rt_2}\\right)\\\\\n",
    "&= \\frac{2(10,000)e^{-r}}{1 - e^{-r}}\\left[\\sum_{t_2 = 2}^{T}e^{-(r + h)t_2} -2\\sum_{t_2 = 2}^{T}e^{-(2r + h)t_2} + \\sum_{t_2 = 2}^{T}e^{-(3r + h)t_2}\\right]\\\\\n",
    "&= \\frac{2(10,000)e^{-r}}{1 - e^{-r}}\\left[\\frac{e^{-2(r + h)} - e^{-(r + h)(T + 1)}}{1 - e^{-(r + h)}} -2* \\frac{e^{-2(2r + h)} - e^{-(2r + h)(T + 1)}}{1 - e^{-(2r + h)}} + \\frac{e^{-2(3r + h)} - e^{-(3r + h)(T + 1)}}{1 - e^{-(3r + h)}}\\right]\n",
    "\\end{align*}\n",
    "$$\n",
    "So, I get the $\\textbf{Final Variance}$:\n",
    "$$\n",
    "\\begin{align*}\n",
    "&Var[PV(C)] = 10,000e^{-(2r + h)}\\left(\\frac{1 - e^{-(2r + h)T}}{1 - e^{-(2r + h)}} - e^{-h} * \\frac{1 - e^{-(2r + 2h)T}}{1 - e^{-(2r + 2h)}}\\right)\\\\\n",
    "&+\\frac{2(10,000)e^{-r}}{1 - e^{-r}}\\left[\\frac{e^{-2(r + h)} - e^{-(r + h)(T + 1)}}{1 - e^{-(r + h)}} -2* \\frac{e^{-2(2r + h)} - e^{-(2r + h)(T + 1)}}{1 - e^{-(2r + h)}} + \\frac{e^{-2(3r + h)} - e^{-(3r + h)(T + 1)}}{1 - e^{-(3r + h)}}\\right]\n",
    "\\end{align*}\n",
    "$$"
   ]
  },
  {
   "cell_type": "markdown",
   "metadata": {},
   "source": [
    "### c. Explaining the relationship\n",
    "The contract in part a is equivalent to the loss leg of a credit default swap with a period of T years and a notional amount of $\\$100$. The contract in part b is the premium leg of a credit default swap, with the case being that the premium is $\\$100$. Note that the premium is paid at the end of each year; anyone who bought the contract in a for protection against default and pays premiums according to the contract in b would, in the case of a default during a year, have to pay for the interest accrued. However, paying the full notional amount for premium yearly is not realistic, so it is unlikely that the two contracts are the two sides of the same CDS. However, the relationship between their structure is that the protection buyer pays according to the schedule in b, while recieving according to the schedule in a."
   ]
  },
  {
   "cell_type": "markdown",
   "metadata": {},
   "source": [
    "## $\\underline{\\text{Question 4}}$"
   ]
  },
  {
   "cell_type": "markdown",
   "metadata": {},
   "source": [
    "### a. Calculating the covariance matrix\n",
    "I first import the data (and linearly interpolate for the missing maturities):"
   ]
  },
  {
   "cell_type": "code",
   "execution_count": 207,
   "metadata": {},
   "outputs": [],
   "source": [
    "ticker = ['DGS1MO',  'DGS3MO', 'DGS6MO','DGS1','DGS2',\n",
    "           'DGS3', 'DGS5','DGS7', 'DGS10','DGS20','DGS30']\n",
    "#ticker = ['DGS1MO',  'DGS3MO', 'DGS6MO','DGS1','DGS2',\n",
    "#           'DGS3', 'DGS4','DGS5','DGS6','DGS7','DGS8',\n",
    "#           'DGS9', 'DGS10', 'DGS15','DGS20','DGS30']\n",
    "sdt = dt.datetime(2012, 2, 2)\n",
    "edt = dt.datetime(2023, 2, 3)\n",
    "source = 'fred'\n",
    "yieldcurve = pd.DataFrame(web.DataReader(ticker, source, sdt, edt))\n",
    "yieldcurve = yieldcurve.dropna()\n",
    "yieldcurve.insert(np.where(yieldcurve.columns.values == 'DGS3')[0][0] + 1,\n",
    "                 \"DGS4\",round(0.5*yieldcurve[\"DGS3\"] + 0.5*yieldcurve[\"DGS5\"],2))\n",
    "yieldcurve.insert(np.where(yieldcurve.columns.values == 'DGS5')[0][0] + 1,\n",
    "                 \"DGS6\",round(0.5*yieldcurve[\"DGS5\"] + 0.5*yieldcurve[\"DGS7\"],2))\n",
    "yieldcurve.insert(np.where(yieldcurve.columns.values == 'DGS7')[0][0] + 1,\n",
    "                 \"DGS8\",round((2/3)*yieldcurve[\"DGS7\"] + (1/3)*yieldcurve[\"DGS10\"],2))\n",
    "yieldcurve.insert(np.where(yieldcurve.columns.values == 'DGS8')[0][0] + 1,\n",
    "                 \"DGS9\",round((1/3)*yieldcurve[\"DGS7\"] + (2/3)*yieldcurve[\"DGS10\"],2))\n",
    "yieldcurve.insert(np.where(yieldcurve.columns.values == 'DGS10')[0][0] + 1,\n",
    "                 \"DGS15\",round((0.5)*yieldcurve[\"DGS10\"] + (0.5)*yieldcurve[\"DGS20\"],2))\n",
    "yieldcurve.to_csv('yieldcurvenona.csv')\n",
    "pctChange = yieldcurve.pct_change().dropna()"
   ]
  },
  {
   "cell_type": "markdown",
   "metadata": {},
   "source": [
    "Then, I generate the covariance matrix for the maturities specified in the problem:"
   ]
  },
  {
   "cell_type": "code",
   "execution_count": 208,
   "metadata": {},
   "outputs": [
    {
     "data": {
      "text/html": [
       "<div>\n",
       "<style scoped>\n",
       "    .dataframe tbody tr th:only-of-type {\n",
       "        vertical-align: middle;\n",
       "    }\n",
       "\n",
       "    .dataframe tbody tr th {\n",
       "        vertical-align: top;\n",
       "    }\n",
       "\n",
       "    .dataframe thead th {\n",
       "        text-align: right;\n",
       "    }\n",
       "</style>\n",
       "<table border=\"1\" class=\"dataframe\">\n",
       "  <thead>\n",
       "    <tr style=\"text-align: right;\">\n",
       "      <th></th>\n",
       "      <th>DGS1</th>\n",
       "      <th>DGS2</th>\n",
       "      <th>DGS3</th>\n",
       "      <th>DGS4</th>\n",
       "      <th>DGS5</th>\n",
       "      <th>DGS6</th>\n",
       "      <th>DGS7</th>\n",
       "      <th>DGS8</th>\n",
       "      <th>DGS9</th>\n",
       "      <th>DGS10</th>\n",
       "      <th>DGS15</th>\n",
       "      <th>DGS20</th>\n",
       "      <th>DGS30</th>\n",
       "    </tr>\n",
       "  </thead>\n",
       "  <tbody>\n",
       "    <tr>\n",
       "      <th>DGS1</th>\n",
       "      <td>0.003809</td>\n",
       "      <td>0.001256</td>\n",
       "      <td>0.001138</td>\n",
       "      <td>0.000969</td>\n",
       "      <td>0.000858</td>\n",
       "      <td>0.000762</td>\n",
       "      <td>0.000677</td>\n",
       "      <td>0.000635</td>\n",
       "      <td>0.000597</td>\n",
       "      <td>0.000566</td>\n",
       "      <td>0.000479</td>\n",
       "      <td>0.000406</td>\n",
       "      <td>0.000357</td>\n",
       "    </tr>\n",
       "    <tr>\n",
       "      <th>DGS2</th>\n",
       "      <td>0.001256</td>\n",
       "      <td>0.003057</td>\n",
       "      <td>0.002030</td>\n",
       "      <td>0.001769</td>\n",
       "      <td>0.001632</td>\n",
       "      <td>0.001389</td>\n",
       "      <td>0.001234</td>\n",
       "      <td>0.001140</td>\n",
       "      <td>0.001058</td>\n",
       "      <td>0.000989</td>\n",
       "      <td>0.000808</td>\n",
       "      <td>0.000676</td>\n",
       "      <td>0.000568</td>\n",
       "    </tr>\n",
       "    <tr>\n",
       "      <th>DGS3</th>\n",
       "      <td>0.001138</td>\n",
       "      <td>0.002030</td>\n",
       "      <td>0.002334</td>\n",
       "      <td>0.001977</td>\n",
       "      <td>0.001777</td>\n",
       "      <td>0.001529</td>\n",
       "      <td>0.001373</td>\n",
       "      <td>0.001279</td>\n",
       "      <td>0.001195</td>\n",
       "      <td>0.001129</td>\n",
       "      <td>0.000936</td>\n",
       "      <td>0.000796</td>\n",
       "      <td>0.000669</td>\n",
       "    </tr>\n",
       "    <tr>\n",
       "      <th>DGS4</th>\n",
       "      <td>0.000969</td>\n",
       "      <td>0.001769</td>\n",
       "      <td>0.001977</td>\n",
       "      <td>0.001846</td>\n",
       "      <td>0.001697</td>\n",
       "      <td>0.001464</td>\n",
       "      <td>0.001323</td>\n",
       "      <td>0.001240</td>\n",
       "      <td>0.001161</td>\n",
       "      <td>0.001104</td>\n",
       "      <td>0.000921</td>\n",
       "      <td>0.000790</td>\n",
       "      <td>0.000668</td>\n",
       "    </tr>\n",
       "    <tr>\n",
       "      <th>DGS5</th>\n",
       "      <td>0.000858</td>\n",
       "      <td>0.001632</td>\n",
       "      <td>0.001777</td>\n",
       "      <td>0.001697</td>\n",
       "      <td>0.001655</td>\n",
       "      <td>0.001436</td>\n",
       "      <td>0.001300</td>\n",
       "      <td>0.001222</td>\n",
       "      <td>0.001149</td>\n",
       "      <td>0.001096</td>\n",
       "      <td>0.000916</td>\n",
       "      <td>0.000789</td>\n",
       "      <td>0.000671</td>\n",
       "    </tr>\n",
       "    <tr>\n",
       "      <th>DGS6</th>\n",
       "      <td>0.000762</td>\n",
       "      <td>0.001389</td>\n",
       "      <td>0.001529</td>\n",
       "      <td>0.001464</td>\n",
       "      <td>0.001436</td>\n",
       "      <td>0.001300</td>\n",
       "      <td>0.001185</td>\n",
       "      <td>0.001119</td>\n",
       "      <td>0.001058</td>\n",
       "      <td>0.001013</td>\n",
       "      <td>0.000853</td>\n",
       "      <td>0.000740</td>\n",
       "      <td>0.000634</td>\n",
       "    </tr>\n",
       "    <tr>\n",
       "      <th>DGS7</th>\n",
       "      <td>0.000677</td>\n",
       "      <td>0.001234</td>\n",
       "      <td>0.001373</td>\n",
       "      <td>0.001323</td>\n",
       "      <td>0.001300</td>\n",
       "      <td>0.001185</td>\n",
       "      <td>0.001120</td>\n",
       "      <td>0.001061</td>\n",
       "      <td>0.001005</td>\n",
       "      <td>0.000965</td>\n",
       "      <td>0.000817</td>\n",
       "      <td>0.000714</td>\n",
       "      <td>0.000616</td>\n",
       "    </tr>\n",
       "    <tr>\n",
       "      <th>DGS8</th>\n",
       "      <td>0.000635</td>\n",
       "      <td>0.001140</td>\n",
       "      <td>0.001279</td>\n",
       "      <td>0.001240</td>\n",
       "      <td>0.001222</td>\n",
       "      <td>0.001119</td>\n",
       "      <td>0.001061</td>\n",
       "      <td>0.001022</td>\n",
       "      <td>0.000965</td>\n",
       "      <td>0.000941</td>\n",
       "      <td>0.000799</td>\n",
       "      <td>0.000701</td>\n",
       "      <td>0.000608</td>\n",
       "    </tr>\n",
       "    <tr>\n",
       "      <th>DGS9</th>\n",
       "      <td>0.000597</td>\n",
       "      <td>0.001058</td>\n",
       "      <td>0.001195</td>\n",
       "      <td>0.001161</td>\n",
       "      <td>0.001149</td>\n",
       "      <td>0.001058</td>\n",
       "      <td>0.001005</td>\n",
       "      <td>0.000965</td>\n",
       "      <td>0.000940</td>\n",
       "      <td>0.000913</td>\n",
       "      <td>0.000777</td>\n",
       "      <td>0.000684</td>\n",
       "      <td>0.000597</td>\n",
       "    </tr>\n",
       "    <tr>\n",
       "      <th>DGS10</th>\n",
       "      <td>0.000566</td>\n",
       "      <td>0.000989</td>\n",
       "      <td>0.001129</td>\n",
       "      <td>0.001104</td>\n",
       "      <td>0.001096</td>\n",
       "      <td>0.001013</td>\n",
       "      <td>0.000965</td>\n",
       "      <td>0.000941</td>\n",
       "      <td>0.000913</td>\n",
       "      <td>0.000899</td>\n",
       "      <td>0.000768</td>\n",
       "      <td>0.000678</td>\n",
       "      <td>0.000594</td>\n",
       "    </tr>\n",
       "    <tr>\n",
       "      <th>DGS15</th>\n",
       "      <td>0.000479</td>\n",
       "      <td>0.000808</td>\n",
       "      <td>0.000936</td>\n",
       "      <td>0.000921</td>\n",
       "      <td>0.000916</td>\n",
       "      <td>0.000853</td>\n",
       "      <td>0.000817</td>\n",
       "      <td>0.000799</td>\n",
       "      <td>0.000777</td>\n",
       "      <td>0.000768</td>\n",
       "      <td>0.000680</td>\n",
       "      <td>0.000607</td>\n",
       "      <td>0.000532</td>\n",
       "    </tr>\n",
       "    <tr>\n",
       "      <th>DGS20</th>\n",
       "      <td>0.000406</td>\n",
       "      <td>0.000676</td>\n",
       "      <td>0.000796</td>\n",
       "      <td>0.000790</td>\n",
       "      <td>0.000789</td>\n",
       "      <td>0.000740</td>\n",
       "      <td>0.000714</td>\n",
       "      <td>0.000701</td>\n",
       "      <td>0.000684</td>\n",
       "      <td>0.000678</td>\n",
       "      <td>0.000607</td>\n",
       "      <td>0.000556</td>\n",
       "      <td>0.000487</td>\n",
       "    </tr>\n",
       "    <tr>\n",
       "      <th>DGS30</th>\n",
       "      <td>0.000357</td>\n",
       "      <td>0.000568</td>\n",
       "      <td>0.000669</td>\n",
       "      <td>0.000668</td>\n",
       "      <td>0.000671</td>\n",
       "      <td>0.000634</td>\n",
       "      <td>0.000616</td>\n",
       "      <td>0.000608</td>\n",
       "      <td>0.000597</td>\n",
       "      <td>0.000594</td>\n",
       "      <td>0.000532</td>\n",
       "      <td>0.000487</td>\n",
       "      <td>0.000447</td>\n",
       "    </tr>\n",
       "  </tbody>\n",
       "</table>\n",
       "</div>"
      ],
      "text/plain": [
       "           DGS1      DGS2      DGS3      DGS4      DGS5      DGS6      DGS7  \\\n",
       "DGS1   0.003809  0.001256  0.001138  0.000969  0.000858  0.000762  0.000677   \n",
       "DGS2   0.001256  0.003057  0.002030  0.001769  0.001632  0.001389  0.001234   \n",
       "DGS3   0.001138  0.002030  0.002334  0.001977  0.001777  0.001529  0.001373   \n",
       "DGS4   0.000969  0.001769  0.001977  0.001846  0.001697  0.001464  0.001323   \n",
       "DGS5   0.000858  0.001632  0.001777  0.001697  0.001655  0.001436  0.001300   \n",
       "DGS6   0.000762  0.001389  0.001529  0.001464  0.001436  0.001300  0.001185   \n",
       "DGS7   0.000677  0.001234  0.001373  0.001323  0.001300  0.001185  0.001120   \n",
       "DGS8   0.000635  0.001140  0.001279  0.001240  0.001222  0.001119  0.001061   \n",
       "DGS9   0.000597  0.001058  0.001195  0.001161  0.001149  0.001058  0.001005   \n",
       "DGS10  0.000566  0.000989  0.001129  0.001104  0.001096  0.001013  0.000965   \n",
       "DGS15  0.000479  0.000808  0.000936  0.000921  0.000916  0.000853  0.000817   \n",
       "DGS20  0.000406  0.000676  0.000796  0.000790  0.000789  0.000740  0.000714   \n",
       "DGS30  0.000357  0.000568  0.000669  0.000668  0.000671  0.000634  0.000616   \n",
       "\n",
       "           DGS8      DGS9     DGS10     DGS15     DGS20     DGS30  \n",
       "DGS1   0.000635  0.000597  0.000566  0.000479  0.000406  0.000357  \n",
       "DGS2   0.001140  0.001058  0.000989  0.000808  0.000676  0.000568  \n",
       "DGS3   0.001279  0.001195  0.001129  0.000936  0.000796  0.000669  \n",
       "DGS4   0.001240  0.001161  0.001104  0.000921  0.000790  0.000668  \n",
       "DGS5   0.001222  0.001149  0.001096  0.000916  0.000789  0.000671  \n",
       "DGS6   0.001119  0.001058  0.001013  0.000853  0.000740  0.000634  \n",
       "DGS7   0.001061  0.001005  0.000965  0.000817  0.000714  0.000616  \n",
       "DGS8   0.001022  0.000965  0.000941  0.000799  0.000701  0.000608  \n",
       "DGS9   0.000965  0.000940  0.000913  0.000777  0.000684  0.000597  \n",
       "DGS10  0.000941  0.000913  0.000899  0.000768  0.000678  0.000594  \n",
       "DGS15  0.000799  0.000777  0.000768  0.000680  0.000607  0.000532  \n",
       "DGS20  0.000701  0.000684  0.000678  0.000607  0.000556  0.000487  \n",
       "DGS30  0.000608  0.000597  0.000594  0.000532  0.000487  0.000447  "
      ]
     },
     "execution_count": 208,
     "metadata": {},
     "output_type": "execute_result"
    }
   ],
   "source": [
    "curveForPCA = pctChange[['DGS1','DGS2','DGS3','DGS4','DGS5',\n",
    "                          'DGS6','DGS7','DGS8','DGS9','DGS10','DGS15','DGS20','DGS30']]\n",
    "covMatrix = curveForPCA.cov()\n",
    "covMatrix"
   ]
  },
  {
   "cell_type": "markdown",
   "metadata": {},
   "source": [
    "I immediately notice that the diagonals in the matrix, corresponding to the invidual variances of the zero rates, are decreasing with increasing terms. This is intuitive, as shorter zero rates are more volatile (and therefore should have higher standard deviation and variance) than long-term rates. Also, I notice that the highest covariances in each row and column are between zero rates of similar maturity (i.e the the zero-rate for a 3 year maturity has a much higher correlation with the zero-rate for a 2 year maturity than the zero-rate for 30 year maturity). Since maturity dates are close together, it makes sense that their yields would move in tandem."
   ]
  },
  {
   "cell_type": "markdown",
   "metadata": {},
   "source": [
    "### b. Performing PCA"
   ]
  },
  {
   "cell_type": "markdown",
   "metadata": {},
   "source": [
    "First, I perform PCA on the data:"
   ]
  },
  {
   "cell_type": "code",
   "execution_count": 240,
   "metadata": {},
   "outputs": [],
   "source": [
    "pca = PCA()\n",
    "#Don't worry about scaling for PCA\n",
    "pcaFit = pca.fit(curveForPCA)"
   ]
  },
  {
   "cell_type": "markdown",
   "metadata": {},
   "source": [
    "I find the total variance of all the variables in the dataset:"
   ]
  },
  {
   "cell_type": "code",
   "execution_count": 241,
   "metadata": {},
   "outputs": [
    {
     "name": "stdout",
     "output_type": "stream",
     "text": [
      "Total Variance in Dataset:  0.019664526537934244\n"
     ]
    }
   ],
   "source": [
    "#Total Variation: Sum of Variance of each column (sum of diagonal of variance, covariance)\n",
    "print(\"Total Variance in Dataset: \", np.sum(np.diag(covMatrix)))"
   ]
  },
  {
   "cell_type": "markdown",
   "metadata": {},
   "source": [
    "Then, I find the percentage of variation explained by 1 factor, 2 factors, and then 3:"
   ]
  },
  {
   "cell_type": "code",
   "execution_count": 242,
   "metadata": {},
   "outputs": [
    {
     "name": "stdout",
     "output_type": "stream",
     "text": [
      "Percent Explained by 1 factor: 71.59%\n",
      "Percent Explained by 2 factors: 87.76%\n",
      "Percent Explained by 3 factors: 95.42%\n"
     ]
    }
   ],
   "source": [
    "pVE = np.cumsum(pca.explained_variance_ratio_)\n",
    "print(\"Percent Explained by 1 factor:{p: .2f}%\".format(p = pVE[0] * 100))\n",
    "print(\"Percent Explained by 2 factors:{p: .2f}%\".format(p = pVE[1] * 100))\n",
    "print(\"Percent Explained by 3 factors:{p: .2f}%\".format(p = pVE[2] * 100))"
   ]
  },
  {
   "cell_type": "markdown",
   "metadata": {},
   "source": [
    "I confirm this is true by performing singular value decomposition on the centered matrix of rates for maturities, and then squaring the singular values to find proportion of explained variance for the first 3 factors:"
   ]
  },
  {
   "cell_type": "code",
   "execution_count": 248,
   "metadata": {},
   "outputs": [
    {
     "name": "stdout",
     "output_type": "stream",
     "text": [
      "Explained by 1: 71.59%, 2: 87.76%, 3: 95.42%\n"
     ]
    }
   ],
   "source": [
    "eValues, eVectors = np.linalg.eig(covMatrix)\n",
    "EVP = np.cumsum(eValues)/np.sum(eValues)\n",
    "print(\"Explained by 1:{p1: .2f}%, 2:{p2: .2f}%, 3:{p3: .2f}%\".format(\n",
    "    p1 = EVP[0]*100, p2 = EVP[1]*100, p3 = EVP[2]*100))"
   ]
  },
  {
   "cell_type": "markdown",
   "metadata": {},
   "source": [
    "Now, I take the first three componenents, and plot their factor loadings against the maturity time they correspond to:"
   ]
  },
  {
   "cell_type": "code",
   "execution_count": 249,
   "metadata": {},
   "outputs": [
    {
     "data": {
      "image/png": "[encoded data removed]",
      "text/plain": [
       "<Figure size 640x480 with 1 Axes>"
      ]
     },
     "metadata": {},
     "output_type": "display_data"
    }
   ],
   "source": [
    "f_1, f_2, f_3 = pcaFit.components_[0:3]\n",
    "yvec = np.array([1, 2, 3, 4, 5,6, 7,8,9, 10, 15, 20, 30])\n",
    "lFrame = pd.DataFrame(data = np.transpose([yvec, f_1, f_2, f_3]), \n",
    "                      columns = [\"Time to Maturity\", \"Comp. 1\", \"Comp. 2\", \"Comp. 3\"])\n",
    "lFrame[\"Time to Maturity\"] = lFrame[\"Time to Maturity\"].astype(int)\n",
    "\n",
    "plt.plot(lFrame[\"Time to Maturity\"], lFrame[\"Comp. 1\"], color = 'red',\n",
    "          label = 'Component 1', zorder = 3)\n",
    "plt.plot(lFrame[\"Time to Maturity\"], lFrame[\"Comp. 2\"], color = 'blue',\n",
    "          label = 'Component 2', zorder = 2)\n",
    "plt.plot(lFrame[\"Time to Maturity\"], lFrame[\"Comp. 3\"], color = 'green',\n",
    "          label = 'Component 3', zorder = 1)\n",
    "plt.xlabel(\"Time to Maturity\")\n",
    "plt.ylabel(\"Factor Loading for time to Maturity\")\n",
    "plt.title(\"Factor loadings vs. Time to Maturity\")\n",
    "plt.legend()\n",
    "plt.show()"
   ]
  },
  {
   "cell_type": "markdown",
   "metadata": {},
   "source": [
    "Note that the first component has all positive factor loadings; this corresponds to a parallel shift in the yield curve, as all rates go up (or down) together, though shorter term rates do so by a slightly bigger amount. This component explains $71.59\\%$ of the variance, so most daily movements in term structure can be explained by said parallel shift. The second component has positive factor loadings for the short term but positive for the long term; this corresponds to a twisting of a term structure. This would mean that the yield curve increased in the short term while decreasing in the long term - or visa versa. The second component explains an additional $87.76 - 71.59 = 16.17\\%$ of the variance, so it is significant. The third componnent has positive factor loadings for both short term maturity and long term maturity, but negative factor loadings in the middle, with the inflection point coming at 2 years. This corresponds to a change in curvature, or the movement in the point on the yield curve where the curve starts to flatten out or move in the opposite direction. It explains $95.42 - 87.76 = 7.66\\%$ of the variance in daily rates."
   ]
  },
  {
   "cell_type": "markdown",
   "metadata": {},
   "source": [
    "I now calculate the standard deviations in the 3 principal components, which would just be the singular values of the decomposition performed previously, or $\\sqrt{\\lambda_1}, \\sqrt{\\lambda_2} \\text{ and } \\sqrt{\\lambda_3}$:"
   ]
  },
  {
   "cell_type": "code",
   "execution_count": 245,
   "metadata": {},
   "outputs": [
    {
     "name": "stdout",
     "output_type": "stream",
     "text": [
      " sigma_1:  0.1186 \n",
      " sigma_2:  0.0564 \n",
      " sigma_3:  0.0388\n"
     ]
    }
   ],
   "source": [
    "stdDev = np.sqrt(pca.explained_variance_)\n",
    "print(\" sigma_1: {s1: .4f} \\n sigma_2: {s2: .4f} \\n sigma_3: {s3: .4f}\".format(\n",
    "    s1 = stdDev[0], s2 = stdDev[1], s3 = stdDev[2]))"
   ]
  },
  {
   "cell_type": "markdown",
   "metadata": {},
   "source": [
    "### c. Finding combinations for Stress Testing"
   ]
  },
  {
   "cell_type": "markdown",
   "metadata": {},
   "source": [
    "Let $F$ be the matrix corresponding to the factor loadings. Then, $P = X \\times F$ corresponds to the principal component score for each principal component for each observation. I peform this calculation, then find the means of the first three principal components: "
   ]
  },
  {
   "cell_type": "code",
   "execution_count": 276,
   "metadata": {},
   "outputs": [
    {
     "name": "stdout",
     "output_type": "stream",
     "text": [
      "First component mean: 0.003887\n",
      "Second component mean:-0.001062\n",
      "Third component mean: 0.003294\n"
     ]
    }
   ],
   "source": [
    "P = curveForPCA.values @ pca.components_\n",
    "mu = np.average(P, axis = 0)[0:3]\n",
    "print(\"First component mean:{mu_1: .6f}\".format(mu_1 = mu[0]))\n",
    "print(\"Second component mean:{mu_2: .6f}\".format(mu_2 = mu[1]))\n",
    "print(\"Third component mean:{mu_3: .6f}\".format(mu_3 = mu[2]))"
   ]
  },
  {
   "cell_type": "markdown",
   "metadata": {},
   "source": [
    "Using the component means and standard deviations, I highlight the 8 scenarios of combinations of values:"
   ]
  },
  {
   "cell_type": "code",
   "execution_count": 288,
   "metadata": {},
   "outputs": [
    {
     "data": {
      "text/plain": [
       "[(-0.191885, -0.094106, -0.060753),\n",
       " (-0.191885, -0.094106, 0.067341),\n",
       " (-0.191885, 0.091983, -0.060753),\n",
       " (-0.191885, 0.091983, 0.067341),\n",
       " (0.199658, -0.094106, -0.060753),\n",
       " (0.199658, -0.094106, 0.067341),\n",
       " (0.199658, 0.091983, -0.060753),\n",
       " (0.199658, 0.091983, 0.067341)]"
      ]
     },
     "execution_count": 288,
     "metadata": {},
     "output_type": "execute_result"
    }
   ],
   "source": [
    "pc1Val = np.round(np.array([mu[0] - 1.65*stdDev[0], mu[0] + 1.65*stdDev[0]]),6)\n",
    "pc2Val = np.round(np.array([mu[1] - 1.65*stdDev[1], mu[1] + 1.65*stdDev[1]]), 6)\n",
    "pc3Val = np.round(np.array([mu[2] - 1.65*stdDev[2], mu[2] + 1.65*stdDev[2]]), 6)\n",
    "possibilities = list(itertools.product(pc1Val, pc2Val, pc3Val))\n",
    "possibilities"
   ]
  },
  {
   "cell_type": "markdown",
   "metadata": {},
   "source": [
    "### d. Translating Bumps to Exponential Plotting"
   ]
  },
  {
   "cell_type": "markdown",
   "metadata": {},
   "source": [
    "Using these possible values, I plot interest rate changes against time to maturity under each scenario:"
   ]
  },
  {
   "cell_type": "code",
   "execution_count": 312,
   "metadata": {},
   "outputs": [
    {
     "data": {
      "image/png": "[encoded data removed]",
      "text/plain": [
       "<Figure size 640x480 with 1 Axes>"
      ]
     },
     "metadata": {},
     "output_type": "display_data"
    }
   ],
   "source": [
    "factor_inv = np.linalg.inv(pca.components_)\n",
    "fig = plt.figure()\n",
    "ax = plt.subplot(111)\n",
    "\n",
    "for i in range(len(possibilities)):\n",
    "    full_pc = np.append(np.asarray(possibilities[i]), [0]*10)\n",
    "    changes = factor_inv @ full_pc\n",
    "    ax.plot(lFrame[\"Time to Maturity\"], np.exp(changes),\n",
    "             label = \"Scenario {num: .0f}\".format(num = i + 1))\n",
    "ax.legend(bbox_to_anchor=(1.05, 1))\n",
    "ax.set_xlabel(\"Time To Maturity\")\n",
    "ax.set_ylabel(\"Exponential of rate Change\")\n",
    "ax.set_title(\"Exponential of Yield Change vs. Maturity Time, 8 Scenarios\")\n",
    "plt.show()"
   ]
  },
  {
   "cell_type": "markdown",
   "metadata": {},
   "source": [
    "## $\\underline{\\text{Question 5}}$"
   ]
  },
  {
   "cell_type": "code",
   "execution_count": null,
   "metadata": {},
   "outputs": [],
   "source": [
    "default_spread = 200\n",
    "zrate = .05\n",
    "hrate = 0.04\n",
    "S_t = np.exp(-1 * hrate)\n"
   ]
  },
  {
   "cell_type": "code",
   "execution_count": null,
   "metadata": {},
   "outputs": [],
   "source": [
    "def discount(t):\n",
    "    "
   ]
  }
 ],
 "metadata": {
  "kernelspec": {
   "display_name": ".venv",
   "language": "python",
   "name": "python3"
  },
  "language_info": {
   "codemirror_mode": {
    "name": "ipython",
    "version": 3
   },
   "file_extension": ".py",
   "mimetype": "text/x-python",
   "name": "python",
   "nbconvert_exporter": "python",
   "pygments_lexer": "ipython3",
   "version": "3.11.7"
  }
 },
 "nbformat": 4,
 "nbformat_minor": 2
}
