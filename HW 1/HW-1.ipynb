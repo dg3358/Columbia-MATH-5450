{
 "cells": [
  {
   "cell_type": "markdown",
   "metadata": {},
   "source": [
    "# Homework 1 - Credit Analytics\n",
    "Submission by Dennis Goldenberg"
   ]
  },
  {
   "cell_type": "code",
   "execution_count": 115,
   "metadata": {},
   "outputs": [],
   "source": [
    "import matplotlib.pyplot as plt\n",
    "from sklearn.decomposition import PCA\n",
    "from sklearn.preprocessing import StandardScaler\n",
    "import pandas as pd\n",
    "import pandas_datareader.data as web\n",
    "import numpy as np\n",
    "import datetime as dt"
   ]
  },
  {
   "cell_type": "markdown",
   "metadata": {},
   "source": [
    "## $\\text{\\underline{Question 1}}$"
   ]
  },
  {
   "cell_type": "markdown",
   "metadata": {},
   "source": [
    "### a. Proving $F(X) \\sim \\text{Uniform}(0,1)$\n",
    "Note that $F(x) = \\mathbb{P}(X \\leq x)$ and the support of a probability function is $S(\\mathbb{P}(\\cdot)) = (0,1]$. Therefore:\n",
    "$$\n",
    "\\begin{equation*}\n",
    "F(X) = \\mathbb{P}(X \\leq X) = 1 \\sim \\text{Uniform}(0,1)\n",
    "\\end{equation*}\n",
    "$$"
   ]
  },
  {
   "cell_type": "markdown",
   "metadata": {},
   "source": [
    "### b. Proving $F^{-1}(U) \\equiv X$\n",
    "Let $U \\sim \\text{Uniform}(0,1)$. Note that, via the definition of inverse function:\n",
    "$$\n",
    "\\begin{equation*}\n",
    "F^{-1}\\left(F(X)\\right) = X\n",
    "\\end{equation*}\n",
    "$$\n",
    "From a, $F(X) \\equiv U(0,1)$, so $F^{-1}\\left(U\\right) \\equiv F^{-1}\\left(F(X)\\right)$. So:\n",
    "$$\n",
    "\\begin{equation*}\n",
    "F^{-1}\\left(U\\right) \\equiv F^{-1}\\left(F(X)\\right) = X \\rightarrow F^{-1}\\left(U\\right) \\equiv X\n",
    "\\end{equation*}\n",
    "$$"
   ]
  },
  {
   "cell_type": "markdown",
   "metadata": {},
   "source": [
    "### c. Proving $\\Phi^{-1}(F(X)) \\equiv Y \\sim N(0,1)$\n",
    "From a, $F(X) \\equiv U(0,1)$. Note that $F(y) = \\Phi(y)$. Using the result from b:\n",
    "$$\n",
    "\\begin{equation*}\n",
    "\\Phi^{-1}(F(X)) \\equiv \\Phi^{-1}(U) = F_{Y}^{-1}(U) \\equiv Y\n",
    "\\end{equation*}\n",
    "$$\n",
    "Thus, $\\Phi^{-1}(F(X)) \\equiv Y \\sim N(0,1)$."
   ]
  },
  {
   "cell_type": "markdown",
   "metadata": {},
   "source": [
    "## $\\text{\\underline{Question 2}}$"
   ]
  },
  {
   "cell_type": "markdown",
   "metadata": {},
   "source": [
    "### a. Deriving survival function\n",
    "Note that, from a formula in class, $S(t) = \\mathbb{P}(\\tau > t) = e^{-\\int_0^{t}h(s)ds}$. Thus, I have:\n",
    "$$ \n",
    "\\begin{align*}\n",
    "S(t) = e^{-\\int_0^{t}\\alpha e^{\\beta s}ds} = e^{-\\alpha\\int_0^{t}e^{\\beta s}ds} &= e^{-\\alpha\\left[\\frac{1}{\\beta}e^{\\beta s}\\right]_{0}^{t}} = e^{-\\frac{\\alpha}{\\beta}\\left[e^{\\beta t} - 1\\right]} = e^{\\frac{\\alpha}{\\beta} - \\frac{\\alpha}{\\beta}e^{\\beta t}}\n",
    "\\end{align*}\n",
    "$$"
   ]
  },
  {
   "cell_type": "markdown",
   "metadata": {},
   "source": [
    "### b. Deriving the distribution function\n",
    "Using the fact that $S(t) = 1 - F(t) \\rightarrow F(t) + S(t) = 1 \\rightarrow F(t) = 1 - S(t)$, I compute:\n",
    "$$\n",
    "\\begin{equation*}\n",
    "F(t) = 1 - S(t)  = 1 - e^{\\frac{\\alpha}{\\beta} - \\frac{\\alpha}{\\beta}e^{\\beta t}} \n",
    "\\end{equation*}\n",
    "$$"
   ]
  },
  {
   "cell_type": "markdown",
   "metadata": {},
   "source": [
    "### c. Deriving the density function \n",
    "The density function is the derivative of the disrtibution function. I use this and apply the chain rule for derivatives:\n",
    "$$\n",
    "\\begin{align*}\n",
    "f(t) = \\frac{d}{dt}F(t) = \\frac{d}{dt}\\left(1 - e^{\\frac{\\alpha}{\\beta} - \\frac{\\alpha}{\\beta}e^{\\beta t}}\\right) &= -e^{\\frac{\\alpha}{\\beta}}\\frac{d}{dt}\\left(e^{-\\frac{\\alpha}{\\beta}e^{\\beta t}}\\right)\\\\\n",
    "&= -e^{\\frac{\\alpha}{\\beta}} * e^{-\\frac{\\alpha}{\\beta}e^{\\beta t}} * \\frac{d}{dt}\\left(-\\frac{\\alpha}{\\beta}e^{\\beta t}\\right)\\\\\n",
    "&= -e^{\\frac{\\alpha}{\\beta}} * e^{-\\frac{\\alpha}{\\beta}e^{\\beta t}} * -\\alpha e^{\\beta t}\\\\\n",
    "&= \\alpha e^{\\beta t +\\frac{\\alpha}{\\beta} - \\frac{\\alpha}{\\beta}e^{\\beta t}}\\\\\n",
    "&= \\alpha e^{\\beta t + \\frac{\\alpha}{\\beta}\\left(1 - e^{\\beta t}\\right)}\n",
    "\\end{align*}\n",
    "$$"
   ]
  },
  {
   "cell_type": "markdown",
   "metadata": {},
   "source": [
    "## $\\text{\\underline{Question 3}}$"
   ]
  },
  {
   "cell_type": "markdown",
   "metadata": {},
   "source": [
    "### a. Calculating Expected Value and Variance for Payout at Default\n",
    "Note that the probability of default at any specific time is given by the hazard function $h(t) = h$, as the hazard function is the probability of default conditional on survival up until that point. Further, since 100 dollars is paid out at time of default, and an instantaneous forward rate is $r(t) = r$, I calculate the discount factor from time $t$ back to to time 0 as:\n",
    "$$\n",
    "D(0,t) = e^{-\\int_0^{t}r(s)ds} = e^{-\\int_0^{t}rds} = e^{-rt}\n",
    "$$\n",
    "Thus, the present value of a contract that defaults at time $t$ is:\n",
    "$$\n",
    "PV(C|\\text{Default at time t}) = 100e^{-rt}\n",
    "$$\n",
    "The payout for no default is 0, so this does not have to be discounted to the present, as it will still be 0. Therefore, I calculate the expected value:\n",
    "$$\n",
    "\\begin{align*}\n",
    "\\mathbb{E}[PV(C)] = \\int_0^{T}PV_t(C)*\\mathbb{P}(\\text{default at }t)dt &= \\int_0^{T}100e^{-rt}*hdt\\\\\n",
    "&= 100h\\int_0^{T}e^{-rt}dt\\\\\n",
    "&= 100h\\left[\\frac{-1}{r}e^{-rt}\\right]_0^T\\\\\n",
    "&= \\frac{100h}{r}\\left(1 - e^{-rT}\\right)\n",
    "\\end{align*}\n",
    "$$\n",
    "For variance, I use a common relation of variance to calculate:\n",
    "$$\n",
    "\\begin{align*}\n",
    "Var[PV(C)] = \\mathbb{E}[PV(C)^2] - \\mathbb{E}[PV(C)]^2 &= \\int_0^{T}PV_t(C)^2*\\mathbb{P}(\\text{default at }t)dt - \\left(\\frac{100h}{r}\\left(1 - e^{-rT}\\right)\\right)^2\\\\\n",
    "&= \\int_0^{T}\\left(100e^{-rt}\\right)^2*h dt - \\frac{10,000h^2}{r^2}\\left(1 - e^{-rT}\\right)^2\\\\\n",
    "&= 10,000h\\int_0^{T}e^{-2rt}dt - \\frac{10,000h^2}{r^2}\\left(1 - e^{-rT}\\right)^2\\\\\n",
    "&= 10,000h\\left[\\frac{-1}{2r}e^{-2rt}\\right]_0^{T} - \\frac{10,000h^2}{r^2}\\left(1 - e^{-rT}\\right)^2\\\\\n",
    "&= 10,000h * \\frac{1}{2r}\\left(1 - e^{-2rT}\\right)- \\frac{10,000h^2}{r^2}\\left(1 - e^{-rT}\\right)^2\\\\\n",
    "&= \\frac{5,000h}{r}\\left(1 - e^{-2rT}\\right) - \\frac{10,000h^2}{r^2}\\left(1 - e^{-rT}\\right)^2\\\\\n",
    "&= \\frac{5,000h}{r}\\left(1 - e^{-rT}\\right)\\left(1 + e^{-rT}\\right) - \\frac{10,000h^2}{r^2}\\left(1 - e^{-rT}\\right)^2\\\\\n",
    "&= \\frac{5000h}{r}\\left(1 - e^{-rT}\\right)\\left(1 + e^{-rT} - \\frac{2h}{r}\\left(1 - e^{-rT}\\right)\\right)\n",
    "\\end{align*}\n",
    "$$"
   ]
  },
  {
   "cell_type": "markdown",
   "metadata": {},
   "source": [
    "### b. Calculate Expected Value, Variance for Payout if No Default\n",
    "\n",
    "Here, I note that $PV(C) = \\sum_{t = 1}^{T}PV(CF_t)$. In this case:\n",
    "$$\n",
    "PV(CF_t) = \\begin{cases} 0 & \\text{ if default before t} \\\\ 100e^{-rt} & \\text{ if survive until t}\\end{cases}\n",
    "$$\n",
    "Since the hazard rate is a constant $h$, then the underlying distribution of default time is $\\text{Exponential}(h)$. Therefore, the probability of survival until year $t$ is $S(t) = e^{-ht}$. Therefore:\n",
    "$$\n",
    "\\mathbb{E}\\left[PV(CF_t)\\right] = 0 * \\mathbb{P}(\\text{default before t}) + 100e^{-rt} * \\mathbb{P}(\\text{Survive until t}) = 100e^{-rt}e^{-ht} = 100e^{-(r + h)t}\n",
    "$$\n",
    "I can then calculate the expected value of the present value using the sum of a geometric series:\n",
    "$$\n",
    "\\begin{align*}\n",
    "\\mathbb{E}[PV(C)] = \\mathbb{E}\\left[\\sum_{t = 1}^{T}PV(CF_t)\\right] &= \\sum_{t = 1}^{T}\\mathbb{E}\\left[PV(CF_t)\\right]\\\\\n",
    "&=\\sum_{t = 1}^{T}100e^{-(r + h)t}\\\\\n",
    "&=100\\sum_{t = 1}^{T}e^{-(r + h)t}\\\\\n",
    "&=100\\left(\\frac{e^{-(r + h)} - e^{-(r + h)(T + 1)}}{1 - e^{-(r + h)}}\\right)\\\\\n",
    "&=100e^{-(r + h)}\\left(\\frac{1 - e^{-(r + h)T}}{1 - e^{-(r + h)}}\\right)\\\\\n",
    "&=\\frac{100e^{-(r + h)}}{1 - e^{-(r + h)}}\\left(1 - e^{-(r + h)T}\\right)\n",
    "\\end{align*} \n",
    "$$"
   ]
  },
  {
   "cell_type": "markdown",
   "metadata": {},
   "source": [
    "## $\\underline{\\text{Question 4}}$"
   ]
  },
  {
   "cell_type": "markdown",
   "metadata": {},
   "source": [
    "### a. Calculating the covariance matrix\n",
    "I first import the data (and linearly interpolate for the missing maturities):"
   ]
  },
  {
   "cell_type": "code",
   "execution_count": 204,
   "metadata": {},
   "outputs": [
    {
     "data": {
      "text/html": [
       "<div>\n",
       "<style scoped>\n",
       "    .dataframe tbody tr th:only-of-type {\n",
       "        vertical-align: middle;\n",
       "    }\n",
       "\n",
       "    .dataframe tbody tr th {\n",
       "        vertical-align: top;\n",
       "    }\n",
       "\n",
       "    .dataframe thead th {\n",
       "        text-align: right;\n",
       "    }\n",
       "</style>\n",
       "<table border=\"1\" class=\"dataframe\">\n",
       "  <thead>\n",
       "    <tr style=\"text-align: right;\">\n",
       "      <th></th>\n",
       "      <th>DGS1MO</th>\n",
       "      <th>DGS3MO</th>\n",
       "      <th>DGS6MO</th>\n",
       "      <th>DGS1</th>\n",
       "      <th>DGS2</th>\n",
       "      <th>DGS3</th>\n",
       "      <th>DGS4</th>\n",
       "      <th>DGS5</th>\n",
       "      <th>DGS6</th>\n",
       "      <th>DGS7</th>\n",
       "      <th>DGS8</th>\n",
       "      <th>DGS9</th>\n",
       "      <th>DGS10</th>\n",
       "      <th>DGS15</th>\n",
       "      <th>DGS20</th>\n",
       "      <th>DGS30</th>\n",
       "    </tr>\n",
       "    <tr>\n",
       "      <th>DATE</th>\n",
       "      <th></th>\n",
       "      <th></th>\n",
       "      <th></th>\n",
       "      <th></th>\n",
       "      <th></th>\n",
       "      <th></th>\n",
       "      <th></th>\n",
       "      <th></th>\n",
       "      <th></th>\n",
       "      <th></th>\n",
       "      <th></th>\n",
       "      <th></th>\n",
       "      <th></th>\n",
       "      <th></th>\n",
       "      <th></th>\n",
       "      <th></th>\n",
       "    </tr>\n",
       "  </thead>\n",
       "  <tbody>\n",
       "    <tr>\n",
       "      <th>2012-02-02</th>\n",
       "      <td>0.07</td>\n",
       "      <td>0.08</td>\n",
       "      <td>0.10</td>\n",
       "      <td>0.14</td>\n",
       "      <td>0.23</td>\n",
       "      <td>0.31</td>\n",
       "      <td>0.51</td>\n",
       "      <td>0.71</td>\n",
       "      <td>0.98</td>\n",
       "      <td>1.25</td>\n",
       "      <td>1.45</td>\n",
       "      <td>1.66</td>\n",
       "      <td>1.86</td>\n",
       "      <td>2.25</td>\n",
       "      <td>2.64</td>\n",
       "      <td>3.01</td>\n",
       "    </tr>\n",
       "    <tr>\n",
       "      <th>2012-02-03</th>\n",
       "      <td>0.06</td>\n",
       "      <td>0.08</td>\n",
       "      <td>0.10</td>\n",
       "      <td>0.14</td>\n",
       "      <td>0.23</td>\n",
       "      <td>0.33</td>\n",
       "      <td>0.56</td>\n",
       "      <td>0.78</td>\n",
       "      <td>1.06</td>\n",
       "      <td>1.35</td>\n",
       "      <td>1.56</td>\n",
       "      <td>1.76</td>\n",
       "      <td>1.97</td>\n",
       "      <td>2.36</td>\n",
       "      <td>2.76</td>\n",
       "      <td>3.13</td>\n",
       "    </tr>\n",
       "    <tr>\n",
       "      <th>2012-02-06</th>\n",
       "      <td>0.04</td>\n",
       "      <td>0.08</td>\n",
       "      <td>0.10</td>\n",
       "      <td>0.14</td>\n",
       "      <td>0.24</td>\n",
       "      <td>0.32</td>\n",
       "      <td>0.54</td>\n",
       "      <td>0.76</td>\n",
       "      <td>1.04</td>\n",
       "      <td>1.32</td>\n",
       "      <td>1.52</td>\n",
       "      <td>1.73</td>\n",
       "      <td>1.93</td>\n",
       "      <td>2.32</td>\n",
       "      <td>2.71</td>\n",
       "      <td>3.08</td>\n",
       "    </tr>\n",
       "    <tr>\n",
       "      <th>2012-02-07</th>\n",
       "      <td>0.06</td>\n",
       "      <td>0.08</td>\n",
       "      <td>0.11</td>\n",
       "      <td>0.14</td>\n",
       "      <td>0.25</td>\n",
       "      <td>0.35</td>\n",
       "      <td>0.58</td>\n",
       "      <td>0.82</td>\n",
       "      <td>1.10</td>\n",
       "      <td>1.39</td>\n",
       "      <td>1.59</td>\n",
       "      <td>1.80</td>\n",
       "      <td>2.00</td>\n",
       "      <td>2.39</td>\n",
       "      <td>2.78</td>\n",
       "      <td>3.14</td>\n",
       "    </tr>\n",
       "    <tr>\n",
       "      <th>2012-02-08</th>\n",
       "      <td>0.06</td>\n",
       "      <td>0.09</td>\n",
       "      <td>0.11</td>\n",
       "      <td>0.15</td>\n",
       "      <td>0.27</td>\n",
       "      <td>0.35</td>\n",
       "      <td>0.58</td>\n",
       "      <td>0.82</td>\n",
       "      <td>1.10</td>\n",
       "      <td>1.39</td>\n",
       "      <td>1.60</td>\n",
       "      <td>1.80</td>\n",
       "      <td>2.01</td>\n",
       "      <td>2.39</td>\n",
       "      <td>2.78</td>\n",
       "      <td>3.14</td>\n",
       "    </tr>\n",
       "    <tr>\n",
       "      <th>...</th>\n",
       "      <td>...</td>\n",
       "      <td>...</td>\n",
       "      <td>...</td>\n",
       "      <td>...</td>\n",
       "      <td>...</td>\n",
       "      <td>...</td>\n",
       "      <td>...</td>\n",
       "      <td>...</td>\n",
       "      <td>...</td>\n",
       "      <td>...</td>\n",
       "      <td>...</td>\n",
       "      <td>...</td>\n",
       "      <td>...</td>\n",
       "      <td>...</td>\n",
       "      <td>...</td>\n",
       "      <td>...</td>\n",
       "    </tr>\n",
       "    <tr>\n",
       "      <th>2023-01-30</th>\n",
       "      <td>4.60</td>\n",
       "      <td>4.72</td>\n",
       "      <td>4.82</td>\n",
       "      <td>4.71</td>\n",
       "      <td>4.25</td>\n",
       "      <td>3.96</td>\n",
       "      <td>3.82</td>\n",
       "      <td>3.68</td>\n",
       "      <td>3.65</td>\n",
       "      <td>3.62</td>\n",
       "      <td>3.60</td>\n",
       "      <td>3.57</td>\n",
       "      <td>3.55</td>\n",
       "      <td>3.67</td>\n",
       "      <td>3.79</td>\n",
       "      <td>3.66</td>\n",
       "    </tr>\n",
       "    <tr>\n",
       "      <th>2023-01-31</th>\n",
       "      <td>4.58</td>\n",
       "      <td>4.70</td>\n",
       "      <td>4.80</td>\n",
       "      <td>4.68</td>\n",
       "      <td>4.21</td>\n",
       "      <td>3.90</td>\n",
       "      <td>3.76</td>\n",
       "      <td>3.63</td>\n",
       "      <td>3.61</td>\n",
       "      <td>3.59</td>\n",
       "      <td>3.57</td>\n",
       "      <td>3.54</td>\n",
       "      <td>3.52</td>\n",
       "      <td>3.65</td>\n",
       "      <td>3.78</td>\n",
       "      <td>3.65</td>\n",
       "    </tr>\n",
       "    <tr>\n",
       "      <th>2023-02-01</th>\n",
       "      <td>4.59</td>\n",
       "      <td>4.66</td>\n",
       "      <td>4.79</td>\n",
       "      <td>4.66</td>\n",
       "      <td>4.09</td>\n",
       "      <td>3.75</td>\n",
       "      <td>3.62</td>\n",
       "      <td>3.48</td>\n",
       "      <td>3.46</td>\n",
       "      <td>3.43</td>\n",
       "      <td>3.42</td>\n",
       "      <td>3.40</td>\n",
       "      <td>3.39</td>\n",
       "      <td>3.53</td>\n",
       "      <td>3.67</td>\n",
       "      <td>3.55</td>\n",
       "    </tr>\n",
       "    <tr>\n",
       "      <th>2023-02-02</th>\n",
       "      <td>4.62</td>\n",
       "      <td>4.66</td>\n",
       "      <td>4.76</td>\n",
       "      <td>4.64</td>\n",
       "      <td>4.09</td>\n",
       "      <td>3.75</td>\n",
       "      <td>3.62</td>\n",
       "      <td>3.49</td>\n",
       "      <td>3.46</td>\n",
       "      <td>3.44</td>\n",
       "      <td>3.43</td>\n",
       "      <td>3.41</td>\n",
       "      <td>3.40</td>\n",
       "      <td>3.54</td>\n",
       "      <td>3.67</td>\n",
       "      <td>3.55</td>\n",
       "    </tr>\n",
       "    <tr>\n",
       "      <th>2023-02-03</th>\n",
       "      <td>4.61</td>\n",
       "      <td>4.70</td>\n",
       "      <td>4.82</td>\n",
       "      <td>4.79</td>\n",
       "      <td>4.30</td>\n",
       "      <td>3.96</td>\n",
       "      <td>3.82</td>\n",
       "      <td>3.67</td>\n",
       "      <td>3.64</td>\n",
       "      <td>3.61</td>\n",
       "      <td>3.58</td>\n",
       "      <td>3.56</td>\n",
       "      <td>3.53</td>\n",
       "      <td>3.65</td>\n",
       "      <td>3.77</td>\n",
       "      <td>3.63</td>\n",
       "    </tr>\n",
       "  </tbody>\n",
       "</table>\n",
       "<p>2753 rows × 16 columns</p>\n",
       "</div>"
      ],
      "text/plain": [
       "            DGS1MO  DGS3MO  DGS6MO  DGS1  DGS2  DGS3  DGS4  DGS5  DGS6  DGS7  \\\n",
       "DATE                                                                           \n",
       "2012-02-02    0.07    0.08    0.10  0.14  0.23  0.31  0.51  0.71  0.98  1.25   \n",
       "2012-02-03    0.06    0.08    0.10  0.14  0.23  0.33  0.56  0.78  1.06  1.35   \n",
       "2012-02-06    0.04    0.08    0.10  0.14  0.24  0.32  0.54  0.76  1.04  1.32   \n",
       "2012-02-07    0.06    0.08    0.11  0.14  0.25  0.35  0.58  0.82  1.10  1.39   \n",
       "2012-02-08    0.06    0.09    0.11  0.15  0.27  0.35  0.58  0.82  1.10  1.39   \n",
       "...            ...     ...     ...   ...   ...   ...   ...   ...   ...   ...   \n",
       "2023-01-30    4.60    4.72    4.82  4.71  4.25  3.96  3.82  3.68  3.65  3.62   \n",
       "2023-01-31    4.58    4.70    4.80  4.68  4.21  3.90  3.76  3.63  3.61  3.59   \n",
       "2023-02-01    4.59    4.66    4.79  4.66  4.09  3.75  3.62  3.48  3.46  3.43   \n",
       "2023-02-02    4.62    4.66    4.76  4.64  4.09  3.75  3.62  3.49  3.46  3.44   \n",
       "2023-02-03    4.61    4.70    4.82  4.79  4.30  3.96  3.82  3.67  3.64  3.61   \n",
       "\n",
       "            DGS8  DGS9  DGS10  DGS15  DGS20  DGS30  \n",
       "DATE                                                \n",
       "2012-02-02  1.45  1.66   1.86   2.25   2.64   3.01  \n",
       "2012-02-03  1.56  1.76   1.97   2.36   2.76   3.13  \n",
       "2012-02-06  1.52  1.73   1.93   2.32   2.71   3.08  \n",
       "2012-02-07  1.59  1.80   2.00   2.39   2.78   3.14  \n",
       "2012-02-08  1.60  1.80   2.01   2.39   2.78   3.14  \n",
       "...          ...   ...    ...    ...    ...    ...  \n",
       "2023-01-30  3.60  3.57   3.55   3.67   3.79   3.66  \n",
       "2023-01-31  3.57  3.54   3.52   3.65   3.78   3.65  \n",
       "2023-02-01  3.42  3.40   3.39   3.53   3.67   3.55  \n",
       "2023-02-02  3.43  3.41   3.40   3.54   3.67   3.55  \n",
       "2023-02-03  3.58  3.56   3.53   3.65   3.77   3.63  \n",
       "\n",
       "[2753 rows x 16 columns]"
      ]
     },
     "execution_count": 204,
     "metadata": {},
     "output_type": "execute_result"
    }
   ],
   "source": [
    "ticker = ['DGS1MO',  'DGS3MO', 'DGS6MO','DGS1','DGS2',\n",
    "           'DGS3', 'DGS5','DGS7', 'DGS10','DGS20','DGS30']\n",
    "#ticker = ['DGS1MO',  'DGS3MO', 'DGS6MO','DGS1','DGS2',\n",
    "#           'DGS3', 'DGS4','DGS5','DGS6','DGS7','DGS8',\n",
    "#           'DGS9', 'DGS10', 'DGS15','DGS20','DGS30']\n",
    "sdt = dt.datetime(2012, 2, 2)\n",
    "edt = dt.datetime(2023, 2, 3)\n",
    "source = 'fred'\n",
    "yieldcurve = pd.DataFrame(web.DataReader(ticker, source, sdt, edt))\n",
    "yieldcurve = yieldcurve.dropna()\n",
    "yieldcurve.insert(np.where(yieldcurve.columns.values == 'DGS3')[0][0] + 1,\n",
    "                 \"DGS4\",round(0.5*yieldcurve[\"DGS3\"] + 0.5*yieldcurve[\"DGS5\"],2))\n",
    "yieldcurve.insert(np.where(yieldcurve.columns.values == 'DGS5')[0][0] + 1,\n",
    "                 \"DGS6\",round(0.5*yieldcurve[\"DGS5\"] + 0.5*yieldcurve[\"DGS7\"],2))\n",
    "yieldcurve.insert(np.where(yieldcurve.columns.values == 'DGS7')[0][0] + 1,\n",
    "                 \"DGS8\",round((2/3)*yieldcurve[\"DGS7\"] + (1/3)*yieldcurve[\"DGS10\"],2))\n",
    "yieldcurve.insert(np.where(yieldcurve.columns.values == 'DGS8')[0][0] + 1,\n",
    "                 \"DGS9\",round((1/3)*yieldcurve[\"DGS7\"] + (2/3)*yieldcurve[\"DGS10\"],2))\n",
    "yieldcurve.insert(np.where(yieldcurve.columns.values == 'DGS10')[0][0] + 1,\n",
    "                 \"DGS15\",round((0.5)*yieldcurve[\"DGS10\"] + (0.5)*yieldcurve[\"DGS20\"],2))\n",
    "yieldcurve.to_csv('yieldcurvenona.csv')\n",
    "yieldcurve\n",
    "## Find percentage change matrix (assume 1 day difference in each case)\n",
    "## df.pct_change().dropna()"
   ]
  },
  {
   "cell_type": "markdown",
   "metadata": {},
   "source": [
    "Then, I generate the covariance matrix for the maturities specified in the problem:"
   ]
  },
  {
   "cell_type": "code",
   "execution_count": 21,
   "metadata": {},
   "outputs": [
    {
     "data": {
      "text/html": [
       "<div>\n",
       "<style scoped>\n",
       "    .dataframe tbody tr th:only-of-type {\n",
       "        vertical-align: middle;\n",
       "    }\n",
       "\n",
       "    .dataframe tbody tr th {\n",
       "        vertical-align: top;\n",
       "    }\n",
       "\n",
       "    .dataframe thead th {\n",
       "        text-align: right;\n",
       "    }\n",
       "</style>\n",
       "<table border=\"1\" class=\"dataframe\">\n",
       "  <thead>\n",
       "    <tr style=\"text-align: right;\">\n",
       "      <th></th>\n",
       "      <th>DGS1</th>\n",
       "      <th>DGS2</th>\n",
       "      <th>DGS3</th>\n",
       "      <th>DGS4</th>\n",
       "      <th>DGS5</th>\n",
       "      <th>DGS6</th>\n",
       "      <th>DGS7</th>\n",
       "      <th>DGS8</th>\n",
       "      <th>DGS9</th>\n",
       "      <th>DGS10</th>\n",
       "      <th>DGS15</th>\n",
       "      <th>DGS20</th>\n",
       "      <th>DGS30</th>\n",
       "    </tr>\n",
       "  </thead>\n",
       "  <tbody>\n",
       "    <tr>\n",
       "      <th>DGS1</th>\n",
       "      <td>1.254743</td>\n",
       "      <td>1.163028</td>\n",
       "      <td>1.056362</td>\n",
       "      <td>0.943845</td>\n",
       "      <td>0.831012</td>\n",
       "      <td>0.749017</td>\n",
       "      <td>0.667030</td>\n",
       "      <td>0.612353</td>\n",
       "      <td>0.557830</td>\n",
       "      <td>0.503152</td>\n",
       "      <td>0.429241</td>\n",
       "      <td>0.355424</td>\n",
       "      <td>0.228736</td>\n",
       "    </tr>\n",
       "    <tr>\n",
       "      <th>DGS2</th>\n",
       "      <td>1.163028</td>\n",
       "      <td>1.105380</td>\n",
       "      <td>1.022073</td>\n",
       "      <td>0.923616</td>\n",
       "      <td>0.824877</td>\n",
       "      <td>0.748844</td>\n",
       "      <td>0.672816</td>\n",
       "      <td>0.619826</td>\n",
       "      <td>0.566992</td>\n",
       "      <td>0.514002</td>\n",
       "      <td>0.440818</td>\n",
       "      <td>0.367693</td>\n",
       "      <td>0.244958</td>\n",
       "    </tr>\n",
       "    <tr>\n",
       "      <th>DGS3</th>\n",
       "      <td>1.056362</td>\n",
       "      <td>1.022073</td>\n",
       "      <td>0.962211</td>\n",
       "      <td>0.881505</td>\n",
       "      <td>0.800539</td>\n",
       "      <td>0.733968</td>\n",
       "      <td>0.667408</td>\n",
       "      <td>0.618746</td>\n",
       "      <td>0.570213</td>\n",
       "      <td>0.521552</td>\n",
       "      <td>0.452688</td>\n",
       "      <td>0.383862</td>\n",
       "      <td>0.269193</td>\n",
       "    </tr>\n",
       "    <tr>\n",
       "      <th>DGS4</th>\n",
       "      <td>0.943845</td>\n",
       "      <td>0.923616</td>\n",
       "      <td>0.881505</td>\n",
       "      <td>0.818272</td>\n",
       "      <td>0.754794</td>\n",
       "      <td>0.699463</td>\n",
       "      <td>0.644156</td>\n",
       "      <td>0.602204</td>\n",
       "      <td>0.560337</td>\n",
       "      <td>0.518385</td>\n",
       "      <td>0.457012</td>\n",
       "      <td>0.395667</td>\n",
       "      <td>0.293242</td>\n",
       "    </tr>\n",
       "    <tr>\n",
       "      <th>DGS5</th>\n",
       "      <td>0.831012</td>\n",
       "      <td>0.824877</td>\n",
       "      <td>0.800539</td>\n",
       "      <td>0.754794</td>\n",
       "      <td>0.708867</td>\n",
       "      <td>0.664816</td>\n",
       "      <td>0.620802</td>\n",
       "      <td>0.585598</td>\n",
       "      <td>0.550436</td>\n",
       "      <td>0.515232</td>\n",
       "      <td>0.461390</td>\n",
       "      <td>0.407564</td>\n",
       "      <td>0.317476</td>\n",
       "    </tr>\n",
       "    <tr>\n",
       "      <th>DGS6</th>\n",
       "      <td>0.749017</td>\n",
       "      <td>0.748844</td>\n",
       "      <td>0.733968</td>\n",
       "      <td>0.699463</td>\n",
       "      <td>0.664816</td>\n",
       "      <td>0.629212</td>\n",
       "      <td>0.593627</td>\n",
       "      <td>0.564201</td>\n",
       "      <td>0.534787</td>\n",
       "      <td>0.505361</td>\n",
       "      <td>0.458606</td>\n",
       "      <td>0.411866</td>\n",
       "      <td>0.332040</td>\n",
       "    </tr>\n",
       "    <tr>\n",
       "      <th>DGS7</th>\n",
       "      <td>0.667030</td>\n",
       "      <td>0.672816</td>\n",
       "      <td>0.667408</td>\n",
       "      <td>0.644156</td>\n",
       "      <td>0.620802</td>\n",
       "      <td>0.593627</td>\n",
       "      <td>0.566504</td>\n",
       "      <td>0.542858</td>\n",
       "      <td>0.519193</td>\n",
       "      <td>0.495546</td>\n",
       "      <td>0.455877</td>\n",
       "      <td>0.416220</td>\n",
       "      <td>0.346659</td>\n",
       "    </tr>\n",
       "    <tr>\n",
       "      <th>DGS8</th>\n",
       "      <td>0.612353</td>\n",
       "      <td>0.619826</td>\n",
       "      <td>0.618746</td>\n",
       "      <td>0.602204</td>\n",
       "      <td>0.585598</td>\n",
       "      <td>0.564201</td>\n",
       "      <td>0.542858</td>\n",
       "      <td>0.523908</td>\n",
       "      <td>0.504898</td>\n",
       "      <td>0.485948</td>\n",
       "      <td>0.452130</td>\n",
       "      <td>0.418328</td>\n",
       "      <td>0.356754</td>\n",
       "    </tr>\n",
       "    <tr>\n",
       "      <th>DGS9</th>\n",
       "      <td>0.557830</td>\n",
       "      <td>0.566992</td>\n",
       "      <td>0.570213</td>\n",
       "      <td>0.560337</td>\n",
       "      <td>0.550436</td>\n",
       "      <td>0.534787</td>\n",
       "      <td>0.519193</td>\n",
       "      <td>0.504898</td>\n",
       "      <td>0.490566</td>\n",
       "      <td>0.476271</td>\n",
       "      <td>0.448277</td>\n",
       "      <td>0.420303</td>\n",
       "      <td>0.366705</td>\n",
       "    </tr>\n",
       "    <tr>\n",
       "      <th>DGS10</th>\n",
       "      <td>0.503152</td>\n",
       "      <td>0.514002</td>\n",
       "      <td>0.521552</td>\n",
       "      <td>0.518385</td>\n",
       "      <td>0.515232</td>\n",
       "      <td>0.505361</td>\n",
       "      <td>0.495546</td>\n",
       "      <td>0.485948</td>\n",
       "      <td>0.476271</td>\n",
       "      <td>0.466673</td>\n",
       "      <td>0.444530</td>\n",
       "      <td>0.422411</td>\n",
       "      <td>0.376800</td>\n",
       "    </tr>\n",
       "    <tr>\n",
       "      <th>DGS15</th>\n",
       "      <td>0.429241</td>\n",
       "      <td>0.440818</td>\n",
       "      <td>0.452688</td>\n",
       "      <td>0.457012</td>\n",
       "      <td>0.461390</td>\n",
       "      <td>0.458606</td>\n",
       "      <td>0.455877</td>\n",
       "      <td>0.452130</td>\n",
       "      <td>0.448277</td>\n",
       "      <td>0.444530</td>\n",
       "      <td>0.431985</td>\n",
       "      <td>0.419440</td>\n",
       "      <td>0.381070</td>\n",
       "    </tr>\n",
       "    <tr>\n",
       "      <th>DGS20</th>\n",
       "      <td>0.355424</td>\n",
       "      <td>0.367693</td>\n",
       "      <td>0.383862</td>\n",
       "      <td>0.395667</td>\n",
       "      <td>0.407564</td>\n",
       "      <td>0.411866</td>\n",
       "      <td>0.416220</td>\n",
       "      <td>0.418328</td>\n",
       "      <td>0.420303</td>\n",
       "      <td>0.422411</td>\n",
       "      <td>0.419440</td>\n",
       "      <td>0.416497</td>\n",
       "      <td>0.385372</td>\n",
       "    </tr>\n",
       "    <tr>\n",
       "      <th>DGS30</th>\n",
       "      <td>0.228736</td>\n",
       "      <td>0.244958</td>\n",
       "      <td>0.269193</td>\n",
       "      <td>0.293242</td>\n",
       "      <td>0.317476</td>\n",
       "      <td>0.332040</td>\n",
       "      <td>0.346659</td>\n",
       "      <td>0.356754</td>\n",
       "      <td>0.366705</td>\n",
       "      <td>0.376800</td>\n",
       "      <td>0.381070</td>\n",
       "      <td>0.385372</td>\n",
       "      <td>0.381708</td>\n",
       "    </tr>\n",
       "  </tbody>\n",
       "</table>\n",
       "</div>"
      ],
      "text/plain": [
       "           DGS1      DGS2      DGS3      DGS4      DGS5      DGS6      DGS7  \\\n",
       "DGS1   1.254743  1.163028  1.056362  0.943845  0.831012  0.749017  0.667030   \n",
       "DGS2   1.163028  1.105380  1.022073  0.923616  0.824877  0.748844  0.672816   \n",
       "DGS3   1.056362  1.022073  0.962211  0.881505  0.800539  0.733968  0.667408   \n",
       "DGS4   0.943845  0.923616  0.881505  0.818272  0.754794  0.699463  0.644156   \n",
       "DGS5   0.831012  0.824877  0.800539  0.754794  0.708867  0.664816  0.620802   \n",
       "DGS6   0.749017  0.748844  0.733968  0.699463  0.664816  0.629212  0.593627   \n",
       "DGS7   0.667030  0.672816  0.667408  0.644156  0.620802  0.593627  0.566504   \n",
       "DGS8   0.612353  0.619826  0.618746  0.602204  0.585598  0.564201  0.542858   \n",
       "DGS9   0.557830  0.566992  0.570213  0.560337  0.550436  0.534787  0.519193   \n",
       "DGS10  0.503152  0.514002  0.521552  0.518385  0.515232  0.505361  0.495546   \n",
       "DGS15  0.429241  0.440818  0.452688  0.457012  0.461390  0.458606  0.455877   \n",
       "DGS20  0.355424  0.367693  0.383862  0.395667  0.407564  0.411866  0.416220   \n",
       "DGS30  0.228736  0.244958  0.269193  0.293242  0.317476  0.332040  0.346659   \n",
       "\n",
       "           DGS8      DGS9     DGS10     DGS15     DGS20     DGS30  \n",
       "DGS1   0.612353  0.557830  0.503152  0.429241  0.355424  0.228736  \n",
       "DGS2   0.619826  0.566992  0.514002  0.440818  0.367693  0.244958  \n",
       "DGS3   0.618746  0.570213  0.521552  0.452688  0.383862  0.269193  \n",
       "DGS4   0.602204  0.560337  0.518385  0.457012  0.395667  0.293242  \n",
       "DGS5   0.585598  0.550436  0.515232  0.461390  0.407564  0.317476  \n",
       "DGS6   0.564201  0.534787  0.505361  0.458606  0.411866  0.332040  \n",
       "DGS7   0.542858  0.519193  0.495546  0.455877  0.416220  0.346659  \n",
       "DGS8   0.523908  0.504898  0.485948  0.452130  0.418328  0.356754  \n",
       "DGS9   0.504898  0.490566  0.476271  0.448277  0.420303  0.366705  \n",
       "DGS10  0.485948  0.476271  0.466673  0.444530  0.422411  0.376800  \n",
       "DGS15  0.452130  0.448277  0.444530  0.431985  0.419440  0.381070  \n",
       "DGS20  0.418328  0.420303  0.422411  0.419440  0.416497  0.385372  \n",
       "DGS30  0.356754  0.366705  0.376800  0.381070  0.385372  0.381708  "
      ]
     },
     "execution_count": 21,
     "metadata": {},
     "output_type": "execute_result"
    }
   ],
   "source": [
    "curveForPCA = yieldcurve[['DGS1','DGS2','DGS3','DGS4','DGS5',\n",
    "                          'DGS6','DGS7','DGS8','DGS9','DGS10','DGS15','DGS20','DGS30']]\n",
    "covMatrix = curveForPCA.cov()\n",
    "covMatrix"
   ]
  },
  {
   "cell_type": "markdown",
   "metadata": {},
   "source": [
    "I immediately notice that the diagonals in the matrix, corresponding to the invidual variances of the zero rates, are decreasing with increasing terms. This is intuitive, as shorter zero rates are more volatile (and therefore should have higher standard deviation and variance) than long-term rates. Also, I notice that the highest covariances in each row and column are between zero rates of similar maturity (i.e the the zero-rate for a 3 year maturity has a much higher correlation with the zero-rate for a 2 year maturity than the zero-rate for 30 year maturity). Since maturity dates are close together, it makes sense that their yields would move in tandem."
   ]
  },
  {
   "cell_type": "markdown",
   "metadata": {},
   "source": [
    "### b. Performing PCA"
   ]
  },
  {
   "cell_type": "markdown",
   "metadata": {},
   "source": [
    "First, I scale the data and then perform PCA on it:"
   ]
  },
  {
   "cell_type": "code",
   "execution_count": 165,
   "metadata": {},
   "outputs": [
    {
     "data": {
      "text/plain": [
       "432.06500127261273"
      ]
     },
     "execution_count": 165,
     "metadata": {},
     "output_type": "execute_result"
    }
   ],
   "source": [
    "pca = PCA()\n",
    "#pcaFit = pca.fit(curveForPCA)\n",
    "# Use covariance, not correlation in specifying PCA, don't worry about scaling\n",
    "scaler = StandardScaler().fit(curveForPCA)\n",
    "scaled = scaler.transform(curveForPCA)\n",
    "pcaFit = pca.fit(scaled)\n",
    "np.sum(np.diag(np.cov(scaled)))"
   ]
  },
  {
   "cell_type": "markdown",
   "metadata": {},
   "source": [
    "I find the total variance of all the variables of the standardized dataset:"
   ]
  },
  {
   "cell_type": "code",
   "execution_count": 135,
   "metadata": {},
   "outputs": [
    {
     "name": "stdout",
     "output_type": "stream",
     "text": [
      "Total Variance in Dataset:  13.004723837209303\n"
     ]
    }
   ],
   "source": [
    "#Total Variation: Sum of Variance of each column (sum of diagonal of variance, covariance)\n",
    "print(\"Total Variance in Dataset: \", np.sum(pca.explained_variance_))"
   ]
  },
  {
   "cell_type": "markdown",
   "metadata": {},
   "source": [
    "Then, I find the percentage of variation explained by 1 factor, 2 factors, and then 3:"
   ]
  },
  {
   "cell_type": "code",
   "execution_count": 168,
   "metadata": {},
   "outputs": [
    {
     "name": "stdout",
     "output_type": "stream",
     "text": [
      "Percent Explained by 1 factor: 86.01%\n",
      "Percent Explained by 2 factors: 98.75%\n",
      "Percent Explained by 3 factors: 99.79%\n"
     ]
    }
   ],
   "source": [
    "pVE = np.cumsum(pca.explained_variance_ratio_)\n",
    "print(\"Percent Explained by 1 factor:{p: .2f}%\".format(p = pVE[0] * 100))\n",
    "print(\"Percent Explained by 2 factors:{p: .2f}%\".format(p = pVE[1] * 100))\n",
    "print(\"Percent Explained by 3 factors:{p: .2f}%\".format(p = pVE[2] * 100))"
   ]
  },
  {
   "cell_type": "markdown",
   "metadata": {},
   "source": [
    "I confirm this is true by performing singular value decomposition on the centered matrix of rates for maturities, and then squaring the singular values to find proportion of explained variance for the first 3 factors:"
   ]
  },
  {
   "cell_type": "code",
   "execution_count": 157,
   "metadata": {},
   "outputs": [
    {
     "name": "stdout",
     "output_type": "stream",
     "text": [
      "Explained by 1: 86.01%, 2: 98.75%, 3: 99.79%\n"
     ]
    }
   ],
   "source": [
    "scaler = StandardScaler().fit(curveForPCA)\n",
    "scaled = scaler.transform(curveForPCA)\n",
    "U,S,V = np.linalg.svd(scaled)\n",
    "#centered = curveForPCA - np.average(curveForPCA, axis=0)\n",
    "#U,S,V_T = np.linalg.svd(centered)\n",
    "EVP = np.cumsum(S**2)/np.sum(S**2)\n",
    "print(\"Explained by 1:{p1: .2f}%, 2:{p2: .2f}%, 3:{p3: .2f}%\".format(\n",
    "    p1 = EVP[0]*100, p2 = EVP[1]*100, p3 = EVP[2]*100))"
   ]
  },
  {
   "cell_type": "markdown",
   "metadata": {},
   "source": [
    "Now, I take the first three componenents, and plot their factor loadings against the maturity time they correspond to:"
   ]
  },
  {
   "cell_type": "code",
   "execution_count": 125,
   "metadata": {},
   "outputs": [
    {
     "data": {
      "image/png": "[encoded data removed]",
      "text/plain": [
       "<Figure size 640x480 with 1 Axes>"
      ]
     },
     "metadata": {},
     "output_type": "display_data"
    }
   ],
   "source": [
    "f_1, f_2, f_3 = pcaFit.components_[0:3]\n",
    "yvec = np.array([1, 2, 3, 4, 5,6, 7,8,9, 10, 15, 20, 30])\n",
    "lFrame = pd.DataFrame(data = np.transpose([yvec, f_1, f_2, f_3]), \n",
    "                      columns = [\"Time to Maturity\", \"Comp. 1\", \"Comp. 2\", \"Comp. 3\"])\n",
    "lFrame[\"Time to Maturity\"] = lFrame[\"Time to Maturity\"].astype(int)\n",
    "\n",
    "plt.plot(lFrame[\"Time to Maturity\"], lFrame[\"Comp. 1\"], color = 'red',\n",
    "          label = 'Component 1', zorder = 3)\n",
    "plt.plot(lFrame[\"Time to Maturity\"], lFrame[\"Comp. 2\"], color = 'blue',\n",
    "          label = 'Component 2', zorder = 2)\n",
    "plt.plot(lFrame[\"Time to Maturity\"], lFrame[\"Comp. 3\"], color = 'green',\n",
    "          label = 'Component 3', zorder = 1)\n",
    "plt.xlabel(\"Time to Maturity\")\n",
    "plt.ylabel(\"Factor Loading for time to Maturity\")\n",
    "plt.title(\"Factor loadings vs. Time to Maturity\")\n",
    "plt.legend()\n",
    "plt.show()"
   ]
  },
  {
   "cell_type": "markdown",
   "metadata": {},
   "source": [
    "Note that the first component has all positive factor loadings; this corresponds to a parallel shift in the yield curve, as all rates go up (or down) together, though shorter term rates do so by a slightly bigger amount. This component explains about $86.01\\%$ of the variance, so most daily movements in term structure can be explained by said parallel shift. The second component has negative factor loadings for the short term but positive for the long term; this corresponds to a twisting of a term structure. This would mean that the yield curve increased in the short term while decreasing in the long term - or visa versa. The second component explains an additional $98.75 - 86.01 = 12.74\\%$ of the variance, so it is significant. The third componnent has positive factor loadings for both short term maturity and long term maturity, but negative factor loadings in the middle, with the inflection point coming at 5 years. This corresponds to a change in curvature, or the movement in the point on the yield curve where the curve starts to flatten out or move in the opposite direction. It explains about $1\\%$ of the variance in daily rates."
   ]
  },
  {
   "cell_type": "markdown",
   "metadata": {},
   "source": [
    "I now calculate the standard deviations in the 3 principal components, which would just be the singular values of the decomposition performed previously, or $\\sqrt{\\lambda_1}, \\sqrt{\\lambda_2} \\text{ and } \\sqrt{\\lambda_3}$:"
   ]
  },
  {
   "cell_type": "code",
   "execution_count": 161,
   "metadata": {},
   "outputs": [
    {
     "name": "stdout",
     "output_type": "stream",
     "text": [
      " sigma_1:  3.3445 \n",
      " sigma_2:  1.2871 \n",
      " sigma_3:  0.3677\n"
     ]
    }
   ],
   "source": [
    "stdDev = np.sqrt(pca.explained_variance_)\n",
    "print(\" sigma_1: {s1: .4f} \\n sigma_2: {s2: .4f} \\n sigma_3: {s3: .4f}\".format(\n",
    "    s1 = stdDev[0], s2 = stdDev[1], s3 = stdDev[2]))"
   ]
  },
  {
   "cell_type": "markdown",
   "metadata": {},
   "source": [
    "Experimenting with centered, but not scaled, data"
   ]
  },
  {
   "cell_type": "code",
   "execution_count": 203,
   "metadata": {},
   "outputs": [
    {
     "name": "stdout",
     "output_type": "stream",
     "text": [
      "[0.86688026 0.98687491 0.99825853 0.99908677 0.99980484 0.99994278\n",
      " 0.99998249 0.99999542 0.999997   0.9999982  0.999999   1.\n",
      " 1.        ]\n",
      "[0.86688026 0.98687491 0.99825853 0.99908677 0.99980484 0.99994278\n",
      " 0.99998249 0.99999542 0.999997   0.9999982  0.9999992  1.\n",
      " 1.        ]\n"
     ]
    }
   ],
   "source": [
    "centered = curveForPCA - np.average(curveForPCA, axis = 0)\n",
    "temp = (np.transpose(centered) @ centered)/(curveForPCA.shape[0] - 1)\n",
    "eigenvalues, eigenvectors = np.linalg.eig(temp)\n",
    "U_test, E_test, V_test = np.linalg.svd(centered)\n",
    "print(np.cumsum(eigenvalues)/np.sum(eigenvalues))\n",
    "print(np.cumsum(E_test**2)/np.sum(E_test**2))"
   ]
  },
  {
   "cell_type": "markdown",
   "metadata": {},
   "source": [
    "### c. Finding combinations for Stress Testing"
   ]
  },
  {
   "cell_type": "markdown",
   "metadata": {},
   "source": [
    "### d. Translating Bumps to Exponential Plotting"
   ]
  },
  {
   "cell_type": "markdown",
   "metadata": {},
   "source": [
    "## $\\underline{\\text{Question 5}}$"
   ]
  },
  {
   "cell_type": "code",
   "execution_count": null,
   "metadata": {},
   "outputs": [],
   "source": [
    "default_spread = 200\n",
    "zrate = .05\n",
    "hrate = 0.04\n",
    "S_t = np.exp(-1 * hrate)\n"
   ]
  },
  {
   "cell_type": "code",
   "execution_count": null,
   "metadata": {},
   "outputs": [],
   "source": [
    "def discount(t):\n",
    "    "
   ]
  }
 ],
 "metadata": {
  "kernelspec": {
   "display_name": ".venv",
   "language": "python",
   "name": "python3"
  },
  "language_info": {
   "codemirror_mode": {
    "name": "ipython",
    "version": 3
   },
   "file_extension": ".py",
   "mimetype": "text/x-python",
   "name": "python",
   "nbconvert_exporter": "python",
   "pygments_lexer": "ipython3",
   "version": "3.11.7"
  }
 },
 "nbformat": 4,
 "nbformat_minor": 2
}
