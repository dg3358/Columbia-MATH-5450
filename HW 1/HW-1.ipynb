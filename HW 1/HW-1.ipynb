{
 "cells": [
  {
   "cell_type": "markdown",
   "metadata": {},
   "source": [
    "# Homework 1 - Credit Analytics\n",
    "Submission by Dennis Goldenberg"
   ]
  },
  {
   "cell_type": "code",
   "execution_count": 27,
   "metadata": {},
   "outputs": [],
   "source": [
    "import matplotlib.pyplot as plt\n",
    "from sklearn.decomposition import PCA\n",
    "import pandas as pd\n",
    "import pandas_datareader.data as web\n",
    "import numpy as np\n",
    "import datetime as dt"
   ]
  },
  {
   "cell_type": "markdown",
   "metadata": {},
   "source": [
    "## $\\text{\\underline{Question 1}}$"
   ]
  },
  {
   "cell_type": "markdown",
   "metadata": {},
   "source": [
    "### a. Proving $F(X) \\sim \\text{Uniform}(0,1)$\n",
    "Note that $F(x) = \\mathbb{P}(X \\leq x)$ and the support of a probability function is $S(\\mathbb{P}(\\cdot)) = (0,1]$. Therefore:\n",
    "$$\n",
    "\\begin{equation*}\n",
    "F(X) = \\mathbb{P}(X \\leq X) = 1 \\sim \\text{Uniform}(0,1)\n",
    "\\end{equation*}\n",
    "$$"
   ]
  },
  {
   "cell_type": "markdown",
   "metadata": {},
   "source": [
    "### b. Proving $F^{-1}(U) \\equiv X$\n",
    "Let $U \\sim \\text{Uniform}(0,1)$. Note that, via the definition of inverse function:\n",
    "$$\n",
    "\\begin{equation*}\n",
    "F^{-1}\\left(F(X)\\right) = X\n",
    "\\end{equation*}\n",
    "$$\n",
    "From a, $F(X) \\equiv U(0,1)$, so $F^{-1}\\left(U\\right) \\equiv F^{-1}\\left(F(X)\\right)$. So:\n",
    "$$\n",
    "\\begin{equation*}\n",
    "F^{-1}\\left(U\\right) \\equiv F^{-1}\\left(F(X)\\right) = X \\rightarrow F^{-1}\\left(U\\right) \\equiv X\n",
    "\\end{equation*}\n",
    "$$"
   ]
  },
  {
   "cell_type": "markdown",
   "metadata": {},
   "source": [
    "### c. Proving $\\Phi^{-1}(F(X)) \\equiv Y \\sim N(0,1)$\n",
    "From a, $F(X) \\equiv U(0,1)$. Note that $F(y) = \\Phi(y)$. Using the result from b:\n",
    "$$\n",
    "\\begin{equation*}\n",
    "\\Phi^{-1}(F(X)) \\equiv \\Phi^{-1}(U) = F_{Y}^{-1}(U) \\equiv Y\n",
    "\\end{equation*}\n",
    "$$\n",
    "Thus, $\\Phi^{-1}(F(X)) \\equiv Y \\sim N(0,1)$."
   ]
  },
  {
   "cell_type": "markdown",
   "metadata": {},
   "source": [
    "## $\\text{\\underline{Question 2}}$"
   ]
  },
  {
   "cell_type": "markdown",
   "metadata": {},
   "source": [
    "### a. Deriving survival function\n",
    "Note that, from a formula in class, $S(t) = \\mathbb{P}(\\tau > t) = e^{-\\int_0^{t}h(s)ds}$. Thus, I have:\n",
    "$$ \n",
    "\\begin{align*}\n",
    "S(t) = e^{-\\int_0^{t}\\alpha e^{\\beta s}ds} = e^{-\\alpha\\int_0^{t}e^{\\beta s}ds} &= e^{-\\alpha\\left[\\frac{1}{\\beta}e^{\\beta s}\\right]_{0}^{t}} = e^{-\\frac{\\alpha}{\\beta}\\left[e^{\\beta t} - 1\\right]} = e^{\\frac{\\alpha}{\\beta} - \\frac{\\alpha}{\\beta}e^{\\beta t}}\n",
    "\\end{align*}\n",
    "$$"
   ]
  },
  {
   "cell_type": "markdown",
   "metadata": {},
   "source": [
    "### b. Deriving the distribution function\n",
    "Using the fact that $S(t) = 1 - F(t) \\rightarrow F(t) + S(t) = 1 \\rightarrow F(t) = 1 - S(t)$, I compute:\n",
    "$$\n",
    "\\begin{equation*}\n",
    "F(t) = 1 - S(t)  = 1 - e^{\\frac{\\alpha}{\\beta} - \\frac{\\alpha}{\\beta}e^{\\beta t}} \n",
    "\\end{equation*}\n",
    "$$"
   ]
  },
  {
   "cell_type": "markdown",
   "metadata": {},
   "source": [
    "### c. Deriving the density function \n",
    "The density function is the derivative of the disrtibution function. I use this and apply the chain rule for derivatives:\n",
    "$$\n",
    "\\begin{align*}\n",
    "f(t) = \\frac{d}{dt}F(t) = \\frac{d}{dt}\\left(1 - e^{\\frac{\\alpha}{\\beta} - \\frac{\\alpha}{\\beta}e^{\\beta t}}\\right) &= -e^{\\frac{\\alpha}{\\beta}}\\frac{d}{dt}\\left(e^{-\\frac{\\alpha}{\\beta}e^{\\beta t}}\\right)\\\\\n",
    "&= -e^{\\frac{\\alpha}{\\beta}} * e^{-\\frac{\\alpha}{\\beta}e^{\\beta t}} * \\frac{d}{dt}\\left(-\\frac{\\alpha}{\\beta}e^{\\beta t}\\right)\\\\\n",
    "&= -e^{\\frac{\\alpha}{\\beta}} * e^{-\\frac{\\alpha}{\\beta}e^{\\beta t}} * -\\alpha e^{\\beta t}\\\\\n",
    "&= \\alpha e^{\\beta t +\\frac{\\alpha}{\\beta} - \\frac{\\alpha}{\\beta}e^{\\beta t}}\\\\\n",
    "&= \\alpha e^{\\beta t + \\frac{\\alpha}{\\beta}\\left(1 - e^{\\beta t}\\right)}\n",
    "\\end{align*}\n",
    "$$"
   ]
  },
  {
   "cell_type": "markdown",
   "metadata": {},
   "source": [
    "## $\\text{\\underline{Question 3}}$"
   ]
  },
  {
   "cell_type": "markdown",
   "metadata": {},
   "source": [
    "### a. Calculating Expected Value and Variance for Payout at Default\n",
    "Note that the probability of default at any specific time is given by the hazard function $h(t) = h$, as the hazard function is the probability of default conditional on survival up until that point. Further, since 100 dollars is paid out at time of default, and an instantaneous forward rate is $r(t) = r$, I calculate the discount factor from time $t$ back to to time 0 as:\n",
    "$$\n",
    "D(0,t) = e^{-\\int_0^{t}r(s)ds} = e^{-\\int_0^{t}rds} = e^{-rt}\n",
    "$$\n",
    "Thus, the present value of a contract that defaults at time $t$ is:\n",
    "$$\n",
    "PV(C|\\text{Default at time t}) = 100e^{-rt}\n",
    "$$\n",
    "The payout for no default is 0, so this does not have to be discounted to the present, as it will still be 0. Therefore, I calculate the expected value:\n",
    "$$\n",
    "\\begin{align*}\n",
    "\\mathbb{E}[PV(C)] = \\int_0^{T}PV_t(C)*\\mathbb{P}(\\text{default at }t)dt &= \\int_0^{T}100e^{-rt}*hdt\\\\\n",
    "&= 100h\\int_0^{T}e^{-rt}dt\\\\\n",
    "&= 100h\\left[\\frac{-1}{r}e^{-rt}\\right]_0^T\\\\\n",
    "&= \\frac{100h}{r}\\left(1 - e^{-rT}\\right)\n",
    "\\end{align*}\n",
    "$$\n",
    "For variance, I use a common relation of variance to calculate:\n",
    "$$\n",
    "\\begin{align*}\n",
    "Var[PV(C)] = \\mathbb{E}[PV(C)^2] - \\mathbb{E}[PV(C)]^2 &= \\int_0^{T}PV_t(C)^2*\\mathbb{P}(\\text{default at }t)dt - \\left(\\frac{100h}{r}\\left(1 - e^{-rT}\\right)\\right)^2\\\\\n",
    "&= \\int_0^{T}\\left(100e^{-rt}\\right)^2*h dt - \\frac{10,000h^2}{r^2}\\left(1 - e^{-rT}\\right)^2\\\\\n",
    "&= 10,000h\\int_0^{T}e^{-2rt}dt - \\frac{10,000h^2}{r^2}\\left(1 - e^{-rT}\\right)^2\\\\\n",
    "&= 10,000h\\left[\\frac{-1}{2r}e^{-2rt}\\right]_0^{T} - \\frac{10,000h^2}{r^2}\\left(1 - e^{-rT}\\right)^2\\\\\n",
    "&= 10,000h * \\frac{1}{2r}\\left(1 - e^{-2rT}\\right)- \\frac{10,000h^2}{r^2}\\left(1 - e^{-rT}\\right)^2\\\\\n",
    "&= \\frac{5,000h}{r}\\left(1 - e^{-2rT}\\right) - \\frac{10,000h^2}{r^2}\\left(1 - e^{-rT}\\right)^2\\\\\n",
    "&= \\frac{5,000h}{r}\\left(1 - e^{-rT}\\right)\\left(1 + e^{-rT}\\right) - \\frac{10,000h^2}{r^2}\\left(1 - e^{-rT}\\right)^2\\\\\n",
    "&= \\frac{5000h}{r}\\left(1 - e^{-rT}\\right)\\left(1 + e^{-rT} - \\frac{2h}{r}\\left(1 - e^{-rT}\\right)\\right)\n",
    "\\end{align*}\n",
    "$$"
   ]
  },
  {
   "cell_type": "markdown",
   "metadata": {},
   "source": [
    "### b. Calculate Expected Value, Variance for Payout if No Default\n",
    "\n",
    "Here, I note that $PV(C) = \\sum_{t = 1}^{T}PV(CF_t)$. In this case:\n",
    "$$\n",
    "PV(CF_t) = \\begin{cases} 0 & \\text{ if default before t} \\\\ 100e^{-rt} & \\text{ if survive until t}\\end{cases}\n",
    "$$\n",
    "Since the hazard rate is a constant $h$, then the underlying distribution of default time is $\\text{Exponential}(h)$. Therefore, the probability of survival until year $t$ is $S(t) = e^{-ht}$. Therefore:\n",
    "$$\n",
    "\\mathbb{E}\\left[PV(CF_t)\\right] = 0 * \\mathbb{P}(\\text{default before t}) + 100e^{-rt} * \\mathbb{P}(\\text{Survive until t}) = 100e^{-rt}e^{-ht} = 100e^{-(r + h)t}\n",
    "$$\n",
    "I can then calculate the expected value of the present value using the sum of a geometric series:\n",
    "$$\n",
    "\\begin{align*}\n",
    "\\mathbb{E}[PV(C)] = \\mathbb{E}\\left[\\sum_{t = 1}^{T}PV(CF_t)\\right] &= \\sum_{t = 1}^{T}\\mathbb{E}\\left[PV(CF_t)\\right]\\\\\n",
    "&=\\sum_{t = 1}^{T}100e^{-(r + h)t}\\\\\n",
    "&=100\\sum_{t = 1}^{T}e^{-(r + h)t}\\\\\n",
    "&=100\\left(\\frac{e^{-(r + h)} - e^{-(r + h)(T + 1)}}{1 - e^{-(r + h)}}\\right)\\\\\n",
    "&=100e^{-(r + h)}\\left(\\frac{1 - e^{-(r + h)T}}{1 - e^{-(r + h)}}\\right)\\\\\n",
    "&=\\frac{100e^{-(r + h)}}{1 - e^{-(r + h)}}\\left(1 - e^{-(r + h)T}\\right)\n",
    "\\end{align*} \n",
    "$$"
   ]
  },
  {
   "cell_type": "markdown",
   "metadata": {},
   "source": [
    "## $\\underline{\\text{Question 4}}$"
   ]
  },
  {
   "cell_type": "markdown",
   "metadata": {},
   "source": [
    "### a. Calculating the covariance matrix\n",
    "I first import the data (and linearly interpolate for the missing maturities):"
   ]
  },
  {
   "cell_type": "code",
   "execution_count": 18,
   "metadata": {},
   "outputs": [],
   "source": [
    "ticker = ['DGS1MO',  'DGS3MO', 'DGS6MO','DGS1','DGS2',\n",
    "           'DGS3', 'DGS5','DGS7', 'DGS10','DGS20','DGS30']\n",
    "\n",
    "sdt = dt.datetime(2012, 2, 2)\n",
    "edt = dt.datetime(2023, 2, 3)\n",
    "source = 'fred'\n",
    "yieldcurve = pd.DataFrame(web.DataReader(ticker, source, sdt, edt))\n",
    "yieldcurve = yieldcurve.dropna()\n",
    "yieldcurve.insert(np.where(yieldcurve.columns.values == 'DGS3')[0][0] + 1,\n",
    "                  \"DGS4\",round(0.5*yieldcurve[\"DGS3\"] + 0.5*yieldcurve[\"DGS5\"],2))\n",
    "yieldcurve.insert(np.where(yieldcurve.columns.values == 'DGS5')[0][0] + 1,\n",
    "                  \"DGS6\",round(0.5*yieldcurve[\"DGS5\"] + 0.5*yieldcurve[\"DGS7\"],2))\n",
    "yieldcurve.insert(np.where(yieldcurve.columns.values == 'DGS7')[0][0] + 1,\n",
    "                  \"DGS8\",round((2/3)*yieldcurve[\"DGS7\"] + (1/3)*yieldcurve[\"DGS10\"],2))\n",
    "yieldcurve.insert(np.where(yieldcurve.columns.values == 'DGS8')[0][0] + 1,\n",
    "                  \"DGS9\",round((1/3)*yieldcurve[\"DGS7\"] + (2/3)*yieldcurve[\"DGS10\"],2))\n",
    "yieldcurve.insert(np.where(yieldcurve.columns.values == 'DGS10')[0][0] + 1,\n",
    "                  \"DGS15\",round((0.5)*yieldcurve[\"DGS10\"] + (0.5)*yieldcurve[\"DGS20\"],2))\n",
    "yieldcurve.to_csv('yieldcurvenona.csv')"
   ]
  },
  {
   "cell_type": "markdown",
   "metadata": {},
   "source": [
    "Then, I generate the covariance matrix for the maturities specified in the problem:"
   ]
  },
  {
   "cell_type": "code",
   "execution_count": 25,
   "metadata": {},
   "outputs": [
    {
     "data": {
      "text/html": [
       "<div>\n",
       "<style scoped>\n",
       "    .dataframe tbody tr th:only-of-type {\n",
       "        vertical-align: middle;\n",
       "    }\n",
       "\n",
       "    .dataframe tbody tr th {\n",
       "        vertical-align: top;\n",
       "    }\n",
       "\n",
       "    .dataframe thead th {\n",
       "        text-align: right;\n",
       "    }\n",
       "</style>\n",
       "<table border=\"1\" class=\"dataframe\">\n",
       "  <thead>\n",
       "    <tr style=\"text-align: right;\">\n",
       "      <th></th>\n",
       "      <th>DGS1</th>\n",
       "      <th>DGS2</th>\n",
       "      <th>DGS3</th>\n",
       "      <th>DGS4</th>\n",
       "      <th>DGS5</th>\n",
       "      <th>DGS6</th>\n",
       "      <th>DGS7</th>\n",
       "      <th>DGS8</th>\n",
       "      <th>DGS9</th>\n",
       "      <th>DGS10</th>\n",
       "      <th>DGS15</th>\n",
       "      <th>DGS20</th>\n",
       "      <th>DGS30</th>\n",
       "    </tr>\n",
       "  </thead>\n",
       "  <tbody>\n",
       "    <tr>\n",
       "      <th>DGS1</th>\n",
       "      <td>1.254743</td>\n",
       "      <td>1.163028</td>\n",
       "      <td>1.056362</td>\n",
       "      <td>0.943845</td>\n",
       "      <td>0.831012</td>\n",
       "      <td>0.749017</td>\n",
       "      <td>0.667030</td>\n",
       "      <td>0.612353</td>\n",
       "      <td>0.557830</td>\n",
       "      <td>0.503152</td>\n",
       "      <td>0.429241</td>\n",
       "      <td>0.355424</td>\n",
       "      <td>0.228736</td>\n",
       "    </tr>\n",
       "    <tr>\n",
       "      <th>DGS2</th>\n",
       "      <td>1.163028</td>\n",
       "      <td>1.105380</td>\n",
       "      <td>1.022073</td>\n",
       "      <td>0.923616</td>\n",
       "      <td>0.824877</td>\n",
       "      <td>0.748844</td>\n",
       "      <td>0.672816</td>\n",
       "      <td>0.619826</td>\n",
       "      <td>0.566992</td>\n",
       "      <td>0.514002</td>\n",
       "      <td>0.440818</td>\n",
       "      <td>0.367693</td>\n",
       "      <td>0.244958</td>\n",
       "    </tr>\n",
       "    <tr>\n",
       "      <th>DGS3</th>\n",
       "      <td>1.056362</td>\n",
       "      <td>1.022073</td>\n",
       "      <td>0.962211</td>\n",
       "      <td>0.881505</td>\n",
       "      <td>0.800539</td>\n",
       "      <td>0.733968</td>\n",
       "      <td>0.667408</td>\n",
       "      <td>0.618746</td>\n",
       "      <td>0.570213</td>\n",
       "      <td>0.521552</td>\n",
       "      <td>0.452688</td>\n",
       "      <td>0.383862</td>\n",
       "      <td>0.269193</td>\n",
       "    </tr>\n",
       "    <tr>\n",
       "      <th>DGS4</th>\n",
       "      <td>0.943845</td>\n",
       "      <td>0.923616</td>\n",
       "      <td>0.881505</td>\n",
       "      <td>0.818272</td>\n",
       "      <td>0.754794</td>\n",
       "      <td>0.699463</td>\n",
       "      <td>0.644156</td>\n",
       "      <td>0.602204</td>\n",
       "      <td>0.560337</td>\n",
       "      <td>0.518385</td>\n",
       "      <td>0.457012</td>\n",
       "      <td>0.395667</td>\n",
       "      <td>0.293242</td>\n",
       "    </tr>\n",
       "    <tr>\n",
       "      <th>DGS5</th>\n",
       "      <td>0.831012</td>\n",
       "      <td>0.824877</td>\n",
       "      <td>0.800539</td>\n",
       "      <td>0.754794</td>\n",
       "      <td>0.708867</td>\n",
       "      <td>0.664816</td>\n",
       "      <td>0.620802</td>\n",
       "      <td>0.585598</td>\n",
       "      <td>0.550436</td>\n",
       "      <td>0.515232</td>\n",
       "      <td>0.461390</td>\n",
       "      <td>0.407564</td>\n",
       "      <td>0.317476</td>\n",
       "    </tr>\n",
       "    <tr>\n",
       "      <th>DGS6</th>\n",
       "      <td>0.749017</td>\n",
       "      <td>0.748844</td>\n",
       "      <td>0.733968</td>\n",
       "      <td>0.699463</td>\n",
       "      <td>0.664816</td>\n",
       "      <td>0.629212</td>\n",
       "      <td>0.593627</td>\n",
       "      <td>0.564201</td>\n",
       "      <td>0.534787</td>\n",
       "      <td>0.505361</td>\n",
       "      <td>0.458606</td>\n",
       "      <td>0.411866</td>\n",
       "      <td>0.332040</td>\n",
       "    </tr>\n",
       "    <tr>\n",
       "      <th>DGS7</th>\n",
       "      <td>0.667030</td>\n",
       "      <td>0.672816</td>\n",
       "      <td>0.667408</td>\n",
       "      <td>0.644156</td>\n",
       "      <td>0.620802</td>\n",
       "      <td>0.593627</td>\n",
       "      <td>0.566504</td>\n",
       "      <td>0.542858</td>\n",
       "      <td>0.519193</td>\n",
       "      <td>0.495546</td>\n",
       "      <td>0.455877</td>\n",
       "      <td>0.416220</td>\n",
       "      <td>0.346659</td>\n",
       "    </tr>\n",
       "    <tr>\n",
       "      <th>DGS8</th>\n",
       "      <td>0.612353</td>\n",
       "      <td>0.619826</td>\n",
       "      <td>0.618746</td>\n",
       "      <td>0.602204</td>\n",
       "      <td>0.585598</td>\n",
       "      <td>0.564201</td>\n",
       "      <td>0.542858</td>\n",
       "      <td>0.523908</td>\n",
       "      <td>0.504898</td>\n",
       "      <td>0.485948</td>\n",
       "      <td>0.452130</td>\n",
       "      <td>0.418328</td>\n",
       "      <td>0.356754</td>\n",
       "    </tr>\n",
       "    <tr>\n",
       "      <th>DGS9</th>\n",
       "      <td>0.557830</td>\n",
       "      <td>0.566992</td>\n",
       "      <td>0.570213</td>\n",
       "      <td>0.560337</td>\n",
       "      <td>0.550436</td>\n",
       "      <td>0.534787</td>\n",
       "      <td>0.519193</td>\n",
       "      <td>0.504898</td>\n",
       "      <td>0.490566</td>\n",
       "      <td>0.476271</td>\n",
       "      <td>0.448277</td>\n",
       "      <td>0.420303</td>\n",
       "      <td>0.366705</td>\n",
       "    </tr>\n",
       "    <tr>\n",
       "      <th>DGS10</th>\n",
       "      <td>0.503152</td>\n",
       "      <td>0.514002</td>\n",
       "      <td>0.521552</td>\n",
       "      <td>0.518385</td>\n",
       "      <td>0.515232</td>\n",
       "      <td>0.505361</td>\n",
       "      <td>0.495546</td>\n",
       "      <td>0.485948</td>\n",
       "      <td>0.476271</td>\n",
       "      <td>0.466673</td>\n",
       "      <td>0.444530</td>\n",
       "      <td>0.422411</td>\n",
       "      <td>0.376800</td>\n",
       "    </tr>\n",
       "    <tr>\n",
       "      <th>DGS15</th>\n",
       "      <td>0.429241</td>\n",
       "      <td>0.440818</td>\n",
       "      <td>0.452688</td>\n",
       "      <td>0.457012</td>\n",
       "      <td>0.461390</td>\n",
       "      <td>0.458606</td>\n",
       "      <td>0.455877</td>\n",
       "      <td>0.452130</td>\n",
       "      <td>0.448277</td>\n",
       "      <td>0.444530</td>\n",
       "      <td>0.431985</td>\n",
       "      <td>0.419440</td>\n",
       "      <td>0.381070</td>\n",
       "    </tr>\n",
       "    <tr>\n",
       "      <th>DGS20</th>\n",
       "      <td>0.355424</td>\n",
       "      <td>0.367693</td>\n",
       "      <td>0.383862</td>\n",
       "      <td>0.395667</td>\n",
       "      <td>0.407564</td>\n",
       "      <td>0.411866</td>\n",
       "      <td>0.416220</td>\n",
       "      <td>0.418328</td>\n",
       "      <td>0.420303</td>\n",
       "      <td>0.422411</td>\n",
       "      <td>0.419440</td>\n",
       "      <td>0.416497</td>\n",
       "      <td>0.385372</td>\n",
       "    </tr>\n",
       "    <tr>\n",
       "      <th>DGS30</th>\n",
       "      <td>0.228736</td>\n",
       "      <td>0.244958</td>\n",
       "      <td>0.269193</td>\n",
       "      <td>0.293242</td>\n",
       "      <td>0.317476</td>\n",
       "      <td>0.332040</td>\n",
       "      <td>0.346659</td>\n",
       "      <td>0.356754</td>\n",
       "      <td>0.366705</td>\n",
       "      <td>0.376800</td>\n",
       "      <td>0.381070</td>\n",
       "      <td>0.385372</td>\n",
       "      <td>0.381708</td>\n",
       "    </tr>\n",
       "  </tbody>\n",
       "</table>\n",
       "</div>"
      ],
      "text/plain": [
       "           DGS1      DGS2      DGS3      DGS4      DGS5      DGS6      DGS7  \\\n",
       "DGS1   1.254743  1.163028  1.056362  0.943845  0.831012  0.749017  0.667030   \n",
       "DGS2   1.163028  1.105380  1.022073  0.923616  0.824877  0.748844  0.672816   \n",
       "DGS3   1.056362  1.022073  0.962211  0.881505  0.800539  0.733968  0.667408   \n",
       "DGS4   0.943845  0.923616  0.881505  0.818272  0.754794  0.699463  0.644156   \n",
       "DGS5   0.831012  0.824877  0.800539  0.754794  0.708867  0.664816  0.620802   \n",
       "DGS6   0.749017  0.748844  0.733968  0.699463  0.664816  0.629212  0.593627   \n",
       "DGS7   0.667030  0.672816  0.667408  0.644156  0.620802  0.593627  0.566504   \n",
       "DGS8   0.612353  0.619826  0.618746  0.602204  0.585598  0.564201  0.542858   \n",
       "DGS9   0.557830  0.566992  0.570213  0.560337  0.550436  0.534787  0.519193   \n",
       "DGS10  0.503152  0.514002  0.521552  0.518385  0.515232  0.505361  0.495546   \n",
       "DGS15  0.429241  0.440818  0.452688  0.457012  0.461390  0.458606  0.455877   \n",
       "DGS20  0.355424  0.367693  0.383862  0.395667  0.407564  0.411866  0.416220   \n",
       "DGS30  0.228736  0.244958  0.269193  0.293242  0.317476  0.332040  0.346659   \n",
       "\n",
       "           DGS8      DGS9     DGS10     DGS15     DGS20     DGS30  \n",
       "DGS1   0.612353  0.557830  0.503152  0.429241  0.355424  0.228736  \n",
       "DGS2   0.619826  0.566992  0.514002  0.440818  0.367693  0.244958  \n",
       "DGS3   0.618746  0.570213  0.521552  0.452688  0.383862  0.269193  \n",
       "DGS4   0.602204  0.560337  0.518385  0.457012  0.395667  0.293242  \n",
       "DGS5   0.585598  0.550436  0.515232  0.461390  0.407564  0.317476  \n",
       "DGS6   0.564201  0.534787  0.505361  0.458606  0.411866  0.332040  \n",
       "DGS7   0.542858  0.519193  0.495546  0.455877  0.416220  0.346659  \n",
       "DGS8   0.523908  0.504898  0.485948  0.452130  0.418328  0.356754  \n",
       "DGS9   0.504898  0.490566  0.476271  0.448277  0.420303  0.366705  \n",
       "DGS10  0.485948  0.476271  0.466673  0.444530  0.422411  0.376800  \n",
       "DGS15  0.452130  0.448277  0.444530  0.431985  0.419440  0.381070  \n",
       "DGS20  0.418328  0.420303  0.422411  0.419440  0.416497  0.385372  \n",
       "DGS30  0.356754  0.366705  0.376800  0.381070  0.385372  0.381708  "
      ]
     },
     "execution_count": 25,
     "metadata": {},
     "output_type": "execute_result"
    }
   ],
   "source": [
    "curveForPCA = yieldcurve[['DGS1','DGS2','DGS3','DGS4','DGS5',\n",
    "                          'DGS6','DGS7','DGS8','DGS9','DGS10','DGS15','DGS20','DGS30']]\n",
    "covMatrix = curveForPCA.cov()\n",
    "covMatrix"
   ]
  },
  {
   "cell_type": "markdown",
   "metadata": {},
   "source": [
    "I immediately notice that the diagonals in the matrix, corresponding to the invidual variances of the zero rates, are decreasing with increasing terms. This is intuitive, as shorter zero rates are more volatile (and therefore should have higher standard deviation and variance) than long-term rates. Also, I notice that the highest covariances in each row and column are between zero rates of similar maturity (i.e the the zero-rate for a 3 year maturity has a much higher correlation with the zero-rate for a 2 year maturity than the zero-rate for 30 year maturity). Since maturity dates are close together, it makes sense that their yields would move in tandem."
   ]
  },
  {
   "cell_type": "markdown",
   "metadata": {},
   "source": [
    "### b. Performing PCA"
   ]
  },
  {
   "cell_type": "markdown",
   "metadata": {},
   "source": [
    "First, I find the total variation of the data by summing the variance-covariance matrix:"
   ]
  },
  {
   "cell_type": "code",
   "execution_count": 35,
   "metadata": {},
   "outputs": [
    {
     "name": "stdout",
     "output_type": "stream",
     "text": [
      "Total Variation:  93.81227139164781\n"
     ]
    }
   ],
   "source": [
    "print(\"Total Variation: \", np.sum(covMatrix.values))"
   ]
  },
  {
   "cell_type": "markdown",
   "metadata": {},
   "source": [
    "Then, I perform PCA and find the percentage of variation explained by 1 factor, 2 factors, and then 3:"
   ]
  },
  {
   "cell_type": "code",
   "execution_count": 31,
   "metadata": {},
   "outputs": [
    {
     "data": {
      "text/plain": [
       "array([9.88262811e-01, 1.14601413e-02, 2.62679644e-04, 1.21133988e-05,\n",
       "       2.19692520e-06, 5.43795844e-08, 3.00789247e-09, 4.91586806e-11,\n",
       "       3.48165009e-11, 2.04374565e-11, 1.17741883e-11, 1.00056470e-32,\n",
       "       6.50494367e-35])"
      ]
     },
     "execution_count": 31,
     "metadata": {},
     "output_type": "execute_result"
    }
   ],
   "source": [
    "pca = PCA()\n",
    "pcaFit = pca.fit(covMatrix)\n",
    "pca.explained_variance_ratio_"
   ]
  },
  {
   "cell_type": "markdown",
   "metadata": {},
   "source": [
    "## $\\underline{\\text{Question 5}}$"
   ]
  }
 ],
 "metadata": {
  "kernelspec": {
   "display_name": ".venv",
   "language": "python",
   "name": "python3"
  },
  "language_info": {
   "codemirror_mode": {
    "name": "ipython",
    "version": 3
   },
   "file_extension": ".py",
   "mimetype": "text/x-python",
   "name": "python",
   "nbconvert_exporter": "python",
   "pygments_lexer": "ipython3",
   "version": "3.11.7"
  }
 },
 "nbformat": 4,
 "nbformat_minor": 2
}
