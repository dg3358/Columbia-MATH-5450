{
 "cells": [
  {
   "cell_type": "markdown",
   "metadata": {},
   "source": [
    "# Homework 1 - Credit Analytics\n",
    "Submission by Dennis Goldenberg"
   ]
  },
  {
   "cell_type": "markdown",
   "metadata": {},
   "source": [
    "## $\\text{\\underline{Question 1}}$"
   ]
  },
  {
   "cell_type": "markdown",
   "metadata": {},
   "source": [
    "### a. Proving $F(X) \\sim \\text{Uniform}(0,1)$\n",
    "Note that $F(x) = \\mathbb{P}(X \\leq x)$ and the support of a probability function is $S(\\mathbb{P}(\\cdot)) = (0,1]$. Therefore:\n",
    "$$\n",
    "\\begin{equation*}\n",
    "F(X) = \\mathbb{P}(X \\leq X) = 1 \\sim \\text{Uniform}(0,1)\n",
    "\\end{equation*}\n",
    "$$"
   ]
  },
  {
   "cell_type": "markdown",
   "metadata": {},
   "source": [
    "### b. Proving $F^{-1}(U) \\equiv X$\n",
    "Let $U \\sim \\text{Uniform}(0,1)$. Note that, via the definition of inverse function:\n",
    "$$\n",
    "\\begin{equation*}\n",
    "F^{-1}\\left(F(X)\\right) = X\n",
    "\\end{equation*}\n",
    "$$\n",
    "From a, $F(X) \\equiv U(0,1)$, so $F^{-1}\\left(U\\right) \\equiv F^{-1}\\left(F(X)\\right)$. So:\n",
    "$$\n",
    "\\begin{equation*}\n",
    "F^{-1}\\left(U\\right) \\equiv F^{-1}\\left(F(X)\\right) = X \\rightarrow F^{-1}\\left(U\\right) \\equiv X\n",
    "\\end{equation*}\n",
    "$$"
   ]
  },
  {
   "cell_type": "markdown",
   "metadata": {},
   "source": [
    "### c. Proving $\\Phi^{-1}(F(X)) \\equiv Y \\sim N(0,1)$\n",
    "From a, $F(X) \\equiv U(0,1)$. Note that $F(y) = \\Phi(y)$. Using the result from b:\n",
    "$$\n",
    "\\begin{equation*}\n",
    "\\Phi^{-1}(F(X)) \\equiv \\Phi^{-1}(U) = F_{Y}^{-1}(U) \\equiv Y\n",
    "\\end{equation*}\n",
    "$$\n",
    "Thus, $\\Phi^{-1}(F(X)) \\equiv Y \\sim N(0,1)$."
   ]
  },
  {
   "cell_type": "markdown",
   "metadata": {},
   "source": [
    "## $\\text{\\underline{Question 2}}$"
   ]
  },
  {
   "cell_type": "markdown",
   "metadata": {},
   "source": [
    "### a. Deriving survival function\n",
    "Note that, from a formula in class, $S(t) = \\mathbb{P}(\\tau > t) = e^{-\\int_0^{t}h(s)ds}$. Thus, I have:\n",
    "$$ \n",
    "\\begin{align*}\n",
    "S(t) = e^{-\\int_0^{t}\\alpha e^{\\beta s}ds} = e^{-\\alpha\\int_0^{t}e^{\\beta s}ds} &= e^{-\\alpha\\left[\\frac{1}{\\beta}e^{\\beta s}\\right]_{0}^{t}} = e^{-\\frac{\\alpha}{\\beta}\\left[e^{\\beta t} - 1\\right]} = e^{\\frac{\\alpha}{\\beta} - \\frac{\\alpha}{\\beta}e^{\\beta t}}\n",
    "\\end{align*}\n",
    "$$"
   ]
  },
  {
   "cell_type": "markdown",
   "metadata": {},
   "source": [
    "### b. Deriving the distribution function\n",
    "Using the fact that $S(t) = 1 - F(t) \\rightarrow F(t) + S(t) = 1 \\rightarrow F(t) = 1 - S(t)$, I compute:\n",
    "$$\n",
    "\\begin{equation*}\n",
    "F(t) = 1 - S(t)  = 1 - e^{\\frac{\\alpha}{\\beta} - \\frac{\\alpha}{\\beta}e^{\\beta t}} \n",
    "\\end{equation*}\n",
    "$$"
   ]
  },
  {
   "cell_type": "markdown",
   "metadata": {},
   "source": [
    "### c. Deriving the density function \n",
    "The density function is the derivative of the disrtibution function. I use this and apply the chain rule for derivatives:\n",
    "$$\n",
    "\\begin{align*}\n",
    "f(t) = \\frac{d}{dt}F(t) = \\frac{d}{dt}\\left(1 - e^{\\frac{\\alpha}{\\beta} - \\frac{\\alpha}{\\beta}e^{\\beta t}}\\right) &= -e^{\\frac{\\alpha}{\\beta}}\\frac{d}{dt}\\left(e^{-\\frac{\\alpha}{\\beta}e^{\\beta t}}\\right)\\\\\n",
    "&= -e^{\\frac{\\alpha}{\\beta}} * e^{-\\frac{\\alpha}{\\beta}e^{\\beta t}} * \\frac{d}{dt}\\left(-\\frac{\\alpha}{\\beta}e^{\\beta t}\\right)\\\\\n",
    "&= -e^{\\frac{\\alpha}{\\beta}} * e^{-\\frac{\\alpha}{\\beta}e^{\\beta t}} * -\\alpha e^{\\beta t}\\\\\n",
    "&= \\alpha e^{\\beta t +\\frac{\\alpha}{\\beta} - \\frac{\\alpha}{\\beta}e^{\\beta t}}\\\\\n",
    "&= \\alpha e^{\\beta t + \\frac{\\alpha}{\\beta}\\left(1 - e^{\\beta t}\\right)}\n",
    "\\end{align*}\n",
    "$$"
   ]
  },
  {
   "cell_type": "markdown",
   "metadata": {},
   "source": [
    "## $\\text{\\underline{Question 3}}$"
   ]
  },
  {
   "cell_type": "code",
   "execution_count": 5,
   "metadata": {},
   "outputs": [],
   "source": [
    "import pandas as pd"
   ]
  },
  {
   "cell_type": "code",
   "execution_count": 3,
   "metadata": {},
   "outputs": [
    {
     "data": {
      "text/plain": [
       "2.0"
      ]
     },
     "execution_count": 3,
     "metadata": {},
     "output_type": "execute_result"
    }
   ],
   "source": []
  }
 ],
 "metadata": {
  "kernelspec": {
   "display_name": ".venv",
   "language": "python",
   "name": "python3"
  },
  "language_info": {
   "codemirror_mode": {
    "name": "ipython",
    "version": 3
   },
   "file_extension": ".py",
   "mimetype": "text/x-python",
   "name": "python",
   "nbconvert_exporter": "python",
   "pygments_lexer": "ipython3",
   "version": "3.11.7"
  }
 },
 "nbformat": 4,
 "nbformat_minor": 2
}
