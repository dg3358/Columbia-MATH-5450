{
 "cells": [
  {
   "cell_type": "markdown",
   "metadata": {},
   "source": [
    "# Homework 2 - Credit Analytics\n",
    "Submission by Dennis Goldenberg"
   ]
  },
  {
   "cell_type": "code",
   "execution_count": 2,
   "metadata": {},
   "outputs": [],
   "source": [
    "import numpy as np\n",
    "#import pandas as pd"
   ]
  },
  {
   "cell_type": "markdown",
   "metadata": {},
   "source": [
    "## $\\underline{\\text{Question 1}}$"
   ]
  },
  {
   "cell_type": "markdown",
   "metadata": {},
   "source": [
    "### a. Expected Value of Loss Leg\n",
    "I use the formula for expectation and the formulas given to calculate:\n",
    "$$\n",
    "\\begin{align*}\n",
    "\\mathbb{E}\\left[\\text{PV}(\\text{loss})\\right] &= \\int_0^{\\Delta t}f(t)*\\text{PV}\\left(\\text{loss payment}|\\text{default at t}\\right)dt\\\\\n",
    "&= \\int_0^{\\Delta t}he^{-ht}*(1 - R)e^{-rt}dt\\\\\n",
    "&= h(1 - R)\\int_0^{\\Delta t}e^{-(r + h)t}dt\\\\\n",
    "&= h(1 - R)\\left[\\frac{e^{-(r + h)t}}{-(r + h)}\\right]_0^{\\Delta t}\\\\\n",
    "&= h(1 - R)\\left(\\frac{1}{r + h} - \\frac{e^{-(r + h)\\Delta t}}{r + h}\\right)\\\\\n",
    "&= \\frac{h}{r + h}(1 - R)\\left(1 - e^{-(r + h)\\Delta t}\\right)\n",
    "\\end{align*}\n",
    "$$\n",
    "Note that this quantity can be multiplied by the notional amount of the underlying bond; here, the implicit assumption is that the notional amount is 1 dollar."
   ]
  },
  {
   "cell_type": "markdown",
   "metadata": {},
   "source": [
    "### b. Expected Value of Refund"
   ]
  },
  {
   "cell_type": "markdown",
   "metadata": {},
   "source": [
    "I establish a result that will prove useful in the proof:\n",
    "$$\n",
    "\\int_0^{\\Delta t}e^{-(r + h)t}dt = \\left[\\frac{e^{-(r + h)t}}{-(r + h)}\\right]_0^{\\Delta t} = \\frac{1 - e^{-(r + h)\\Delta t}}{r + h} \n",
    "$$\n",
    "Using conditional expectation, I solve:\n",
    "$$\n",
    "\\begin{align*}\n",
    "\\mathbb{E}\\left[\\text{PV}\\left(\\text{Refund}\\right)\\right] &= \\int_0^{\\Delta t}\\text{PV}\\left(\\text{Refund}|\\text{Default at }t\\right)f(t)dt\\\\\n",
    "&= \\int_0^{\\Delta t} P(1 - \\frac{t}{\\Delta t})e^{-rt} * he^{-ht}dt\\\\\n",
    "&= P * h * \\int_0^{\\Delta t}(1 - \\frac{t}{\\Delta t})e^{-(r + h)t}dt\\\\\n",
    "&= P * h * \\left(\\int_0^{\\Delta t}e^{-(r + h)t}dt - \\frac{1}{\\Delta t}\\int_0^{\\Delta t}te^{-(r + h)t}dt\\right)\\\\\n",
    "&= P * h \\left(\\frac{1 - e^{-(r + h)\\Delta t}}{r + h} - \\frac{1}{\\Delta t}\\int_0^{\\Delta t}te^{-(r + h)t}dt\\right)\n",
    "\\end{align*}\n",
    "$$\n",
    "I then use integration by parts, with $u = t \\text{ , } du = dt$  and $dv = e^{-(r + h)t}dt \\text{ , } v = \\frac{e^{-(r + h)t}}{-(r + h)}$:\n",
    "$$\n",
    "\\begin{align*}\n",
    "&\\mathbb{E}\\left[\\text{PV}\\left(\\text{Refund}\\right)\\right]\\\\\n",
    "&= P * h \\left(\\frac{1 - e^{-(r + h)\\Delta t}}{r + h} - \\frac{1}{\\Delta t}\\int_0^{\\Delta t}te^{-(r + h)t}dt\\right)\\\\\n",
    "&= P * h \\left(\\frac{1 - e^{-(r + h)\\Delta t}}{r + h} - \\frac{1}{\\Delta t}\\left[\\frac{t*e^{-(r + h)t}}{-(r + h)} + \\frac{1}{r + h}\\int_0^{\\Delta t}e^{-(r + h)t}dt\\right]\\right)\\\\\n",
    "&= P * h \\left(\\frac{1 - e^{-(r + h)\\Delta t}}{r + h} - \\frac{1}{\\Delta t}\\left[\\frac{t*e^{-(r + h)t}}{-(r + h)} + \\frac{1}{r + h}*\\left(\\frac{e^{-(r + h)t}}{-(r + h)}\\right)\\right]_0^{\\Delta t}\\right)\\\\\n",
    "&= P * h \\left(\\frac{1 - e^{-(r + h)\\Delta t}}{r + h} - \\frac{1}{\\Delta t}\\left[\\frac{-\\Delta t e^{-(r + h)t}}{r + h} + \\frac{1}{(r + h)^2} - \\frac{e^{-(r + h)\\Delta t}}{(r + h)^2}\\right]\\right)\\\\\n",
    "&= \\frac{Ph}{(r + h)}\\left(1 - e^{-(r + h)\\Delta t} + e^{-(r + h)\\Delta t} - \\frac{1}{(r + h)\\Delta t} + \\frac{e^{-(r + h)\\Delta t}}{(r + h)\\Delta t}\\right)\\\\\n",
    "&= \\frac{Ph}{(r + h)}\\left(1 - \\frac{1}{(r + h)\\Delta t}\\left[1 - e^{-(r + h)\\Delta t}\\right]\\right)\n",
    "\\end{align*}\n",
    "$$"
   ]
  },
  {
   "cell_type": "markdown",
   "metadata": {},
   "source": [
    "### c. Fair Value of P for One-period Swap\n",
    "Let $L \\sim \\text{Exponential}(r + h)$. Therefore, $F_L(\\Delta t) = 1 - e^{-(r + h)\\Delta t}$. This will be useful for simplifying the final result. I form the break-even premium by recognizing the simple accounting equality:\n",
    "$$\n",
    "\\text{PV}(\\text{Loss}) = \\text{PV}(\\text{Premium}) - \\text{PV}(\\text{Refund Payment})\n",
    "$$\n",
    "The expected present value of loss is given in part a, and the expected present value of the refund payment is given in part c. Since premium $P$ is paid at the beginning of the preiod, its present value is just $P$. So, I take the expectation of both sides and solve for the break-even premium:\n",
    "$$\n",
    "\\begin{align*}\n",
    "&\\text{EPV}(\\text{Loss}) = P - \\text{EPV}(\\text{Refund})\\\\\n",
    "&\\rightarrow \\frac{h}{r + h}(1 - R)F_L(\\Delta t) = P - \\frac{Ph}{r + h}\\left(1 - \\frac{1}{(r + h)\\Delta t}F_L(\\Delta t)\\right)\\\\\n",
    "&\\rightarrow \\frac{h}{r + h}(1 - R)F_L(\\Delta t) = P\\left(1 - \\frac{h}{r + h}\\left(1 - \\frac{1}{(r + h)\\Delta t}F_L(\\Delta t)\\right)\\right)\\\\\n",
    "&\\rightarrow P = \\frac{\\frac{h}{r + h}(1 - R)F_L(\\Delta t)}{\\left(1 - \\frac{h}{r + h}\\left(1 - \\frac{1}{(r + h)\\Delta t}F_L(\\Delta t)\\right)\\right)}\n",
    "\\end{align*}\n",
    "$$ \n",
    "Note that, once again, the notional amount is assumed to be a dollar. So, this break even premium is really the break-even premium per dollar of notional."
   ]
  },
  {
   "cell_type": "markdown",
   "metadata": {},
   "source": [
    "## $\\underline{\\text{Question 2}}$"
   ]
  },
  {
   "cell_type": "markdown",
   "metadata": {},
   "source": [
    "For this question: read creditportfoliocalculation.pdf"
   ]
  },
  {
   "cell_type": "markdown",
   "metadata": {},
   "source": [
    "## $\\underline{\\text{Question 3}}$"
   ]
  },
  {
   "cell_type": "markdown",
   "metadata": {},
   "source": [
    "For this question: read understandingcopulas.pdf"
   ]
  },
  {
   "cell_type": "markdown",
   "metadata": {},
   "source": [
    "## $\\underline{\\text{Question 4}}$"
   ]
  },
  {
   "cell_type": "markdown",
   "metadata": {},
   "source": [
    "For this question: read AnOverViewofCopulaCDOVerion-6.pdf"
   ]
  },
  {
   "cell_type": "markdown",
   "metadata": {},
   "source": [
    "## $\\underline{\\text{Question 5}}$"
   ]
  },
  {
   "cell_type": "markdown",
   "metadata": {},
   "source": [
    "For this question: read creditportfoliocalculation.pdf"
   ]
  },
  {
   "cell_type": "markdown",
   "metadata": {},
   "source": [
    "## $\\underline{\\text{Question 6}}$"
   ]
  },
  {
   "cell_type": "markdown",
   "metadata": {},
   "source": [
    "For this question: read AnOverViewofCopulaCDOVerion-6.pdf"
   ]
  }
 ],
 "metadata": {
  "kernelspec": {
   "display_name": "M5450env",
   "language": "python",
   "name": "python3"
  },
  "language_info": {
   "codemirror_mode": {
    "name": "ipython",
    "version": 3
   },
   "file_extension": ".py",
   "mimetype": "text/x-python",
   "name": "python",
   "nbconvert_exporter": "python",
   "pygments_lexer": "ipython3",
   "version": "3.11.7"
  }
 },
 "nbformat": 4,
 "nbformat_minor": 2
}
