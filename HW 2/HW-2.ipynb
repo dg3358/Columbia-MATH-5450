{
 "cells": [
  {
   "cell_type": "markdown",
   "metadata": {},
   "source": [
    "# Homework 2 - Credit Analytics\n",
    "Submission by Dennis Goldenberg"
   ]
  },
  {
   "cell_type": "code",
   "execution_count": 3,
   "metadata": {},
   "outputs": [],
   "source": [
    "import numpy as np\n",
    "import pandas as pd"
   ]
  },
  {
   "cell_type": "markdown",
   "metadata": {},
   "source": [
    "## $\\underline{\\text{Question 1}}$"
   ]
  },
  {
   "cell_type": "markdown",
   "metadata": {},
   "source": [
    "### a. Expected Value of Loss Leg\n",
    "I use the formula for expectation and the formulas given to calculate:\n",
    "$$\n",
    "\\begin{align*}\n",
    "\\mathbb{E}\\left[\\text{PV}(\\text{loss})\\right] &= \\int_0^{\\Delta t}f(t)*\\text{PV}\\left(\\text{loss payment}|\\text{default at t}\\right)dt\\\\\n",
    "&= \\int_0^{\\Delta t}he^{-ht}*(1 - R)e^{-rt}dt\\\\\n",
    "&= h(1 - R)\\int_0^{\\Delta t}e^{-(r + h)t}dt\\\\\n",
    "&= h(1 - R)\\left[\\frac{e^{-(r + h)t}}{-(r + h)}\\right]_0^{\\Delta t}\\\\\n",
    "&= h(1 - R)\\left(\\frac{1}{r + h} - \\frac{e^{-(r + h)\\Delta t}}{r + h}\\right)\\\\\n",
    "&= \\frac{h}{r + h}(1 - R)\\left(1 - e^{-(r + h)\\Delta t}\\right)\n",
    "\\end{align*}\n",
    "$$\n",
    "Note that this quantity can be multiplied by the notional amount of the underlying bond; here, the implicit assumption is that the notional amount is 1 dollar."
   ]
  },
  {
   "cell_type": "markdown",
   "metadata": {},
   "source": [
    "### b. Expected Value of Refund"
   ]
  },
  {
   "cell_type": "markdown",
   "metadata": {},
   "source": [
    "### c. Fair Value of P for One-period Swap"
   ]
  },
  {
   "cell_type": "markdown",
   "metadata": {},
   "source": [
    "For this question: Read defaultswap.pdf"
   ]
  },
  {
   "cell_type": "markdown",
   "metadata": {},
   "source": [
    "## $\\underline{\\text{Question 2}}$"
   ]
  },
  {
   "cell_type": "markdown",
   "metadata": {},
   "source": [
    "For this question: read creditportfoliocalculation.pdf"
   ]
  },
  {
   "cell_type": "markdown",
   "metadata": {},
   "source": [
    "## $\\underline{\\text{Question 3}}$"
   ]
  },
  {
   "cell_type": "markdown",
   "metadata": {},
   "source": [
    "For this question: read understandingcopulas.pdf"
   ]
  },
  {
   "cell_type": "markdown",
   "metadata": {},
   "source": [
    "## $\\underline{\\text{Question 4}}$"
   ]
  },
  {
   "cell_type": "markdown",
   "metadata": {},
   "source": [
    "For this question: read AnOverViewofCopulaCDOVerion-6.pdf"
   ]
  },
  {
   "cell_type": "markdown",
   "metadata": {},
   "source": [
    "## $\\underline{\\text{Question 5}}$"
   ]
  },
  {
   "cell_type": "markdown",
   "metadata": {},
   "source": [
    "For this question: read creditportfoliocalculation.pdf"
   ]
  },
  {
   "cell_type": "markdown",
   "metadata": {},
   "source": [
    "## $\\underline{\\text{Question 6}}$"
   ]
  },
  {
   "cell_type": "markdown",
   "metadata": {},
   "source": [
    "For this question: read AnOverViewofCopulaCDOVerion-6.pdf"
   ]
  }
 ],
 "metadata": {
  "kernelspec": {
   "display_name": "M5450env",
   "language": "python",
   "name": "python3"
  },
  "language_info": {
   "codemirror_mode": {
    "name": "ipython",
    "version": 3
   },
   "file_extension": ".py",
   "mimetype": "text/x-python",
   "name": "python",
   "nbconvert_exporter": "python",
   "pygments_lexer": "ipython3",
   "version": "3.11.7"
  }
 },
 "nbformat": 4,
 "nbformat_minor": 2
}
