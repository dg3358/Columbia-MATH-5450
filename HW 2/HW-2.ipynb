{
 "cells": [
  {
   "cell_type": "markdown",
   "metadata": {},
   "source": [
    "# Homework 2 - Credit Analytics\n",
    "Submission by Dennis Goldenberg"
   ]
  },
  {
   "cell_type": "code",
   "execution_count": 2,
   "metadata": {},
   "outputs": [],
   "source": [
    "import numpy as np\n",
    "#import pandas as pd"
   ]
  },
  {
   "cell_type": "markdown",
   "metadata": {},
   "source": [
    "## $\\underline{\\text{Question 1}}$"
   ]
  },
  {
   "cell_type": "markdown",
   "metadata": {},
   "source": [
    "### a. Expected Value of Loss Leg\n",
    "I use the formula for expectation and the formulas given to calculate:\n",
    "$$\n",
    "\\begin{align*}\n",
    "\\mathbb{E}\\left[\\text{PV}(\\text{loss})\\right] &= \\int_0^{\\Delta t}f(t)*\\text{PV}\\left(\\text{loss payment}|\\text{default at t}\\right)dt\\\\\n",
    "&= \\int_0^{\\Delta t}he^{-ht}*(1 - R)e^{-rt}dt\\\\\n",
    "&= h(1 - R)\\int_0^{\\Delta t}e^{-(r + h)t}dt\\\\\n",
    "&= h(1 - R)\\left[\\frac{e^{-(r + h)t}}{-(r + h)}\\right]_0^{\\Delta t}\\\\\n",
    "&= h(1 - R)\\left(\\frac{1}{r + h} - \\frac{e^{-(r + h)\\Delta t}}{r + h}\\right)\\\\\n",
    "&= \\frac{h}{r + h}(1 - R)\\left(1 - e^{-(r + h)\\Delta t}\\right)\n",
    "\\end{align*}\n",
    "$$\n",
    "Note that this quantity can be multiplied by the notional amount of the underlying bond; here, the implicit assumption is that the notional amount is 1 dollar."
   ]
  },
  {
   "cell_type": "markdown",
   "metadata": {},
   "source": [
    "### b. Expected Value of Refund"
   ]
  },
  {
   "cell_type": "markdown",
   "metadata": {},
   "source": [
    "I establish a result that will prove useful in the proof:\n",
    "$$\n",
    "\\int_0^{\\Delta t}e^{-(r + h)t}dt = \\left[\\frac{e^{-(r + h)t}}{-(r + h)}\\right]_0^{\\Delta t} = \\frac{1 - e^{-(r + h)\\Delta t}}{r + h} \n",
    "$$\n",
    "Using conditional expectation, I solve:\n",
    "$$\n",
    "\\begin{align*}\n",
    "\\mathbb{E}\\left[\\text{PV}\\left(\\text{Refund}\\right)\\right] &= \\int_0^{\\Delta t}\\text{PV}\\left(\\text{Refund}|\\text{Default at }t\\right)f(t)dt\\\\\n",
    "&= \\int_0^{\\Delta t} P\\left(1 - \\frac{t}{\\Delta t}\\right)e^{-rt} * he^{-ht}dt\\\\\n",
    "&= P * h * \\int_0^{\\Delta t}\\left(1 - \\frac{t}{\\Delta t}\\right)e^{-(r + h)t}dt\\\\\n",
    "&= P * h * \\left(\\int_0^{\\Delta t}e^{-(r + h)t}dt - \\frac{1}{\\Delta t}\\int_0^{\\Delta t}te^{-(r + h)t}dt\\right)\\\\\n",
    "&= P * h \\left(\\frac{1 - e^{-(r + h)\\Delta t}}{r + h} - \\frac{1}{\\Delta t}\\int_0^{\\Delta t}te^{-(r + h)t}dt\\right)\n",
    "\\end{align*}\n",
    "$$\n",
    "I then use integration by parts, with $u = t \\text{ , } du = dt$  and $dv = e^{-(r + h)t}dt \\text{ , } v = \\frac{e^{-(r + h)t}}{-(r + h)}$:\n",
    "$$\n",
    "\\begin{align*}\n",
    "&\\mathbb{E}\\left[\\text{PV}\\left(\\text{Refund}\\right)\\right]\\\\\n",
    "&= P * h \\left(\\frac{1 - e^{-(r + h)\\Delta t}}{r + h} - \\frac{1}{\\Delta t}\\int_0^{\\Delta t}te^{-(r + h)t}dt\\right)\\\\\n",
    "&= P * h \\left(\\frac{1 - e^{-(r + h)\\Delta t}}{r + h} - \\frac{1}{\\Delta t}\\left[\\frac{t*e^{-(r + h)t}}{-(r + h)} + \\frac{1}{r + h}\\int_0^{\\Delta t}e^{-(r + h)t}dt\\right]\\right)\\\\\n",
    "&= P * h \\left(\\frac{1 - e^{-(r + h)\\Delta t}}{r + h} - \\frac{1}{\\Delta t}\\left[\\frac{t*e^{-(r + h)t}}{-(r + h)} + \\frac{1}{r + h}*\\left(\\frac{e^{-(r + h)t}}{-(r + h)}\\right)\\right]_0^{\\Delta t}\\right)\\\\\n",
    "&= P * h \\left(\\frac{1 - e^{-(r + h)\\Delta t}}{r + h} - \\frac{1}{\\Delta t}\\left[\\frac{-\\Delta t e^{-(r + h)t}}{r + h} + \\frac{1}{(r + h)^2} - \\frac{e^{-(r + h)\\Delta t}}{(r + h)^2}\\right]\\right)\\\\\n",
    "&= \\frac{Ph}{(r + h)}\\left(1 - e^{-(r + h)\\Delta t} + e^{-(r + h)\\Delta t} - \\frac{1}{(r + h)\\Delta t} + \\frac{e^{-(r + h)\\Delta t}}{(r + h)\\Delta t}\\right)\\\\\n",
    "&= \\frac{Ph}{(r + h)}\\left(1 - \\frac{1}{(r + h)\\Delta t}\\left[1 - e^{-(r + h)\\Delta t}\\right]\\right)\n",
    "\\end{align*}\n",
    "$$"
   ]
  },
  {
   "cell_type": "markdown",
   "metadata": {},
   "source": [
    "### c. Fair Value of P for One-period Swap\n",
    "Let $L \\sim \\text{Exponential}(r + h)$. Therefore, $F_L(\\Delta t) = 1 - e^{-(r + h)\\Delta t}$. This will be useful for simplifying the final result. I form the break-even premium by recognizing the simple accounting equality:\n",
    "$$\n",
    "\\text{PV}(\\text{Loss}) = \\text{PV}(\\text{Premium}) - \\text{PV}(\\text{Refund Payment})\n",
    "$$\n",
    "The expected present value of loss is given in part a, and the expected present value of the refund payment is given in part c. Since premium $P$ is paid at the beginning of the preiod, its present value is just $P$. So, I take the expectation of both sides and solve for the break-even premium:\n",
    "$$\n",
    "\\begin{align*}\n",
    "&\\text{EPV}(\\text{Loss}) = P - \\text{EPV}(\\text{Refund})\\\\\n",
    "&\\rightarrow \\frac{h}{r + h}(1 - R)F_L(\\Delta t) = P - \\frac{Ph}{r + h}\\left(1 - \\frac{1}{(r + h)\\Delta t}F_L(\\Delta t)\\right)\\\\\n",
    "&\\rightarrow \\frac{h}{r + h}(1 - R)F_L(\\Delta t) = P\\left(1 - \\frac{h}{r + h}\\left(1 - \\frac{1}{(r + h)\\Delta t}F_L(\\Delta t)\\right)\\right)\\\\\n",
    "&\\rightarrow P = \\frac{\\frac{h}{r + h}(1 - R)F_L(\\Delta t)}{\\left(1 - \\frac{h}{r + h}\\left(1 - \\frac{1}{(r + h)\\Delta t}F_L(\\Delta t)\\right)\\right)}\n",
    "\\end{align*}\n",
    "$$ \n",
    "Note that, once again, the notional amount is assumed to be a dollar."
   ]
  },
  {
   "cell_type": "markdown",
   "metadata": {},
   "source": [
    "## $\\underline{\\text{Question 2}}$"
   ]
  },
  {
   "cell_type": "markdown",
   "metadata": {},
   "source": [
    "### a. Verifying intra and inter industry correlation\n",
    "#### $\\underline{\\text{Showing intra-industry correlation equals } \\rho_I}$\n",
    "Let $X_i^k$ and $X_j^k$ be returns from two different firms in the same industry $k$. I establish some preliminary results to make some calculations easier. Using the fact that $X_k, X_M, \\epsilon_i, \\epsilon_j \\sim N(0,1)$:\n",
    "$$\n",
    "\\begin{align*}\n",
    "&\\mathbb{E}[X_i^k] = \\sqrt{\\rho_I - \\rho_O}*\\mathbb{E}[X_k] + \\sqrt{\\rho_O}*\\mathbb{E}[X_M] + \\sqrt{1 - \\rho_I}*\\mathbb{E}[\\epsilon_i] = 0\\\\\n",
    "&\\mathbb{E}[X_j^k] = \\sqrt{\\rho_I - \\rho_O}*\\mathbb{E}[X_k] + \\sqrt{\\rho_O}*\\mathbb{E}[X_M] + \\sqrt{1 - \\rho_I}*\\mathbb{E}[\\epsilon_j] = 0\n",
    "\\end{align*}\n",
    "$$\n",
    "Also:\n",
    "$$\n",
    "\\begin{align*}\n",
    "\\sigma\\left(X_i^k\\right) &= \\sqrt{Var[X_i^k]}\\\\\n",
    "&= \\sqrt{(\\rho_I - \\rho_O)Var[X_k] + \\rho_O Var[X_M] + (1 - \\rho_I)Var[\\epsilon_i]}\\\\\n",
    "&= \\sqrt{(\\rho_I - \\rho_O)(1) + \\rho_O(1) + (1 - \\rho_I)(1)}\\\\\n",
    "&= \\sqrt{\\rho_I - \\rho_O + \\rho_O + 1 - \\rho_I} = \\sqrt{1} = 1\n",
    "\\end{align*}\n",
    "$$\n",
    "Since $Var[\\epsilon_j] = Var[\\epsilon_i] = 1$ and this is the only difference between calculating the standard deviation of $X_j^k$ and $X_i^k$, I find that $\\sigma\\left(X_j^k\\right) = 1$. Next, using the fact that $X_k, X_M, \\epsilon_i, \\text{ and } \\epsilon_j$ are all mutually independent (assuming errors independent of one another), and all have means of 0:\n",
    "$$\n",
    "\\begin{align*}\n",
    "&\\mathbb{E}[X_kX_M] = \\mathbb{E}[X_k\\epsilon_i] = \\mathbb{E}[X_k\\epsilon_j] = \\mathbb{E}[X_M\\epsilon_i] = \\mathbb{E}[X_M\\epsilon_j] = \\mathbb{E}[\\epsilon_i\\epsilon_j]\\\\\n",
    "&= \\mathbb{E}[\\epsilon_i]\\mathbb{E}[\\epsilon_j] = 0 * 0 = 0\n",
    "\\end{align*}\n",
    "$$\n",
    "So, I calculate the correlation in returns, simplifying calculations by eliminating terms with 0 expectation:\n",
    "$$\n",
    "\\begin{align*}\n",
    "&\\text{Corr}\\left[X_i^k, X_j^k\\right]\\\\\n",
    "&= \\frac{\\text{Cov}\\left(X_i^k, X_j^k\\right)}{\\sigma\\left(X_i^k\\right)\\sigma\\left(X_j^k\\right)}\\\\\n",
    "&= \\frac{\\mathbb{E}[X_i^kX_j^k] - \\mathbb{E}[X_i^k]\\mathbb{E}[X_j^k]}{1 * 1}\\\\\n",
    "&= \\mathbb{E}[X_i^kX_j^k] - 0 * 0\\\\\n",
    "&= \\mathbb{E}\\left[\\left(\\sqrt{\\rho_I - \\rho_O}X_k + \\sqrt{\\rho_O}X_M + \\sqrt{1 - \\rho_I}\\epsilon_i\\right)\\left(\\sqrt{\\rho_I - \\rho_O}X_k + \\sqrt{\\rho_O}X_M + \\sqrt{1 - \\rho_I}\\epsilon_j\\right)\\right]\\\\\n",
    "&= \\mathbb{E}\\left[(\\rho_I - \\rho_O)X_k^2 + \\rho_OX_M^2\\right]\\\\\n",
    "&= (\\rho_I - \\rho_O)\\mathbb{E}[X_k^2] + \\rho_O\\mathbb{E}[X_M^2]\\\\\n",
    "&= (\\rho_I - \\rho_O)\\left(Var[X_k^2] + \\mathbb{E}[X_k]^2\\right) + \\rho_O\\left(Var[X_M^2] + \\mathbb{E}[X_M]^2\\right)\\\\\n",
    "&= (\\rho_I - \\rho_O)\\left(1 + 0^2\\right) + \\rho_O\\left(1 + 0^2\\right)\\\\\n",
    "&= \\rho_I - \\rho_O + \\rho_O\\\\\n",
    "&= \\rho_I\n",
    "\\end{align*}\n",
    "$$\n",
    "#### $\\underline{\\text{Showing inter-industry correlation equals } \\rho_O}$\n",
    "Let $X_i^k$ and $X_z^l$ be returns from two different firms from two different industries. As before, it is still true that:\n",
    "$$\n",
    "\\begin{align*}\n",
    "&\\mathbb{E}[X_i^k] = \\mathbb{E}[X_z^l] = 0\\\\\n",
    "&\\sigma\\left(X_i^k\\right) = \\sigma\\left(X_z^l\\right) = 1\n",
    "\\end{align*}\n",
    "$$\n",
    "Further, as before, when calculating $\\mathbb{E}\\left[X_i^kX_z^l\\right]$, it is known that $X_k, X_l, X_M, \\epsilon_i, \\epsilon_z$ are all independent and have mean 0 (assuming errors independent of one another and industry returns independent of one another); therefore:\n",
    "$$\n",
    "\\begin{align*}\n",
    "&\\mathbb{E}[X_kX_l] = \\mathbb{E}[X_kX_M] = \\mathbb{E}[X_k\\epsilon_z] = \\mathbb{E}[X_MX_l] = \\mathbb{E}[X_M\\epsilon_z] = \\mathbb{E}[\\epsilon_i X_l] = \\mathbb{E}[\\epsilon_i\\epsilon_z]\\\\\n",
    "&= \\mathbb{E}[\\epsilon_i]\\mathbb{E}[\\epsilon_z] = 0 * 0 = 0\n",
    "\\end{align*}\n",
    "$$\n",
    "So, I calculate the correlation of the returns:\n",
    "$$\n",
    "\\begin{align*}\n",
    "&\\text{Corr}\\left[X_i^k, X_z^l\\right]\\\\\n",
    "&= \\frac{\\text{Cov}\\left(X_i^k, X_z^l\\right)}{\\sigma\\left(X_i^k\\right)\\sigma\\left(X_z^l\\right)}\\\\\n",
    "&= \\frac{\\mathbb{E}[X_i^kX_z^l] - \\mathbb{E}[X_i^k]\\mathbb{E}[X_z^l]}{1 * 1}\\\\\n",
    "&= \\mathbb{E}[X_i^kX_z^l] - 0 * 0\\\\\n",
    "&= \\mathbb{E}\\left[\\left(\\sqrt{\\rho_I - \\rho_O}X_k + \\sqrt{\\rho_O}X_M + \\sqrt{1 - \\rho_I}\\epsilon_i\\right)\\left(\\sqrt{\\rho_I - \\rho_O}X_l + \\sqrt{\\rho_O}X_M + \\sqrt{1 - \\rho_I}\\epsilon_z\\right)\\right]\\\\\n",
    "&= \\mathbb{E}\\left[\\rho_O X_M^2\\right]\\\\\n",
    "&= \\rho_O\\mathbb{E}[X_M^2]\\\\\n",
    "&= \\rho_O\\left(Var[X_M^2] + \\mathbb{E}[X_M]^2\\right)\\\\\n",
    "&= \\rho_O\\left(1 + 0^2\\right)\\\\\n",
    "&= \\rho_O\n",
    "\\end{align*}\n",
    "$$"
   ]
  },
  {
   "cell_type": "markdown",
   "metadata": {},
   "source": [
    "### b. How many independent factors are needed?\n",
    "In the model highlighted in the question, there is one factor per industry for industry-specific returns, and one factor that represents the overall market; therefore, if there is a total of 12 different industries, there would need to be $12 + 1 = \\mathbf{13}$ different independent factors to represent the correlation matrix."
   ]
  },
  {
   "cell_type": "markdown",
   "metadata": {},
   "source": [
    "### c. Constructing the Correlation Matrix for the Portfolio\n",
    "If there are 10 lines of credit, and 2 from each of 5 industries, I order the firms in the following manner:\n",
    "$$\n",
    "\\begin{align*}\n",
    "&\\text{Firm 1 and 2 are in industry 1.}\\\\ \n",
    "&\\text{Firm 3 and 4 are in industry 2.}\\\\\n",
    "&\\text{Firm 5 and 6 are in industry 3.}\\\\ \n",
    "&\\text{Firm 7 and 8 are in industry 4.}\\\\\n",
    "&\\text{Firm 9 and 10 are in industry 5.} \n",
    "\\end{align*}\n",
    "$$\n",
    "Therefore, $\\text{Corr}[X_1, X_2] = \\text{Corr}[X_3, X_4] = \\dots = \\text{Corr}[X_9,X_{10}] = \\rho_I = 0.5$ and the other combinations have a correlation of $\\rho_O = 0.1$. Thus, the correlation matrix for these 10 credit names are as follows:\n",
    "$$\n",
    "\\Sigma = \\begin{bmatrix}\n",
    "1 & 0.5 & 0.1 & 0.1 & 0.1 & 0.1 & 0.1 & 0.1 & 0.1 & 0.1\\\\\n",
    "0.5 & 1 & 0.1 & 0.1 & 0.1 & 0.1 & 0.1 & 0.1 & 0.1 & 0.1\\\\\n",
    "0.1 & 0.1 & 1 & 0.5 & 0.1 & 0.1 & 0.1 & 0.1 & 0.1 & 0.1\\\\\n",
    "0.1 & 0.1 & 0.5 & 1 & 0.1 & 0.1 & 0.1 & 0.1 & 0.1 & 0.1\\\\\n",
    "0.1 & 0.1 & 0.1 & 0.1 & 1 & 0.5 & 0.1 & 0.1 & 0.1 & 0.1\\\\\n",
    "0.1 & 0.1 & 0.1 & 0.1 & 0.5 & 1 & 0.1 & 0.1 & 0.1 & 0.1\\\\\n",
    "0.1 & 0.1 & 0.1 & 0.1 & 0.1 & 0.1 & 1 & 0.5 & 0.1 & 0.1\\\\\n",
    "0.1 & 0.1 & 0.1 & 0.1 & 0.1 & 0.1 & 0.5 & 1 & 0.1 & 0.1\\\\\n",
    "0.1 & 0.1 & 0.1 & 0.1 & 0.1 & 0.1 & 0.1 & 0.1 & 1 & 0.5\\\\\n",
    "0.1 & 0.1 & 0.1 & 0.1 & 0.1 & 0.1 & 0.1 & 0.1 & 0.5 & 1\n",
    "\\end{bmatrix}\n",
    "$$"
   ]
  },
  {
   "cell_type": "markdown",
   "metadata": {},
   "source": [
    "## $\\underline{\\text{Question 3}}$"
   ]
  },
  {
   "cell_type": "markdown",
   "metadata": {},
   "source": [
    "For this question: read understandingcopulas.pdf"
   ]
  },
  {
   "cell_type": "markdown",
   "metadata": {},
   "source": [
    "## $\\underline{\\text{Question 4}}$"
   ]
  },
  {
   "cell_type": "markdown",
   "metadata": {},
   "source": [
    "For this question: read AnOverViewofCopulaCDOVerion-6.pdf"
   ]
  },
  {
   "cell_type": "markdown",
   "metadata": {},
   "source": [
    "## $\\underline{\\text{Question 5}}$"
   ]
  },
  {
   "cell_type": "markdown",
   "metadata": {},
   "source": [
    "For this question: read creditportfoliocalculation.pdf"
   ]
  },
  {
   "cell_type": "markdown",
   "metadata": {},
   "source": [
    "## $\\underline{\\text{Question 6}}$"
   ]
  },
  {
   "cell_type": "markdown",
   "metadata": {},
   "source": [
    "For this question: read AnOverViewofCopulaCDOVerion-6.pdf"
   ]
  }
 ],
 "metadata": {
  "kernelspec": {
   "display_name": "M5450env",
   "language": "python",
   "name": "python3"
  },
  "language_info": {
   "codemirror_mode": {
    "name": "ipython",
    "version": 3
   },
   "file_extension": ".py",
   "mimetype": "text/x-python",
   "name": "python",
   "nbconvert_exporter": "python",
   "pygments_lexer": "ipython3",
   "version": "3.11.7"
  }
 },
 "nbformat": 4,
 "nbformat_minor": 2
}
