{
 "cells": [
  {
   "cell_type": "markdown",
   "metadata": {},
   "source": [
    "# Homework 2 - Credit Analytics\n",
    "Submission by Dennis Goldenberg"
   ]
  },
  {
   "cell_type": "code",
   "execution_count": 2,
   "metadata": {},
   "outputs": [],
   "source": [
    "import numpy as np\n",
    "#import pandas as pd"
   ]
  },
  {
   "cell_type": "markdown",
   "metadata": {},
   "source": [
    "## $\\underline{\\text{Question 1}}$"
   ]
  },
  {
   "cell_type": "markdown",
   "metadata": {},
   "source": [
    "### a. Expected Value of Loss Leg\n",
    "I use the formula for expectation and the formulas given to calculate:\n",
    "$$\n",
    "\\begin{align*}\n",
    "\\mathbb{E}\\left[\\text{PV}(\\text{loss})\\right] &= \\int_0^{\\Delta t}f(t)*\\text{PV}\\left(\\text{loss payment}|\\text{default at t}\\right)dt\\\\\n",
    "&= \\int_0^{\\Delta t}he^{-ht}*(1 - R)e^{-rt}dt\\\\\n",
    "&= h(1 - R)\\int_0^{\\Delta t}e^{-(r + h)t}dt\\\\\n",
    "&= h(1 - R)\\left[\\frac{e^{-(r + h)t}}{-(r + h)}\\right]_0^{\\Delta t}\\\\\n",
    "&= h(1 - R)\\left(\\frac{1}{r + h} - \\frac{e^{-(r + h)\\Delta t}}{r + h}\\right)\\\\\n",
    "&= \\frac{h}{r + h}(1 - R)\\left(1 - e^{-(r + h)\\Delta t}\\right)\n",
    "\\end{align*}\n",
    "$$\n",
    "Note that this quantity can be multiplied by the notional amount of the underlying bond; here, the implicit assumption is that the notional amount is 1 dollar."
   ]
  },
  {
   "cell_type": "markdown",
   "metadata": {},
   "source": [
    "### b. Expected Value of Refund"
   ]
  },
  {
   "cell_type": "markdown",
   "metadata": {},
   "source": [
    "I establish a result that will prove useful in the proof:\n",
    "$$\n",
    "\\int_0^{\\Delta t}e^{-(r + h)t}dt = \\left[\\frac{e^{-(r + h)t}}{-(r + h)}\\right]_0^{\\Delta t} = \\frac{1 - e^{-(r + h)\\Delta t}}{r + h} \n",
    "$$\n",
    "Using conditional expectation, I solve:\n",
    "$$\n",
    "\\begin{align*}\n",
    "\\mathbb{E}\\left[\\text{PV}\\left(\\text{Refund}\\right)\\right] &= \\int_0^{\\Delta t}\\text{PV}\\left(\\text{Refund}|\\text{Default at }t\\right)f(t)dt\\\\\n",
    "&= \\int_0^{\\Delta t} P\\left(1 - \\frac{t}{\\Delta t}\\right)e^{-rt} * he^{-ht}dt\\\\\n",
    "&= P * h * \\int_0^{\\Delta t}\\left(1 - \\frac{t}{\\Delta t}\\right)e^{-(r + h)t}dt\\\\\n",
    "&= P * h * \\left(\\int_0^{\\Delta t}e^{-(r + h)t}dt - \\frac{1}{\\Delta t}\\int_0^{\\Delta t}te^{-(r + h)t}dt\\right)\\\\\n",
    "&= P * h \\left(\\frac{1 - e^{-(r + h)\\Delta t}}{r + h} - \\frac{1}{\\Delta t}\\int_0^{\\Delta t}te^{-(r + h)t}dt\\right)\n",
    "\\end{align*}\n",
    "$$\n",
    "I then use integration by parts, with $u = t \\text{ , } du = dt$  and $dv = e^{-(r + h)t}dt \\text{ , } v = \\frac{e^{-(r + h)t}}{-(r + h)}$:\n",
    "$$\n",
    "\\begin{align*}\n",
    "&\\mathbb{E}\\left[\\text{PV}\\left(\\text{Refund}\\right)\\right]\\\\\n",
    "&= P * h \\left(\\frac{1 - e^{-(r + h)\\Delta t}}{r + h} - \\frac{1}{\\Delta t}\\int_0^{\\Delta t}te^{-(r + h)t}dt\\right)\\\\\n",
    "&= P * h \\left(\\frac{1 - e^{-(r + h)\\Delta t}}{r + h} - \\frac{1}{\\Delta t}\\left[\\frac{t*e^{-(r + h)t}}{-(r + h)} + \\frac{1}{r + h}\\int_0^{\\Delta t}e^{-(r + h)t}dt\\right]\\right)\\\\\n",
    "&= P * h \\left(\\frac{1 - e^{-(r + h)\\Delta t}}{r + h} - \\frac{1}{\\Delta t}\\left[\\frac{t*e^{-(r + h)t}}{-(r + h)} + \\frac{1}{r + h}*\\left(\\frac{e^{-(r + h)t}}{-(r + h)}\\right)\\right]_0^{\\Delta t}\\right)\\\\\n",
    "&= P * h \\left(\\frac{1 - e^{-(r + h)\\Delta t}}{r + h} - \\frac{1}{\\Delta t}\\left[\\frac{-\\Delta t e^{-(r + h)t}}{r + h} + \\frac{1}{(r + h)^2} - \\frac{e^{-(r + h)\\Delta t}}{(r + h)^2}\\right]\\right)\\\\\n",
    "&= \\frac{Ph}{(r + h)}\\left(1 - e^{-(r + h)\\Delta t} + e^{-(r + h)\\Delta t} - \\frac{1}{(r + h)\\Delta t} + \\frac{e^{-(r + h)\\Delta t}}{(r + h)\\Delta t}\\right)\\\\\n",
    "&= \\frac{Ph}{(r + h)}\\left(1 - \\frac{1}{(r + h)\\Delta t}\\left[1 - e^{-(r + h)\\Delta t}\\right]\\right)\n",
    "\\end{align*}\n",
    "$$"
   ]
  },
  {
   "cell_type": "markdown",
   "metadata": {},
   "source": [
    "### c. Fair Value of P for One-period Swap\n",
    "Let $L \\sim \\text{Exponential}(r + h)$. Therefore, $F_L(\\Delta t) = 1 - e^{-(r + h)\\Delta t}$. This will be useful for simplifying the final result. I form the break-even premium by recognizing the simple accounting equality:\n",
    "$$\n",
    "\\text{PV}(\\text{Loss}) = \\text{PV}(\\text{Premium}) - \\text{PV}(\\text{Refund Payment})\n",
    "$$\n",
    "The expected present value of loss is given in part a, and the expected present value of the refund payment is given in part c. Since premium $P$ is paid at the beginning of the preiod, its present value is just $P$. So, I take the expectation of both sides and solve for the break-even premium:\n",
    "$$\n",
    "\\begin{align*}\n",
    "&\\text{EPV}(\\text{Loss}) = P - \\text{EPV}(\\text{Refund})\\\\\n",
    "&\\rightarrow \\frac{h}{r + h}(1 - R)F_L(\\Delta t) = P - \\frac{Ph}{r + h}\\left(1 - \\frac{1}{(r + h)\\Delta t}F_L(\\Delta t)\\right)\\\\\n",
    "&\\rightarrow \\frac{h}{r + h}(1 - R)F_L(\\Delta t) = P\\left(1 - \\frac{h}{r + h}\\left(1 - \\frac{1}{(r + h)\\Delta t}F_L(\\Delta t)\\right)\\right)\\\\\n",
    "&\\rightarrow P = \\frac{\\frac{h}{r + h}(1 - R)F_L(\\Delta t)}{\\left(1 - \\frac{h}{r + h}\\left(1 - \\frac{1}{(r + h)\\Delta t}F_L(\\Delta t)\\right)\\right)}\n",
    "\\end{align*}\n",
    "$$ \n",
    "Note that, once again, the notional amount is assumed to be a dollar."
   ]
  },
  {
   "cell_type": "markdown",
   "metadata": {},
   "source": [
    "## $\\underline{\\text{Question 2}}$"
   ]
  },
  {
   "cell_type": "markdown",
   "metadata": {},
   "source": [
    "### a. Verifying intra and inter industry correlation\n",
    "#### $\\underline{\\text{Showing intra-industry correlation equals } \\rho_I}$\n",
    "Let $X_i^k$ and $X_j^k$ be returns from two different firms in the same industry $k$. I establish some preliminary results to make some calculations easier. Using the fact that $X_k, X_M, \\epsilon_i, \\epsilon_j \\sim N(0,1)$:\n",
    "$$\n",
    "\\begin{align*}\n",
    "&\\mathbb{E}[X_i^k] = \\sqrt{\\rho_I - \\rho_O}*\\mathbb{E}[X_k] + \\sqrt{\\rho_O}*\\mathbb{E}[X_M] + \\sqrt{1 - \\rho_I}*\\mathbb{E}[\\epsilon_i] = 0\\\\\n",
    "&\\mathbb{E}[X_j^k] = \\sqrt{\\rho_I - \\rho_O}*\\mathbb{E}[X_k] + \\sqrt{\\rho_O}*\\mathbb{E}[X_M] + \\sqrt{1 - \\rho_I}*\\mathbb{E}[\\epsilon_j] = 0\n",
    "\\end{align*}\n",
    "$$\n",
    "Also:\n",
    "$$\n",
    "\\begin{align*}\n",
    "\\sigma\\left(X_i^k\\right) &= \\sqrt{Var[X_i^k]}\\\\\n",
    "&= \\sqrt{(\\rho_I - \\rho_O)Var[X_k] + \\rho_O Var[X_M] + (1 - \\rho_I)Var[\\epsilon_i]}\\\\\n",
    "&= \\sqrt{(\\rho_I - \\rho_O)(1) + \\rho_O(1) + (1 - \\rho_I)(1)}\\\\\n",
    "&= \\sqrt{\\rho_I - \\rho_O + \\rho_O + 1 - \\rho_I} = \\sqrt{1} = 1\n",
    "\\end{align*}\n",
    "$$\n",
    "Since $Var[\\epsilon_j] = Var[\\epsilon_i] = 1$ and this is the only difference between calculating the standard deviation of $X_j^k$ and $X_i^k$, I find that $\\sigma\\left(X_j^k\\right) = 1$. Next, using the fact that $X_k, X_M, \\epsilon_i, \\text{ and } \\epsilon_j$ are all mutually independent (assuming errors independent of one another), and all have means of 0:\n",
    "$$\n",
    "\\begin{align*}\n",
    "&\\mathbb{E}[X_kX_M] = \\mathbb{E}[X_k\\epsilon_i] = \\mathbb{E}[X_k\\epsilon_j] = \\mathbb{E}[X_M\\epsilon_i] = \\mathbb{E}[X_M\\epsilon_j] = \\mathbb{E}[\\epsilon_i\\epsilon_j]\\\\\n",
    "&= \\mathbb{E}[\\epsilon_i]\\mathbb{E}[\\epsilon_j] = 0 * 0 = 0\n",
    "\\end{align*}\n",
    "$$\n",
    "So, I calculate the correlation in returns, simplifying calculations by eliminating terms with 0 expectation:\n",
    "$$\n",
    "\\begin{align*}\n",
    "&\\text{Corr}\\left[X_i^k, X_j^k\\right]\\\\\n",
    "&= \\frac{\\text{Cov}\\left(X_i^k, X_j^k\\right)}{\\sigma\\left(X_i^k\\right)\\sigma\\left(X_j^k\\right)}\\\\\n",
    "&= \\frac{\\mathbb{E}[X_i^kX_j^k] - \\mathbb{E}[X_i^k]\\mathbb{E}[X_j^k]}{1 * 1}\\\\\n",
    "&= \\mathbb{E}[X_i^kX_j^k] - 0 * 0\\\\\n",
    "&= \\mathbb{E}\\left[\\left(\\sqrt{\\rho_I - \\rho_O}X_k + \\sqrt{\\rho_O}X_M + \\sqrt{1 - \\rho_I}\\epsilon_i\\right)\\left(\\sqrt{\\rho_I - \\rho_O}X_k + \\sqrt{\\rho_O}X_M + \\sqrt{1 - \\rho_I}\\epsilon_j\\right)\\right]\\\\\n",
    "&= \\mathbb{E}\\left[(\\rho_I - \\rho_O)X_k^2 + \\rho_OX_M^2\\right]\\\\\n",
    "&= (\\rho_I - \\rho_O)\\mathbb{E}[X_k^2] + \\rho_O\\mathbb{E}[X_M^2]\\\\\n",
    "&= (\\rho_I - \\rho_O)\\left(Var[X_k^2] + \\mathbb{E}[X_k]^2\\right) + \\rho_O\\left(Var[X_M^2] + \\mathbb{E}[X_M]^2\\right)\\\\\n",
    "&= (\\rho_I - \\rho_O)\\left(1 + 0^2\\right) + \\rho_O\\left(1 + 0^2\\right)\\\\\n",
    "&= \\rho_I - \\rho_O + \\rho_O\\\\\n",
    "&= \\rho_I\n",
    "\\end{align*}\n",
    "$$\n",
    "#### $\\underline{\\text{Showing inter-industry correlation equals } \\rho_O}$\n",
    "Let $X_i^k$ and $X_z^l$ be returns from two different firms from two different industries. As before, it is still true that:\n",
    "$$\n",
    "\\begin{align*}\n",
    "&\\mathbb{E}[X_i^k] = \\mathbb{E}[X_z^l] = 0\\\\\n",
    "&\\sigma\\left(X_i^k\\right) = \\sigma\\left(X_z^l\\right) = 1\n",
    "\\end{align*}\n",
    "$$\n",
    "Further, as before, when calculating $\\mathbb{E}\\left[X_i^kX_z^l\\right]$, it is known that $X_k, X_l, X_M, \\epsilon_i, \\epsilon_z$ are all independent and have mean 0 (assuming errors independent of one another and industry returns independent of one another); therefore:\n",
    "$$\n",
    "\\begin{align*}\n",
    "&\\mathbb{E}[X_kX_l] = \\mathbb{E}[X_kX_M] = \\mathbb{E}[X_k\\epsilon_z] = \\mathbb{E}[X_MX_l] = \\mathbb{E}[X_M\\epsilon_z] = \\mathbb{E}[\\epsilon_i X_l] = \\mathbb{E}[\\epsilon_i\\epsilon_z]\\\\\n",
    "&= \\mathbb{E}[\\epsilon_i]\\mathbb{E}[\\epsilon_z] = 0 * 0 = 0\n",
    "\\end{align*}\n",
    "$$\n",
    "So, I calculate the correlation of the returns:\n",
    "$$\n",
    "\\begin{align*}\n",
    "&\\text{Corr}\\left[X_i^k, X_z^l\\right]\\\\\n",
    "&= \\frac{\\text{Cov}\\left(X_i^k, X_z^l\\right)}{\\sigma\\left(X_i^k\\right)\\sigma\\left(X_z^l\\right)}\\\\\n",
    "&= \\frac{\\mathbb{E}[X_i^kX_z^l] - \\mathbb{E}[X_i^k]\\mathbb{E}[X_z^l]}{1 * 1}\\\\\n",
    "&= \\mathbb{E}[X_i^kX_z^l] - 0 * 0\\\\\n",
    "&= \\mathbb{E}\\left[\\left(\\sqrt{\\rho_I - \\rho_O}X_k + \\sqrt{\\rho_O}X_M + \\sqrt{1 - \\rho_I}\\epsilon_i\\right)\\left(\\sqrt{\\rho_I - \\rho_O}X_l + \\sqrt{\\rho_O}X_M + \\sqrt{1 - \\rho_I}\\epsilon_z\\right)\\right]\\\\\n",
    "&= \\mathbb{E}\\left[\\rho_O X_M^2\\right]\\\\\n",
    "&= \\rho_O\\mathbb{E}[X_M^2]\\\\\n",
    "&= \\rho_O\\left(Var[X_M^2] + \\mathbb{E}[X_M]^2\\right)\\\\\n",
    "&= \\rho_O\\left(1 + 0^2\\right)\\\\\n",
    "&= \\rho_O\n",
    "\\end{align*}\n",
    "$$"
   ]
  },
  {
   "cell_type": "markdown",
   "metadata": {},
   "source": [
    "### b. How many independent factors are needed?\n",
    "In the model highlighted in the question, there is one factor per industry for industry-specific returns, and one factor that represents the overall market; therefore, if there is a total of 12 different industries, there would need to be $12 + 1 = \\mathbf{13}$ different independent factors to represent the correlation matrix."
   ]
  },
  {
   "cell_type": "markdown",
   "metadata": {},
   "source": [
    "### c. Constructing the Correlation Matrix for the Portfolio\n",
    "If there are 10 lines of credit, and 2 from each of 5 industries, I order the firms in the following manner:\n",
    "$$\n",
    "\\begin{align*}\n",
    "&\\text{Firm 1 and 2 are in industry 1.}\\\\ \n",
    "&\\text{Firm 3 and 4 are in industry 2.}\\\\\n",
    "&\\text{Firm 5 and 6 are in industry 3.}\\\\ \n",
    "&\\text{Firm 7 and 8 are in industry 4.}\\\\\n",
    "&\\text{Firm 9 and 10 are in industry 5.} \n",
    "\\end{align*}\n",
    "$$\n",
    "Therefore, $\\text{Corr}[X_1, X_2] = \\text{Corr}[X_3, X_4] = \\dots = \\text{Corr}[X_9,X_{10}] = \\rho_I = 0.5$ and the other combinations have a correlation of $\\rho_O = 0.1$. Thus, the correlation matrix for these 10 credit names are as follows:\n",
    "$$\n",
    "\\Sigma = \\begin{bmatrix}\n",
    "1 & 0.5 & 0.1 & 0.1 & 0.1 & 0.1 & 0.1 & 0.1 & 0.1 & 0.1\\\\\n",
    "0.5 & 1 & 0.1 & 0.1 & 0.1 & 0.1 & 0.1 & 0.1 & 0.1 & 0.1\\\\\n",
    "0.1 & 0.1 & 1 & 0.5 & 0.1 & 0.1 & 0.1 & 0.1 & 0.1 & 0.1\\\\\n",
    "0.1 & 0.1 & 0.5 & 1 & 0.1 & 0.1 & 0.1 & 0.1 & 0.1 & 0.1\\\\\n",
    "0.1 & 0.1 & 0.1 & 0.1 & 1 & 0.5 & 0.1 & 0.1 & 0.1 & 0.1\\\\\n",
    "0.1 & 0.1 & 0.1 & 0.1 & 0.5 & 1 & 0.1 & 0.1 & 0.1 & 0.1\\\\\n",
    "0.1 & 0.1 & 0.1 & 0.1 & 0.1 & 0.1 & 1 & 0.5 & 0.1 & 0.1\\\\\n",
    "0.1 & 0.1 & 0.1 & 0.1 & 0.1 & 0.1 & 0.5 & 1 & 0.1 & 0.1\\\\\n",
    "0.1 & 0.1 & 0.1 & 0.1 & 0.1 & 0.1 & 0.1 & 0.1 & 1 & 0.5\\\\\n",
    "0.1 & 0.1 & 0.1 & 0.1 & 0.1 & 0.1 & 0.1 & 0.1 & 0.5 & 1\n",
    "\\end{bmatrix}\n",
    "$$"
   ]
  },
  {
   "cell_type": "markdown",
   "metadata": {},
   "source": [
    "## $\\underline{\\text{Question 3}}$"
   ]
  },
  {
   "cell_type": "markdown",
   "metadata": {},
   "source": [
    "### a. Proving $F(X) \\sim \\text{Uniform}(0,1)$\n",
    "Note that $F(x) = \\mathbb{P}(X \\leq x)$ and the support of a probability function is $S(\\mathbb{P}(\\cdot)) = (0,1]$. Therefore:\n",
    "$$\n",
    "\\begin{equation*}\n",
    "F(X) = \\mathbb{P}(X \\leq X) = 1 \\sim \\text{Uniform}(0,1)\n",
    "\\end{equation*}\n",
    "$$"
   ]
  },
  {
   "cell_type": "markdown",
   "metadata": {},
   "source": [
    "### b. Forming biviariate distribution from two univariates, finding marginals\n",
    "Let $U,V$ be $\\text{Uniform}(0,1)$ random variables. Since $C\\left(u, v\\right)$ is just a bivariate uniform distribution over the domatin $[0,1] \\times [0,1]$, and $F_1(X_1), F_2(X_2) \\sim \\text{Uniform}(0,1)$, it is clear that:\n",
    "$$\n",
    "C\\left(F_1(X_1), F_2(X_2)\\right) \\sim \\text{Bivariate Uniform}\n",
    "$$\n",
    "To find the marginal distribution of $F_1(x_1)$, I simply integrate over the entirety of the domain of $F_2(X_2)$ (note that the density is 1 everywhere within the domain):\n",
    "$$\n",
    "\\begin{align*}\n",
    "F(x_1) = \\int_0^{1}f_{X_1, X_2}(x_1, x_2)dx_2 &= \\int_0^{x_1}\\int_0^{1}1dx_2dx_1\\\\\n",
    "&= \\int_0^{x_1}\\left[x_2\\right]_0^1dx_1\\\\\n",
    "&= \\int_0^{x_1}1dx_1\\\\\n",
    "&= x_1\n",
    "\\end{align*}\n",
    "$$\n",
    "So the marginal distribution of both $F_1(X_1)$ and $F_2(X_2)$ is uniform."
   ]
  },
  {
   "cell_type": "markdown",
   "metadata": {},
   "source": [
    "### c. Proving the function to be a copula\n",
    "I show that the function satisfies the 3 conditions outlined in the problem. Note that the minimum value that either u or v can take on is 0 (as this is at one end of the support) and the maximum value is 1 (at the other end of the support). Therefore:\n",
    "\n",
    "$\\underline{\\text{1.}} \\text{ } C(0,u) = \\min\\{0,u\\} = 0 = \\min\\{0,u\\} = C(u,0)$\n",
    "\n",
    "$\\underline{\\text{2.}} \\text{ } C(1,u) = \\min\\{1,u\\} = u = \\min\\{u,1\\} = C(u,1)$\n",
    "\n",
    "$\\underline{\\text{3.}}$ The condition gives us that $u_1 \\leq u_2$ and $v_1 \\leq v_2$. That gives us 5 ways to order $u_1, u_2, v_1, v_2$:\n",
    "- $u_1 \\leq u_2 \\leq v_1 \\leq v_2$:\n",
    "$$\n",
    "\\begin{align*}\n",
    "&C(u_2, v_2) - C(u_2, v_1) - C(u_1, v_2) + C(u_1, v_1)\\\\\n",
    "&= u_2 - u_2 - u_1 + u_1 = 0 \\geq 0\n",
    "\\end{align*}\n",
    "$$\n",
    "- $u_1 \\leq v_1 \\leq u_2 \\leq v_2$:\n",
    "$$\n",
    "\\begin{align*}\n",
    "&C(u_2, v_2) - C(u_2, v_1) - C(u_1, v_2) + C(u_1, v_1)\\\\\n",
    "&= u_2 - v_1 - u_1 + u_1\\\\\n",
    "&= u_2 - v_1 \\geq 0\n",
    "\\end{align*}\n",
    "$$\n",
    "- $u_1 \\leq v_1 \\leq v_2 \\leq u_2$:\n",
    "$$\n",
    "\\begin{align*}\n",
    "&C(u_2, v_2) - C(u_2, v_1) - C(u_1, v_2) + C(u_1, v_1)\\\\\n",
    "&= v_2 - v_1 - u_1 + u_1\\\\\n",
    "&= v_2 - v_1 \\geq 0\n",
    "\\end{align*}\n",
    "$$\n",
    "- $v_1 \\leq u_1 \\leq v_2 \\leq u_2$:\n",
    "$$\n",
    "\\begin{align*}\n",
    "&C(u_2, v_2) - C(u_2, v_1) - C(u_1, v_2) + C(u_1, v_1)\\\\\n",
    "&= v_2 - v_1 - u_1 + v_1\\\\\n",
    "&= v_2 - u_1 \\geq 0\n",
    "\\end{align*}\n",
    "$$\n",
    "- $v_1 \\leq v_2 \\leq u_1 \\leq u_2$:\n",
    "$$\n",
    "\\begin{align*}\n",
    "&C(u_2, v_2) - C(u_2, v_1) - C(u_1, v_2) + C(u_1, v_1)\\\\\n",
    "&= v_2 - v_1 - v_2 + v_1 = 0 \\geq 0\n",
    "\\end{align*}\n",
    "$$\n",
    "This is an exhaustive list of cases, and the condition is satisfied in all cases. Therefore, $C_{(U,V)}(u,v) = \\min\\{u,v\\}$ is a bivariate copula."
   ]
  },
  {
   "cell_type": "markdown",
   "metadata": {},
   "source": [
    "### d. Proving $\\max\\{u + v - 1, 0\\} \\leq C(u,v) \\leq \\min\\{u,v\\}$\n",
    "Let $U, V \\sim \\text{Uniform}(0,1)$. Further, define the following events for some $u,v \\in [0,1]$:\n",
    "- $A: U \\leq u$\n",
    "- $B: V \\leq v$\n",
    "\n",
    "Via the definition of the copula function:\n",
    "$$\n",
    "\\mathbb{P}(A \\cap B) = \\mathbb{P}\\left(U \\leq u \\cap V \\leq v\\right) = C(u,v) \n",
    "$$\n",
    "Since $U,V$ are $\\text{Uniform}(0,1)$:\n",
    "$$\n",
    "\\mathbb{P}(A) = \\mathbb{P}(U \\leq u) = u \\text{ and } \\mathbb{P}(B) = \\mathbb{P}(V \\leq v) = v\n",
    "$$\n",
    "Therefore, $\\min\\left(\\mathbb{P}(A), \\mathbb{P}(B)\\right) = \\min\\{u,v\\}$. From the Bonferroni Inequalities:\n",
    "$$\n",
    "\\mathbb{P}(A \\cap B) \\leq \\min\\left(\\mathbb{P}(A), \\mathbb{P}(B)\\right) \\Rightarrow C(u,v) \\leq \\min\\{u,v\\}\n",
    "$$\n",
    "Via definition of a joint distribution function, $C(u,v) \\geq 0$; thus, in the case where $u + v - 1 < 0$, it follows by definition that trivial that $\\max\\{u + v - 1, 0\\} = 0 \\leq C(u,v)$. I focus on the case where $u + v - 1 > 0$. In this case, via the Bonferroni inequalities:\n",
    "$$\n",
    "\\max\\{u + v - 1, 0\\} = u + v - 1 = \\mathbb{P}(A) + \\mathbb{B} - 1 \\leq \\mathbb{P}(A \\cap B) = C(u,v)\n",
    "$$\n",
    "Combining this result and the previous:\n",
    "$$\n",
    "\\max\\{u + v - 1,0\\} \\leq C(u,v) \\leq \\min\\{u,v\\}\n",
    "$$"
   ]
  },
  {
   "cell_type": "markdown",
   "metadata": {},
   "source": [
    "## $\\underline{\\text{Question 4}}$"
   ]
  },
  {
   "cell_type": "markdown",
   "metadata": {},
   "source": [
    "### a. Proving $E[X] = \\int_0^{\\infty}\\left(1 - F(x)\\right)dx$\n",
    "Note that $1 - F(x)$ represents the survival function, so:\n",
    "$$\n",
    "1 - F(x) = \\mathbb{P}(X > x) = \\int_x^{\\infty}f_X(y)dy\n",
    "$$\n",
    "Therefore:\n",
    "$$\n",
    "\\int_0^{\\infty}\\left(1 - F(x)\\right)dx = \\int_0^{\\infty}\\int_x^{\\infty}f_X(y)dydx\n",
    "$$\n",
    "Note that the bounds of integration are $x < y < \\infty$ and $0 < x < \\infty$. This is equivalent to saying that $0 < x < y$ and $0 < y < \\infty$. From this, I can change the bounds of integration, and find:\n",
    "$$\n",
    "\\begin{align*}\n",
    "\\int_0^{\\infty}\\left(1 - F(x)\\right)dx &= \\int_0^{\\infty}\\int_x^{\\infty}f_X(y)dydx\\\\\n",
    "&= \\int_0^{\\infty}\\int_0^{y}f_X(y)dxdy\\\\\n",
    "&= \\int_0^{\\infty}\\left[xf_X(y)\\right]_0^ydy\\\\\n",
    "&= \\int_0^{\\infty}\\left(yf_X(y) - 0*f_X(y)\\right)dy\\\\\n",
    "&= \\int_0^{\\infty}yf_X(y)dy = \\mathbb{E}[X]\n",
    "\\end{align*}\n",
    "$$"
   ]
  },
  {
   "cell_type": "markdown",
   "metadata": {},
   "source": [
    "### b. Finding Loss of Tranche in terms of portfolio Loss\n",
    "The attachment point of the tranche is $L_{\\ell}$. Therefore, if the portfolio loss is less than $L_{\\ell}$, the tranche suffers no loss. If the portfolio loss is bigger than $L_{\\ell}$, but smaller than the detachment point $L_{u}$, then the loss suffered by the tranche is any loss excess of $L_{\\ell}$. However, if the loss on the porfolio exceeds $L_{u}$, this loss excess of $L_{u}$ is not included in tranche loss, as tranche loss is capped at the difference between detachment and attachment points. Therefore:\n",
    "$$\n",
    "L^{\\text{T}} = \\begin{cases}\n",
    "0 & X < L_{\\ell}\\\\\n",
    "X - L_{\\ell} & L_{\\ell} \\leq X \\leq L_{u}\\\\\n",
    "L_{u} - L_{\\ell} & X > L_{u}\n",
    "\\end{cases}\n",
    "$$"
   ]
  },
  {
   "cell_type": "markdown",
   "metadata": {},
   "source": [
    "### c. Showing connection between tranche loss, call spread\n",
    "Say you sell a call option on the loss of the credit portfolio, with strike price $L_u$. Your payoff is then $\\min\\{L_u - X,0\\}$ (you would recieve a premium for the sale, and the buyer would not exercise unless the loss exceeded $L_u$). Next, imagine you buy a call option on the loss of the credit portfolio, with strike price $L_{\\ell}$. Then, your payoff is $\\max\\{X - L_{\\ell}, 0\\}$ (you would not exercise unless loss exceeded $X_{\\ell}$). This combined position is called a bull call spread. Note that the payoff of the bull call spread mirrors the loss of the tranche in the previous part:\n",
    "$$\n",
    "\\begin{align*}\n",
    "\\text{Payoff} &= \\min\\{L_u - X,0\\} + \\max\\{X - L_{\\ell}, 0\\}\\\\\n",
    "&= \\begin{cases}\n",
    "0 + 0 & X < L_{\\ell}\\\\\n",
    "0 + X - L_{\\ell} & L_{\\ell} \\leq X \\leq L_{u}\\\\\n",
    "L_u - X + X - L_{\\ell} & X > L_u\n",
    "\\end{cases}\\\\\n",
    "&= \\begin{cases}\n",
    "0 & X < L_{\\ell}\\\\\n",
    "X - L_{\\ell} & L_{\\ell} \\leq X \\leq L_{u}\\\\\n",
    "L_{u} - L_{\\ell} & X > L_{u}\n",
    "\\end{cases}\\\\\n",
    "&= L^{\\text{T}}\n",
    "\\end{align*}\n",
    "$$\n"
   ]
  },
  {
   "cell_type": "markdown",
   "metadata": {},
   "source": [
    "### d. Finding expected value of Tranche Loss\n",
    "I use conditional expectation to calculate:\n",
    "$$\n",
    "\\begin{align*}\n",
    "&\\mathbb{E}_X\\left[L^{\\text{T}}\\right]\\\\\n",
    "&= \\mathbb{E}_X\\left[L^{\\text{T}}|X < L_{\\ell}\\right]\\mathbb{P}(X < L_{\\ell}) + \\mathbb{E}_X[L^{\\text{T}}|X \\in [L_{\\ell}, L_{u}]]\\mathbb{P}(X \\in [L_{\\ell},L_u]) + \\mathbb{E}_X[L^{\\text{T}}|X > L_u]\\mathbb{P}(X > L_u)\\\\\n",
    "&= 0 + \\mathbb{E}_X[L^{\\text{T}}|X \\in [L_{\\ell}, L_{u}]]\\mathbb{P}(X \\in [L_{\\ell},L_u]) + \\mathbb{E}_X[L^{\\text{T}}|X > L_u]\\mathbb{P}(X > L_u)\\\\\n",
    "&= \\mathbb{E}_X[(X - L_{\\ell})|X \\in [L_{\\ell}, L_{u}]]\\mathbb{P}(X \\in [L_{\\ell},L_u]) + \\mathbb{E}_X[L_u - L_{\\ell}|X > L_u]\\mathbb{P}(X > L_u)\\\\\n",
    "&= \\mathbb{E}_X[(X - L_{\\ell})|X \\in [L_{\\ell}, L_{u}]](F(L_u) - F(L_\\ell)) + \\mathbb{E}_X[L_u - L_{\\ell}|X > L_u]S(L_u)\\\\\n",
    "&= \\mathbb{E}_X[(X - L_{\\ell})|X \\in [L_{\\ell}, L_{u}]](S(L_{\\ell}) - S(L_u)) + \\mathbb{E}_X[L_u - L_{\\ell}|X > L_u]S(L_u)\\\\\n",
    "&= \\mathbb{E}_X[X|X \\in [L_{\\ell}, L_{u}]](S(L_{\\ell}) - S(L_u)) - L_{\\ell}(S(L_{\\ell}) - S(L_u)) + (L_u - L_{\\ell})S(L_u)\\\\\n",
    "\\end{align*}\n",
    "$$\n",
    "Note that $X' = X|X \\in [L_{\\ell}, L_u]$ is a non-negative random variable, with density function $f_{X'}(x) = \\frac{f(x)}{S(L_{\\ell}) - S(L_u)}$. Therefore, using the property established in $a$:\n",
    "$$\n",
    "\\begin{align*}\n",
    "\\mathbb{E}_X[X'] &= \\int_0^{\\infty}S_{X'}(x)dx\\\\\n",
    "&= \\int_0^{L_{\\ell}}1dx + \\int_{L_{\\ell}}^{L_u}S_{X'}(x)dx + \\int_{L_u}^{\\infty}0dx\\\\\n",
    "&= L_{\\ell} + \\int_{L_\\ell}^{L_u}\\int_{x}^{L_u}\\frac{f_X(y)}{S_X(L_{\\ell}) - S_X(L_u)}dydx\\\\\n",
    "&= L_{\\ell} + \\frac{1}{S_X(L_{\\ell}) - S_X(L_u)}\\int_{L_\\ell}^{L_u}\\int_{x}^{L_u}f_X(y)dydx\\\\\n",
    "&= L_{\\ell} + \\frac{1}{S_X(L_{\\ell}) - S_X(L_u)}\\int_{L_\\ell}^{L_u}\\left(S_X(x)- S_X(L_u)\\right)dx\\\\\n",
    "&= L_{\\ell} + \\frac{1}{S_X(L_{\\ell}) - S_X(L_u)}\\left(\\int_{L_\\ell}^{L_u}S_X(x)dx - (L_u - L_{\\ell})S_X(L_u)\\right)\n",
    "\\end{align*}\n",
    "$$\n",
    "Therefore, $\\mathbb{E}_X[X|X \\in [L_{\\ell}, L_{u}]](S(L_{\\ell}) - S(L_u)) = L_{\\ell}(S(L_{\\ell}) - S(L_u)) + \\int_{L_\\ell}^{L_u}S_X(x)dx - (L_u - L_{\\ell})S_X(L_u)$. So, in conclusion:\n",
    "$$\n",
    "\\begin{align*}\n",
    "&\\mathbb{E}_X\\left[L^{\\text{T}}\\right]\\\\\n",
    "&= L_{\\ell}(S(L_{\\ell}) - S(L_u)) + \\int_{L_\\ell}^{L_u}S_X(x)dx - (L_u - L_{\\ell})S_X(L_u) - L_{\\ell}(S(L_{\\ell}) - S(L_u)) + (L_u - L_{\\ell})S(L_u)\\\\\n",
    "&= \\int_{L_\\ell}^{L_u}S_X(x)dx - (L_u - L_{\\ell})S_X(L_u) + (L_u - L_{\\ell})S(L_u)\\\\\n",
    "&= \\int_{L_\\ell}^{L_u}S_X(x)dx\n",
    "\\end{align*}\n",
    "$$\n"
   ]
  },
  {
   "cell_type": "markdown",
   "metadata": {},
   "source": [
    "## $\\underline{\\text{Question 5}}$"
   ]
  },
  {
   "cell_type": "markdown",
   "metadata": {},
   "source": [
    "### a. Linking conditional, non-conditional default probability\n",
    "Note that $X_i = \\sqrt{\\rho}X_M + \\sqrt{1 - \\rho}\\epsilon_i$. Therefore:\n",
    "$$\n",
    "\\begin{align*}\n",
    "&\\mathbb{E}[X_i|X_M] = \\sqrt{\\rho}X_M\\\\\n",
    "&Var[X_i|X_M] = (\\rho)Var[X_M|X_M] + (1 - \\rho)Var[\\epsilon_i|X_M] = (1 - \\rho)(1) = 1 - \\rho\n",
    "\\end{align*}\n",
    "$$\n",
    "The following holds, given the information in the question:\n",
    "$$\n",
    "\\begin{align*}\n",
    "q_i(t|X_M) &= \\mathbb{P}(\\tau_i < t|X_M)\\\\\n",
    "&= \\mathbb{P}\\left(F_i^{-1}(N(X_i)) < t|X_M\\right)\\\\\n",
    "&= \\mathbb{P}\\left(N(X_i) < F_i(t)|X_M\\right)\\\\\n",
    "&= \\mathbb{P}\\left(N(X_i) < q_i(t)|X_M\\right) \\text{ (via F being the survival function)}\\\\\n",
    "&= \\mathbb{P}\\left(X_i < N^{-1}(q_i(t))|X_M\\right)\\\\\n",
    "&= N\\left(\\frac{N^{-1}(q_i(t)) - \\sqrt{\\rho}X_M}{\\sqrt{1 - \\rho}}\\right) \\text{ (via $\\mathbb{E}[X_i|X_M], \\sqrt{Var[X_i|X_M]}$)}\n",
    "\\end{align*}\n",
    "$$"
   ]
  },
  {
   "cell_type": "markdown",
   "metadata": {},
   "source": [
    "### b. Finding Mean, Variance for Conditional Loss distribution\n",
    "I use the definition of $q_i(t|X_M)$ given in the problem, and the fact that, conditional on $X_M$, the probability of default for each individual name is independent. Note that $I_{\\tau_i < t}|X_M \\sim \\text{Bernoulli}(q_i(t|X_M))$. So:\n",
    "$$\n",
    "M_v = \\mathbb{E}[L_n(t)|X_M] = \\sum_{i = 1}^{n}\\mathbb{E}\\left[B_i * I_{\\tau_i < t}|X_M\\right] = \\sum_{i = 1}^{n}B_i\\mathbb{E}\\left[I_{\\tau_i < t}|X_M\\right] = \\sum_{i = 1}^{n}B_i*q_i(t|X_M)\n",
    "$$\n",
    "And:\n",
    "$$\n",
    "\\begin{align*}\n",
    "\\sigma^2_v = Var[L_n(t)|X_M] &= \\sum_{i = 1}^{n}Var\\left[B_i * I_{\\tau_i < t}|X_M\\right]\\\\\n",
    " &= \\sum_{i = 1}^{n}B_i^2Var\\left[I_{\\tau_i < t}|X_M\\right]\\\\\n",
    " &= \\sum_{i = 1}^{n}B_i^2*q_i(t|X_M)*(1 - q_i(t|X_M))\n",
    "\\end{align*}\n",
    "$$"
   ]
  },
  {
   "cell_type": "markdown",
   "metadata": {},
   "source": [
    "### c. Finding Expected Value of Loss for a tranche\n",
    "I first note that, from 4_c:\n",
    "$$\n",
    "L^T = \\max\\{L - K_L, 0\\} + \\min\\{K_u - L,0\\}\n",
    "$$\n",
    "Note that:\n",
    "$$\n",
    "\\begin{align*}\n",
    "\\min\\{K_u - L,0\\} = \\begin{cases}\n",
    "0 & L < K_u\\\\\n",
    "K_u - L & L > K_u \n",
    "\\end{cases} &= -1 * \\begin{cases}\n",
    "0 & L < K_u\\\\\n",
    "L - K_u & L > K_u \n",
    "\\end{cases}\\\\\n",
    "&= -1 * \\max\\{L - K_u, 0\\}\n",
    "\\end{align*}\n",
    "$$\n",
    "Therefore, I note that:\n",
    "$$\n",
    "L^T = \\max\\{L - K_L, 0\\} - \\max\\{L - K_u, 0\\}\n",
    "$$\n",
    "I calculate $\\mathbb{E}\\left[\\max\\{L - K_L, 0\\}|v\\right]$ and generalize:\n",
    "$$\n",
    "\\begin{align*}\n",
    "&\\mathbb{E}\\left[\\max\\{L - K_L, 0\\}|v\\right]\\\\\n",
    "&= \\int_{K_L}^{\\infty}\\left(L - K_L\\right)f(l)dl\\\\\n",
    "&= \\int_{K_L}^{\\infty}\\left(l - K_L\\right)*\\frac{1}{\\sqrt{2\\pi}\\sigma_v}e^{-\\frac{1}{2}\\frac{(l - M_v)^2}{\\sigma_v^2}}dl\\\\\n",
    "&= \\int_{K_L}^{\\infty}\\left(l - M_v\\right)*\\frac{1}{\\sqrt{2\\pi}\\sigma_v}e^{-\\frac{1}{2}\\frac{(l - M_v)^2}{\\sigma_v^2}}dl - \\int_{K_L}^{\\infty}\\left(K_L - M_v\\right)*\\frac{1}{\\sqrt{2\\pi}\\sigma_v}e^{-\\frac{1}{2}\\frac{(l - M_v)^2}{\\sigma_v^2}}dl\\\\\n",
    "&= \\int_{K_L}^{\\infty}\\left(l - M_v\\right)*\\frac{1}{\\sqrt{2\\pi}\\sigma_v}e^{-\\frac{1}{2}\\frac{(l - M_v)^2}{\\sigma_v^2}}dl - (K_L - M_v)\\left[1 - N\\left(\\frac{K_L - M_v}{\\sigma_v}\\right)\\right]\\\\\n",
    "&= \\int_{K_L}^{\\infty}\\left(l - M_v\\right)*\\frac{1}{\\sqrt{2\\pi}\\sigma_v}e^{-\\frac{1}{2}\\frac{(l - M_v)^2}{\\sigma_v^2}}dl - (K_L - M_v)\\left[N\\left(\\frac{M_v - K_L}{\\sigma_v}\\right)\\right]\n",
    "\\end{align*}\n",
    "$$\n",
    "For the integral, I do substitution, where $u = \\frac{1}{2}(l - M_v)^2 \\rightarrow du = (l - M_V)dl$. Then:\n",
    "$$\n",
    "\\begin{align*}\n",
    "&\\int_{\\left(\\frac{K_L - M_v}{2}\\right)}^{\\infty}\\frac{1}{\\sqrt{2\\pi}\\sigma_v}e^{-\\frac{u}{\\sigma_v^2}}dl\\\\\n",
    "&= \\left[\\frac{-\\sigma_v}{\\sqrt{2\\pi}}e^{-\\frac{u}{\\sigma_v^2}}\\right]_{\\left(\\frac{K_L - M_v}{2}\\right)}^{\\infty}\\\\\n",
    "&= \\frac{\\sigma_v}{2\\pi}e^{-\\frac{1}{2}\\left(\\frac{K_L - M_v}{\\sigma_v}\\right)^2} = \\sigma_v * n\\left(\\frac{K_L - M_v}{\\sigma_v}\\right)\n",
    "\\end{align*}\n",
    "$$\n",
    "Therefore:\n",
    "$$\n",
    "\\mathbb{E}\\left[\\max\\{L - K_L, 0\\}|v\\right] = \\sigma_v * n\\left(\\frac{K_L - M_v}{\\sigma_v}\\right) - (K_L - M_v)\\left[N\\left(\\frac{M_v - K_L}{\\sigma_v}\\right)\\right]\n",
    "$$\n",
    "Similarly:\n",
    "$$\n",
    "\\mathbb{E}\\left[\\max\\{L - K_u, 0\\}|v\\right] = \\sigma_v * n\\left(\\frac{K_u - M_v}{\\sigma_v}\\right) - (K_u - M_v)\\left[N\\left(\\frac{M_v - K_u}{\\sigma_v}\\right)\\right]\n",
    "$$\n",
    "So:\n",
    "$$\n",
    "\\begin{align*}\n",
    "\\mathbb{E}[L^T|v] &= \\sigma_v * n\\left(\\frac{K_L - M_v}{\\sigma_v}\\right) - (K_L - M_v)\\left[N\\left(\\frac{M_v - K_L}{\\sigma_v}\\right)\\right]\\\\\n",
    "&- \\left(\\sigma_v * n\\left(\\frac{K_u - M_v}{\\sigma_v}\\right) - (K_u - M_v)\\left[N\\left(\\frac{M_v - K_u}{\\sigma_v}\\right)\\right]\\right)\\\\\n",
    "&= \\sigma_v * n\\left(\\frac{K_L - M_v}{\\sigma_v}\\right) + (M_v - K_L)\\left[N\\left(\\frac{M_v - K_L}{\\sigma_v}\\right)\\right]\\\\\n",
    "&-\\sigma_v * n\\left(\\frac{K_u - M_v}{\\sigma_v}\\right) - (M_v - K_u)\\left[N\\left(\\frac{M_v - K_u}{\\sigma_v}\\right)\\right]\n",
    "\\end{align*}\n",
    "$$"
   ]
  },
  {
   "cell_type": "markdown",
   "metadata": {},
   "source": [
    "### d. Converting conditional to unconditional expectation for tranche"
   ]
  },
  {
   "cell_type": "markdown",
   "metadata": {},
   "source": [
    "## $\\underline{\\text{Question 6}}$"
   ]
  },
  {
   "cell_type": "markdown",
   "metadata": {},
   "source": [
    "### a. Annual Default Probability\n",
    "Using the Duffie-Singleton single period model, a constant credit spread and recovery rate suggests a constant hazard rate for survival times. Note that $S = (1 - R)h \\rightarrow h = \\frac{S}{1 - R} = \\frac{.012}{.6} = 0.02$. Therefore, $\\tau_i \\sim \\text{Exponential}(\\frac{1}{h}) = \\text{Exponential}(50)$. Therefore, the default probability in a given year is:\n",
    "$$\n",
    "\\mathbb{P}(\\tau_i < 1) = 1 - e^{-\\frac{1}{50}} = 1 - e^{-0.02} = \\mathbf{.0198} \\text{ or } \\mathbf{1.98\\%} \n",
    "$$"
   ]
  },
  {
   "cell_type": "markdown",
   "metadata": {},
   "source": [
    "### b. Finding Expected Loss of Portfolio\n",
    "Note that $\\forall i, N_i(1 - R_i) = 80,000(1 - .4) = 48,000$. So, for each individual asset, the loss distribution is as follows:\n",
    "$$\n",
    "f_{\\ell_i}(x) = \\begin{cases} \n",
    "0 & \\text{ with probability } 1 - q_i(5)\\\\\n",
    "48,000 & \\text{ with probability } q_i(5)\n",
    "\\end{cases}\n",
    "$$\n",
    "Note that $q_i(5) = F(\\tau_i < 5) = 1 - e^{-\\frac{5}{50}} = 0.095$. Therefore:\n",
    "$$\n",
    "\\mathbb{E}[\\ell_i] = 48,000 * q_i(5) = \\$4,567.80\n",
    "$$\n",
    "For the aggregate portfolio Loss, or $L_5 = \\sum_{i = 1}^{125}\\ell_i$:\n",
    "$$\n",
    "\\mathbb{E}[L_5] = \\sum_{i = 1}^{125}\\mathbb{E}[\\ell_i] = 125 * 4,567.80 = \\mathbf{\\$570,975.49}\n",
    "$$\n",
    "Note this amount is independent of correlation."
   ]
  },
  {
   "cell_type": "markdown",
   "metadata": {},
   "source": [
    "### c. Implementing the different calculations\n",
    "$\\underline{\\text{Homogenous Portfolio}}$\n",
    "\n",
    "Let $N$ be the number of defaults in the portfolio over the first 5 years. Conditional on having the market factor $X_M$, witch which all assets share a correlation of magnitude $\\rho$, the survival times of individual names are independent. Therefore, $N$ is simply the sum of 125 indpendent bernoulli's or:\n",
    "$$\n",
    "N|X_m \\sim \\text{Binomial}\\left(125, q(5|X_M)\\right)\n",
    "$$\n",
    "Assuming that $X_M \\sim N(0,1)$. \n",
    "\n",
    "$\\underline{\\text{Recursive Definition}}$\n",
    "\n",
    "$\\underline{\\text{Conditional Normal Approximation}}$\n"
   ]
  },
  {
   "cell_type": "markdown",
   "metadata": {},
   "source": [
    "### d. Distribution with different Correlation\n"
   ]
  },
  {
   "cell_type": "markdown",
   "metadata": {},
   "source": [
    "### e. Loss Distribution, CDO Tranches"
   ]
  },
  {
   "cell_type": "markdown",
   "metadata": {},
   "source": [
    "### f. Preferred Correlation amounts, different Tranche holders\n",
    "A protection buyer for the equity tranche, or $[0\\%, 3\\%]$ would like $\\textbf{lower}$ correlation. This means that each name's default probability is essentially independent; thus, variance is lower and the loss distribution huddles around the expectation of about $2\\%$ of the portfolio lost, which this buyer would have protection from. The senior tranche, or $[30\\%,100\\%]$ protection holder would like $\\textbf{higher}$ correlation. This creates a higher likelihood of all or nothing scenarios, where either nothing defaults or a bunch of names default, fattening the tails of the loss distribution. Since the protection is essentially covering the right tail of the distribution, the protection holder is more likely to recieve payment. The mezzanine $[7\\%,10\\%]$ protection holder is mostly $\\textbf{ambivalent}$ to correlation. This is because his protection is for a portion of distribution not exactly on the tail, but not exactly near the mean either; the probability of recieving payment doesn't change dramatically with a change in correlation, as many distributions overlap."
   ]
  },
  {
   "cell_type": "markdown",
   "metadata": {},
   "source": [
    "### g. Fixing the negative loss possibility, Normal Approximation"
   ]
  }
 ],
 "metadata": {
  "kernelspec": {
   "display_name": "M5450env",
   "language": "python",
   "name": "python3"
  },
  "language_info": {
   "codemirror_mode": {
    "name": "ipython",
    "version": 3
   },
   "file_extension": ".py",
   "mimetype": "text/x-python",
   "name": "python",
   "nbconvert_exporter": "python",
   "pygments_lexer": "ipython3",
   "version": "3.11.7"
  }
 },
 "nbformat": 4,
 "nbformat_minor": 2
}
