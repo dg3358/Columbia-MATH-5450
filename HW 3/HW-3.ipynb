{
 "cells": [
  {
   "cell_type": "markdown",
   "metadata": {},
   "source": [
    "# Homework 3 - Credit Analytics\n",
    "Submission by Dennis Goldenberg"
   ]
  },
  {
   "cell_type": "code",
   "execution_count": 275,
   "metadata": {},
   "outputs": [],
   "source": [
    "import warnings\n",
    "warnings.filterwarnings('ignore')\n",
    "import matplotlib.pyplot as plt\n",
    "import pandas as pd\n",
    "import pandas_datareader.data as web\n",
    "import numpy as np\n",
    "import datetime as dt\n",
    "import statsmodels.api as stats\n",
    "import scipy as sc\n",
    "from PyCurve.curve import Curve\n",
    "from PyCurve.linear import LinearCurve\n",
    "from PyCurve.vasicek import Vasicek\n",
    "from PyCurve.cubic import CubicCurve"
   ]
  },
  {
   "cell_type": "markdown",
   "metadata": {},
   "source": [
    "## $\\underline{\\text{Question 1}}$"
   ]
  },
  {
   "cell_type": "markdown",
   "metadata": {},
   "source": [
    "### a. Examining volatility and correlation structure of yield curves\n",
    "I read the yield curve in and generate the daily percent change Matrix:"
   ]
  },
  {
   "cell_type": "code",
   "execution_count": 193,
   "metadata": {},
   "outputs": [
    {
     "data": {
      "text/html": [
       "<div>\n",
       "<style scoped>\n",
       "    .dataframe tbody tr th:only-of-type {\n",
       "        vertical-align: middle;\n",
       "    }\n",
       "\n",
       "    .dataframe tbody tr th {\n",
       "        vertical-align: top;\n",
       "    }\n",
       "\n",
       "    .dataframe thead th {\n",
       "        text-align: right;\n",
       "    }\n",
       "</style>\n",
       "<table border=\"1\" class=\"dataframe\">\n",
       "  <thead>\n",
       "    <tr style=\"text-align: right;\">\n",
       "      <th></th>\n",
       "      <th>DGS1MO</th>\n",
       "      <th>DGS3MO</th>\n",
       "      <th>DGS6MO</th>\n",
       "      <th>DGS1</th>\n",
       "      <th>DGS2</th>\n",
       "      <th>DGS3</th>\n",
       "      <th>DGS5</th>\n",
       "      <th>DGS7</th>\n",
       "      <th>DGS10</th>\n",
       "      <th>DGS20</th>\n",
       "      <th>DGS30</th>\n",
       "    </tr>\n",
       "    <tr>\n",
       "      <th>DATE</th>\n",
       "      <th></th>\n",
       "      <th></th>\n",
       "      <th></th>\n",
       "      <th></th>\n",
       "      <th></th>\n",
       "      <th></th>\n",
       "      <th></th>\n",
       "      <th></th>\n",
       "      <th></th>\n",
       "      <th></th>\n",
       "      <th></th>\n",
       "    </tr>\n",
       "  </thead>\n",
       "  <tbody>\n",
       "    <tr>\n",
       "      <th>2003-04-11</th>\n",
       "      <td>0.000000</td>\n",
       "      <td>0.026316</td>\n",
       "      <td>0.025862</td>\n",
       "      <td>0.040000</td>\n",
       "      <td>0.031250</td>\n",
       "      <td>0.029557</td>\n",
       "      <td>0.020761</td>\n",
       "      <td>0.008671</td>\n",
       "      <td>0.012658</td>\n",
       "      <td>0.004049</td>\n",
       "      <td>0.003868</td>\n",
       "    </tr>\n",
       "    <tr>\n",
       "      <th>2003-04-14</th>\n",
       "      <td>0.008475</td>\n",
       "      <td>0.025641</td>\n",
       "      <td>0.025210</td>\n",
       "      <td>0.023077</td>\n",
       "      <td>0.054545</td>\n",
       "      <td>0.038278</td>\n",
       "      <td>0.023729</td>\n",
       "      <td>0.017192</td>\n",
       "      <td>0.010000</td>\n",
       "      <td>0.006048</td>\n",
       "      <td>0.001927</td>\n",
       "    </tr>\n",
       "    <tr>\n",
       "      <th>2003-04-15</th>\n",
       "      <td>-0.016807</td>\n",
       "      <td>-0.016667</td>\n",
       "      <td>-0.008197</td>\n",
       "      <td>-0.007519</td>\n",
       "      <td>-0.028736</td>\n",
       "      <td>-0.023041</td>\n",
       "      <td>-0.019868</td>\n",
       "      <td>-0.016901</td>\n",
       "      <td>-0.014851</td>\n",
       "      <td>-0.012024</td>\n",
       "      <td>-0.001923</td>\n",
       "    </tr>\n",
       "    <tr>\n",
       "      <th>2003-04-16</th>\n",
       "      <td>-0.017094</td>\n",
       "      <td>-0.008475</td>\n",
       "      <td>-0.008264</td>\n",
       "      <td>-0.007576</td>\n",
       "      <td>-0.011834</td>\n",
       "      <td>-0.009434</td>\n",
       "      <td>-0.003378</td>\n",
       "      <td>-0.002865</td>\n",
       "      <td>-0.005025</td>\n",
       "      <td>-0.002028</td>\n",
       "      <td>-0.011561</td>\n",
       "    </tr>\n",
       "    <tr>\n",
       "      <th>2003-04-17</th>\n",
       "      <td>-0.008696</td>\n",
       "      <td>0.008547</td>\n",
       "      <td>0.000000</td>\n",
       "      <td>0.022901</td>\n",
       "      <td>0.023952</td>\n",
       "      <td>0.023810</td>\n",
       "      <td>0.013559</td>\n",
       "      <td>0.005747</td>\n",
       "      <td>0.005051</td>\n",
       "      <td>-0.002033</td>\n",
       "      <td>-0.001949</td>\n",
       "    </tr>\n",
       "    <tr>\n",
       "      <th>...</th>\n",
       "      <td>...</td>\n",
       "      <td>...</td>\n",
       "      <td>...</td>\n",
       "      <td>...</td>\n",
       "      <td>...</td>\n",
       "      <td>...</td>\n",
       "      <td>...</td>\n",
       "      <td>...</td>\n",
       "      <td>...</td>\n",
       "      <td>...</td>\n",
       "      <td>...</td>\n",
       "    </tr>\n",
       "    <tr>\n",
       "      <th>2024-04-08</th>\n",
       "      <td>0.001828</td>\n",
       "      <td>0.000000</td>\n",
       "      <td>0.001873</td>\n",
       "      <td>0.003960</td>\n",
       "      <td>0.010571</td>\n",
       "      <td>0.013216</td>\n",
       "      <td>0.011416</td>\n",
       "      <td>0.009112</td>\n",
       "      <td>0.006834</td>\n",
       "      <td>0.000000</td>\n",
       "      <td>0.002203</td>\n",
       "    </tr>\n",
       "    <tr>\n",
       "      <th>2024-04-09</th>\n",
       "      <td>0.000000</td>\n",
       "      <td>0.000000</td>\n",
       "      <td>-0.001869</td>\n",
       "      <td>-0.007890</td>\n",
       "      <td>-0.008368</td>\n",
       "      <td>-0.017391</td>\n",
       "      <td>-0.013544</td>\n",
       "      <td>-0.011287</td>\n",
       "      <td>-0.013575</td>\n",
       "      <td>-0.010753</td>\n",
       "      <td>-0.010989</td>\n",
       "    </tr>\n",
       "    <tr>\n",
       "      <th>2024-04-10</th>\n",
       "      <td>0.001825</td>\n",
       "      <td>0.003683</td>\n",
       "      <td>0.011236</td>\n",
       "      <td>0.031809</td>\n",
       "      <td>0.048523</td>\n",
       "      <td>0.055310</td>\n",
       "      <td>0.054920</td>\n",
       "      <td>0.047945</td>\n",
       "      <td>0.043578</td>\n",
       "      <td>0.034783</td>\n",
       "      <td>0.031111</td>\n",
       "    </tr>\n",
       "    <tr>\n",
       "      <th>2024-04-11</th>\n",
       "      <td>-0.001821</td>\n",
       "      <td>0.000000</td>\n",
       "      <td>-0.003704</td>\n",
       "      <td>-0.003854</td>\n",
       "      <td>-0.008048</td>\n",
       "      <td>0.000000</td>\n",
       "      <td>0.000000</td>\n",
       "      <td>0.002179</td>\n",
       "      <td>0.002198</td>\n",
       "      <td>0.002101</td>\n",
       "      <td>0.002155</td>\n",
       "    </tr>\n",
       "    <tr>\n",
       "      <th>2024-04-12</th>\n",
       "      <td>0.000000</td>\n",
       "      <td>0.000000</td>\n",
       "      <td>-0.003717</td>\n",
       "      <td>-0.007737</td>\n",
       "      <td>-0.010142</td>\n",
       "      <td>-0.014675</td>\n",
       "      <td>-0.015184</td>\n",
       "      <td>-0.015217</td>\n",
       "      <td>-0.013158</td>\n",
       "      <td>-0.008386</td>\n",
       "      <td>-0.008602</td>\n",
       "    </tr>\n",
       "  </tbody>\n",
       "</table>\n",
       "<p>5195 rows × 11 columns</p>\n",
       "</div>"
      ],
      "text/plain": [
       "              DGS1MO    DGS3MO    DGS6MO      DGS1      DGS2      DGS3  \\\n",
       "DATE                                                                     \n",
       "2003-04-11  0.000000  0.026316  0.025862  0.040000  0.031250  0.029557   \n",
       "2003-04-14  0.008475  0.025641  0.025210  0.023077  0.054545  0.038278   \n",
       "2003-04-15 -0.016807 -0.016667 -0.008197 -0.007519 -0.028736 -0.023041   \n",
       "2003-04-16 -0.017094 -0.008475 -0.008264 -0.007576 -0.011834 -0.009434   \n",
       "2003-04-17 -0.008696  0.008547  0.000000  0.022901  0.023952  0.023810   \n",
       "...              ...       ...       ...       ...       ...       ...   \n",
       "2024-04-08  0.001828  0.000000  0.001873  0.003960  0.010571  0.013216   \n",
       "2024-04-09  0.000000  0.000000 -0.001869 -0.007890 -0.008368 -0.017391   \n",
       "2024-04-10  0.001825  0.003683  0.011236  0.031809  0.048523  0.055310   \n",
       "2024-04-11 -0.001821  0.000000 -0.003704 -0.003854 -0.008048  0.000000   \n",
       "2024-04-12  0.000000  0.000000 -0.003717 -0.007737 -0.010142 -0.014675   \n",
       "\n",
       "                DGS5      DGS7     DGS10     DGS20     DGS30  \n",
       "DATE                                                          \n",
       "2003-04-11  0.020761  0.008671  0.012658  0.004049  0.003868  \n",
       "2003-04-14  0.023729  0.017192  0.010000  0.006048  0.001927  \n",
       "2003-04-15 -0.019868 -0.016901 -0.014851 -0.012024 -0.001923  \n",
       "2003-04-16 -0.003378 -0.002865 -0.005025 -0.002028 -0.011561  \n",
       "2003-04-17  0.013559  0.005747  0.005051 -0.002033 -0.001949  \n",
       "...              ...       ...       ...       ...       ...  \n",
       "2024-04-08  0.011416  0.009112  0.006834  0.000000  0.002203  \n",
       "2024-04-09 -0.013544 -0.011287 -0.013575 -0.010753 -0.010989  \n",
       "2024-04-10  0.054920  0.047945  0.043578  0.034783  0.031111  \n",
       "2024-04-11  0.000000  0.002179  0.002198  0.002101  0.002155  \n",
       "2024-04-12 -0.015184 -0.015217 -0.013158 -0.008386 -0.008602  \n",
       "\n",
       "[5195 rows x 11 columns]"
      ]
     },
     "execution_count": 193,
     "metadata": {},
     "output_type": "execute_result"
    }
   ],
   "source": [
    "ticker = ['DGS1MO',  'DGS3MO', 'DGS6MO','DGS1','DGS2',\n",
    "           'DGS3', 'DGS5','DGS7', 'DGS10','DGS20','DGS30']\n",
    "sdt = dt.datetime(2003, 4, 10)\n",
    "edt = dt.datetime(2024, 4, 12)\n",
    "source = 'fred'\n",
    "yieldcurve = pd.DataFrame(web.DataReader(ticker, source, sdt, edt))\n",
    "yieldcurve = yieldcurve.dropna()\n",
    "pctChange = yieldcurve.pct_change().dropna()\n",
    "pctChange"
   ]
  },
  {
   "cell_type": "markdown",
   "metadata": {},
   "source": [
    "One slight issue is that, for maturities of 1 and 3 months, there are cases where the yield is 0, meaning the next day's percentage change would be infinity. I generate the percent change matrix with these rows excluded to get sensible results:"
   ]
  },
  {
   "cell_type": "code",
   "execution_count": 194,
   "metadata": {},
   "outputs": [],
   "source": [
    "mask1MO = ((pctChange[\"DGS1MO\"] > 5000000) | (pctChange[\"DGS1MO\"] < -5000000)).values\n",
    "mask3MO = ((pctChange[\"DGS3MO\"] > 5000000) | (pctChange[\"DGS3MO\"] < -5000000)).values\n",
    "mask = mask1MO | mask3MO\n",
    "pCNoInf = pctChange[~(mask)]"
   ]
  },
  {
   "cell_type": "markdown",
   "metadata": {},
   "source": [
    "I examine both the means and standard deviations of the percent changes of the individual maturities, as well as the entire variance-covariance matrix:"
   ]
  },
  {
   "cell_type": "code",
   "execution_count": 195,
   "metadata": {},
   "outputs": [
    {
     "data": {
      "text/html": [
       "<div>\n",
       "<style scoped>\n",
       "    .dataframe tbody tr th:only-of-type {\n",
       "        vertical-align: middle;\n",
       "    }\n",
       "\n",
       "    .dataframe tbody tr th {\n",
       "        vertical-align: top;\n",
       "    }\n",
       "\n",
       "    .dataframe thead th {\n",
       "        text-align: right;\n",
       "    }\n",
       "</style>\n",
       "<table border=\"1\" class=\"dataframe\">\n",
       "  <thead>\n",
       "    <tr style=\"text-align: right;\">\n",
       "      <th></th>\n",
       "      <th>Average % change</th>\n",
       "      <th>Standard Deviation</th>\n",
       "    </tr>\n",
       "  </thead>\n",
       "  <tbody>\n",
       "    <tr>\n",
       "      <th>DGS1MO</th>\n",
       "      <td>0.026158</td>\n",
       "      <td>0.340872</td>\n",
       "    </tr>\n",
       "    <tr>\n",
       "      <th>DGS3MO</th>\n",
       "      <td>0.017462</td>\n",
       "      <td>0.257891</td>\n",
       "    </tr>\n",
       "    <tr>\n",
       "      <th>DGS6MO</th>\n",
       "      <td>0.004202</td>\n",
       "      <td>0.106679</td>\n",
       "    </tr>\n",
       "    <tr>\n",
       "      <th>DGS1</th>\n",
       "      <td>0.001606</td>\n",
       "      <td>0.052359</td>\n",
       "    </tr>\n",
       "    <tr>\n",
       "      <th>DGS2</th>\n",
       "      <td>0.001430</td>\n",
       "      <td>0.049132</td>\n",
       "    </tr>\n",
       "    <tr>\n",
       "      <th>DGS3</th>\n",
       "      <td>0.001128</td>\n",
       "      <td>0.043144</td>\n",
       "    </tr>\n",
       "    <tr>\n",
       "      <th>DGS5</th>\n",
       "      <td>0.000772</td>\n",
       "      <td>0.035398</td>\n",
       "    </tr>\n",
       "    <tr>\n",
       "      <th>DGS7</th>\n",
       "      <td>0.000531</td>\n",
       "      <td>0.029100</td>\n",
       "    </tr>\n",
       "    <tr>\n",
       "      <th>DGS10</th>\n",
       "      <td>0.000404</td>\n",
       "      <td>0.025359</td>\n",
       "    </tr>\n",
       "    <tr>\n",
       "      <th>DGS20</th>\n",
       "      <td>0.000229</td>\n",
       "      <td>0.019901</td>\n",
       "    </tr>\n",
       "    <tr>\n",
       "      <th>DGS30</th>\n",
       "      <td>0.000187</td>\n",
       "      <td>0.018216</td>\n",
       "    </tr>\n",
       "  </tbody>\n",
       "</table>\n",
       "</div>"
      ],
      "text/plain": [
       "        Average % change  Standard Deviation\n",
       "DGS1MO          0.026158            0.340872\n",
       "DGS3MO          0.017462            0.257891\n",
       "DGS6MO          0.004202            0.106679\n",
       "DGS1            0.001606            0.052359\n",
       "DGS2            0.001430            0.049132\n",
       "DGS3            0.001128            0.043144\n",
       "DGS5            0.000772            0.035398\n",
       "DGS7            0.000531            0.029100\n",
       "DGS10           0.000404            0.025359\n",
       "DGS20           0.000229            0.019901\n",
       "DGS30           0.000187            0.018216"
      ]
     },
     "execution_count": 195,
     "metadata": {},
     "output_type": "execute_result"
    }
   ],
   "source": [
    "meansSD = np.vstack([pCNoInf.mean(), pCNoInf.std()])\n",
    "meanSDChange = pd.DataFrame(meansSD.T, index = pCNoInf.columns,\n",
    "                            columns = [\"Average % change\",\"Standard Deviation\"])\n",
    "meanSDChange"
   ]
  },
  {
   "cell_type": "code",
   "execution_count": 196,
   "metadata": {},
   "outputs": [
    {
     "data": {
      "text/html": [
       "<div>\n",
       "<style scoped>\n",
       "    .dataframe tbody tr th:only-of-type {\n",
       "        vertical-align: middle;\n",
       "    }\n",
       "\n",
       "    .dataframe tbody tr th {\n",
       "        vertical-align: top;\n",
       "    }\n",
       "\n",
       "    .dataframe thead th {\n",
       "        text-align: right;\n",
       "    }\n",
       "</style>\n",
       "<table border=\"1\" class=\"dataframe\">\n",
       "  <thead>\n",
       "    <tr style=\"text-align: right;\">\n",
       "      <th></th>\n",
       "      <th>DGS1MO</th>\n",
       "      <th>DGS3MO</th>\n",
       "      <th>DGS6MO</th>\n",
       "      <th>DGS1</th>\n",
       "      <th>DGS2</th>\n",
       "      <th>DGS3</th>\n",
       "      <th>DGS5</th>\n",
       "      <th>DGS7</th>\n",
       "      <th>DGS10</th>\n",
       "      <th>DGS20</th>\n",
       "      <th>DGS30</th>\n",
       "    </tr>\n",
       "  </thead>\n",
       "  <tbody>\n",
       "    <tr>\n",
       "      <th>DGS1MO</th>\n",
       "      <td>1.000000</td>\n",
       "      <td>0.286878</td>\n",
       "      <td>0.193646</td>\n",
       "      <td>0.145987</td>\n",
       "      <td>0.046646</td>\n",
       "      <td>0.045687</td>\n",
       "      <td>0.026228</td>\n",
       "      <td>0.019494</td>\n",
       "      <td>0.016355</td>\n",
       "      <td>0.022283</td>\n",
       "      <td>0.022453</td>\n",
       "    </tr>\n",
       "    <tr>\n",
       "      <th>DGS3MO</th>\n",
       "      <td>0.286878</td>\n",
       "      <td>1.000000</td>\n",
       "      <td>0.354084</td>\n",
       "      <td>0.186802</td>\n",
       "      <td>0.097015</td>\n",
       "      <td>0.083245</td>\n",
       "      <td>0.066044</td>\n",
       "      <td>0.056486</td>\n",
       "      <td>0.054324</td>\n",
       "      <td>0.050522</td>\n",
       "      <td>0.052292</td>\n",
       "    </tr>\n",
       "    <tr>\n",
       "      <th>DGS6MO</th>\n",
       "      <td>0.193646</td>\n",
       "      <td>0.354084</td>\n",
       "      <td>1.000000</td>\n",
       "      <td>0.285864</td>\n",
       "      <td>0.145925</td>\n",
       "      <td>0.141137</td>\n",
       "      <td>0.124743</td>\n",
       "      <td>0.109274</td>\n",
       "      <td>0.116982</td>\n",
       "      <td>0.120393</td>\n",
       "      <td>0.121919</td>\n",
       "    </tr>\n",
       "    <tr>\n",
       "      <th>DGS1</th>\n",
       "      <td>0.145987</td>\n",
       "      <td>0.186802</td>\n",
       "      <td>0.285864</td>\n",
       "      <td>1.000000</td>\n",
       "      <td>0.457498</td>\n",
       "      <td>0.451116</td>\n",
       "      <td>0.407459</td>\n",
       "      <td>0.385460</td>\n",
       "      <td>0.354379</td>\n",
       "      <td>0.320490</td>\n",
       "      <td>0.306785</td>\n",
       "    </tr>\n",
       "    <tr>\n",
       "      <th>DGS2</th>\n",
       "      <td>0.046646</td>\n",
       "      <td>0.097015</td>\n",
       "      <td>0.145925</td>\n",
       "      <td>0.457498</td>\n",
       "      <td>1.000000</td>\n",
       "      <td>0.807512</td>\n",
       "      <td>0.761878</td>\n",
       "      <td>0.701889</td>\n",
       "      <td>0.630252</td>\n",
       "      <td>0.547696</td>\n",
       "      <td>0.507569</td>\n",
       "    </tr>\n",
       "    <tr>\n",
       "      <th>DGS3</th>\n",
       "      <td>0.045687</td>\n",
       "      <td>0.083245</td>\n",
       "      <td>0.141137</td>\n",
       "      <td>0.451116</td>\n",
       "      <td>0.807512</td>\n",
       "      <td>1.000000</td>\n",
       "      <td>0.914180</td>\n",
       "      <td>0.859412</td>\n",
       "      <td>0.790411</td>\n",
       "      <td>0.704861</td>\n",
       "      <td>0.656183</td>\n",
       "    </tr>\n",
       "    <tr>\n",
       "      <th>DGS5</th>\n",
       "      <td>0.026228</td>\n",
       "      <td>0.066044</td>\n",
       "      <td>0.124743</td>\n",
       "      <td>0.407459</td>\n",
       "      <td>0.761878</td>\n",
       "      <td>0.914180</td>\n",
       "      <td>1.000000</td>\n",
       "      <td>0.959265</td>\n",
       "      <td>0.906666</td>\n",
       "      <td>0.828138</td>\n",
       "      <td>0.781184</td>\n",
       "    </tr>\n",
       "    <tr>\n",
       "      <th>DGS7</th>\n",
       "      <td>0.019494</td>\n",
       "      <td>0.056486</td>\n",
       "      <td>0.109274</td>\n",
       "      <td>0.385460</td>\n",
       "      <td>0.701889</td>\n",
       "      <td>0.859412</td>\n",
       "      <td>0.959265</td>\n",
       "      <td>1.000000</td>\n",
       "      <td>0.962750</td>\n",
       "      <td>0.903309</td>\n",
       "      <td>0.864201</td>\n",
       "    </tr>\n",
       "    <tr>\n",
       "      <th>DGS10</th>\n",
       "      <td>0.016355</td>\n",
       "      <td>0.054324</td>\n",
       "      <td>0.116982</td>\n",
       "      <td>0.354379</td>\n",
       "      <td>0.630252</td>\n",
       "      <td>0.790411</td>\n",
       "      <td>0.906666</td>\n",
       "      <td>0.962750</td>\n",
       "      <td>1.000000</td>\n",
       "      <td>0.957605</td>\n",
       "      <td>0.929271</td>\n",
       "    </tr>\n",
       "    <tr>\n",
       "      <th>DGS20</th>\n",
       "      <td>0.022283</td>\n",
       "      <td>0.050522</td>\n",
       "      <td>0.120393</td>\n",
       "      <td>0.320490</td>\n",
       "      <td>0.547696</td>\n",
       "      <td>0.704861</td>\n",
       "      <td>0.828138</td>\n",
       "      <td>0.903309</td>\n",
       "      <td>0.957605</td>\n",
       "      <td>1.000000</td>\n",
       "      <td>0.972052</td>\n",
       "    </tr>\n",
       "    <tr>\n",
       "      <th>DGS30</th>\n",
       "      <td>0.022453</td>\n",
       "      <td>0.052292</td>\n",
       "      <td>0.121919</td>\n",
       "      <td>0.306785</td>\n",
       "      <td>0.507569</td>\n",
       "      <td>0.656183</td>\n",
       "      <td>0.781184</td>\n",
       "      <td>0.864201</td>\n",
       "      <td>0.929271</td>\n",
       "      <td>0.972052</td>\n",
       "      <td>1.000000</td>\n",
       "    </tr>\n",
       "  </tbody>\n",
       "</table>\n",
       "</div>"
      ],
      "text/plain": [
       "          DGS1MO    DGS3MO    DGS6MO      DGS1      DGS2      DGS3      DGS5  \\\n",
       "DGS1MO  1.000000  0.286878  0.193646  0.145987  0.046646  0.045687  0.026228   \n",
       "DGS3MO  0.286878  1.000000  0.354084  0.186802  0.097015  0.083245  0.066044   \n",
       "DGS6MO  0.193646  0.354084  1.000000  0.285864  0.145925  0.141137  0.124743   \n",
       "DGS1    0.145987  0.186802  0.285864  1.000000  0.457498  0.451116  0.407459   \n",
       "DGS2    0.046646  0.097015  0.145925  0.457498  1.000000  0.807512  0.761878   \n",
       "DGS3    0.045687  0.083245  0.141137  0.451116  0.807512  1.000000  0.914180   \n",
       "DGS5    0.026228  0.066044  0.124743  0.407459  0.761878  0.914180  1.000000   \n",
       "DGS7    0.019494  0.056486  0.109274  0.385460  0.701889  0.859412  0.959265   \n",
       "DGS10   0.016355  0.054324  0.116982  0.354379  0.630252  0.790411  0.906666   \n",
       "DGS20   0.022283  0.050522  0.120393  0.320490  0.547696  0.704861  0.828138   \n",
       "DGS30   0.022453  0.052292  0.121919  0.306785  0.507569  0.656183  0.781184   \n",
       "\n",
       "            DGS7     DGS10     DGS20     DGS30  \n",
       "DGS1MO  0.019494  0.016355  0.022283  0.022453  \n",
       "DGS3MO  0.056486  0.054324  0.050522  0.052292  \n",
       "DGS6MO  0.109274  0.116982  0.120393  0.121919  \n",
       "DGS1    0.385460  0.354379  0.320490  0.306785  \n",
       "DGS2    0.701889  0.630252  0.547696  0.507569  \n",
       "DGS3    0.859412  0.790411  0.704861  0.656183  \n",
       "DGS5    0.959265  0.906666  0.828138  0.781184  \n",
       "DGS7    1.000000  0.962750  0.903309  0.864201  \n",
       "DGS10   0.962750  1.000000  0.957605  0.929271  \n",
       "DGS20   0.903309  0.957605  1.000000  0.972052  \n",
       "DGS30   0.864201  0.929271  0.972052  1.000000  "
      ]
     },
     "execution_count": 196,
     "metadata": {},
     "output_type": "execute_result"
    }
   ],
   "source": [
    "pCNoInf.corr()"
   ]
  },
  {
   "cell_type": "markdown",
   "metadata": {},
   "source": [
    "I make 3 observations from these two results:\n",
    "- The average percent change and standard deviation of percent change is $\\textbf{higher}$ for shorter maturities, and $\\textbf{lower}$ for longer maturities. This suggests that treasury rates with shorter maturities are more volatile than treasuries with longer maturities.\n",
    "- All entries in the correlation matrix are positive. This suggests that there is a common market factor moving yields of all maturities in one direction or the other.\n",
    "- For any given maturity length, the change in yield of that maturity length is generally more correlated with changes in yields of similar maturity lengths. For example, change in yield of Treasury securities with a maturity of 30 years is most correlated with the change in securities with maturities of 10 and 20 years."
   ]
  },
  {
   "cell_type": "markdown",
   "metadata": {},
   "source": [
    "### b. Estimating $\\alpha, \\beta, \\sigma$ in simple short rate model"
   ]
  },
  {
   "cell_type": "markdown",
   "metadata": {},
   "source": [
    "The model $dr = \\alpha(\\beta - r)dt + \\sigma dW_t$ is a Vasicek model. This Model is an Ornstein-Uhlenback stochastic process. Therefore, it is true that ($\\textit{Franco}$, 2023):\n",
    "$$\n",
    "R_t \\sim N\\left(\\beta + (r_0 - \\beta)e^{-\\alpha t}, \\frac{\\sigma^2}{2\\alpha}\\left(1 - e^{-2\\alpha t}\\right)\\right)\n",
    "$$\n",
    "Here, $t$ is in years. To estimate the parameters, I will use the one-month yield for each day in the downloaded yield curve. Since the first date observes is April 10th, 2003, and the 1-month yield is $1.18\\%$, this will serve as $r_0$. Let $\\Theta = \\begin{bmatrix} \\alpha & \\beta & \\sigma\\end{bmatrix}$ be the parameters we are estimating. Let $\\overrightarrow{r}$ be the sample of all short rates we obtain from the one month yield. Note that, via properties of a wiener process, $R_t|r_{t - 1} \\sim N\\left(\\beta + (x_{t - 1} - \\beta)e^{-\\alpha \\Delta_t}, \\frac{\\sigma^2}{2\\alpha}\\left(1 - e^{-2\\alpha \\Delta_t}\\right)\\right)$. Therefore, the likelihood function is:\n",
    "$$\n",
    "\\begin{align*}\n",
    "L\\left(\\overrightarrow{r};\\Theta\\right) &= \\prod_{i = 1}^{N}\\frac{1}{\\sqrt{2\\pi * \\frac{\\sigma^2}{2\\alpha}\\left(1 - e^{-2\\alpha \\Delta_{t_i}}\\right)}} * e^{-\\frac{\\left(r_i - \\left(\\beta + (r_{i - 1} - \\beta)e^{-\\alpha \\Delta_{t_i}}\\right)\\right)^2}{\\frac{\\sigma^2}{\\alpha}\\left(1 - e^{-2\\alpha \\Delta_{t_i}}\\right)}}\\\\\n",
    "&= \\left(\\frac{\\sigma^2}{2\\alpha}\\right)^{-\\frac{N}{2}} * \\prod_{i = 1}^{n}\\left(1 - e^{-2\\alpha \\Delta_{t_i}}\\right)^{-\\frac{1}{2}} * e^{-\\frac{\\alpha}{\\sigma^2}\\sum_{i = 1}^{N}\\frac{\\left(r_i - \\left(\\beta + (r_{i - 1} - \\beta)e^{-\\alpha \\Delta_{t_i}}\\right)\\right)^2}{\\left(1 - e^{-2\\alpha \\Delta_{t_i}}\\right)}}\n",
    "\\end{align*}\n",
    "$$\n",
    "Therefore, the log-likelihood function is:\n",
    "$$\n",
    "\\ell(\\overrightarrow{r}|\\Theta) = \\frac{-N}{2}\\ln \\left(\\frac{\\sigma^2}{2\\alpha}\\right) -\\frac{1}{2}\\sum_{i = 1}^{n}\\ln \\left(1 - e^{-2\\alpha \\Delta t_i}\\right) -\\frac{\\alpha}{\\sigma^2}\\sum_{i = 1}^{N}\\frac{\\left(r_{t_i} - \\beta - \\left(r_{t_{i - 1}} - \\beta\\right)e^{-\\alpha \\Delta t_i}\\right)^2}{1 - e^{-2\\alpha \\Delta t_i}}\n",
    "$$\n",
    "Maximizing the likelihood function is equivalent to maximizing the log-likelihood function, which itself is equivalent to minimizing the negative log likelihood function. For the original maximization to proceed, it must be true that the following conditions are satisfied (and their result):\n",
    "$$\n",
    "\\begin{align*}\n",
    "&\\frac{d\\ell(\\Theta|\\overrightarrow{r})}{d\\beta} = 0 \\rightarrow \\beta = \\sum_{i = 1}^{N}\\left(\\frac{r_{t_i} - r_{t_{i - 1}}e^{-\\alpha \\Delta_{t_i}}}{1 + e^{-\\alpha \\Delta_{t_i}}}\\right)*\\left(\\sum_{i = 1}^{n}\\frac{1 - e^{-\\alpha * \\Delta_{t_i}}}{1 + e^{-\\alpha * \\Delta_{t_i}}}\\right)^{-1}\\\\\n",
    "&\\frac{d\\ell(\\Theta|\\overrightarrow{r})}{d\\sigma^2} = 0 \\rightarrow \\sigma^2 = \\frac{2\\alpha}{n}\\sum_{i = 1}^{n}\\frac{\\left(r_i - \\beta - (r_{t_{i - 1}} - \\beta)e^{-\\alpha * \\Delta_{t_i}}\n",
    "\\right)^2}{1 - e^{-2\\alpha \\Delta_{t_i}}}\n",
    "\\end{align*}\n",
    "$$\n",
    "Therefore, my process will be to optimize specifically for $\\alpha$, and then get the implied $\\beta$ and $\\sigma^2$ values. First, I examine the plot of short rates over time:"
   ]
  },
  {
   "cell_type": "code",
   "execution_count": 197,
   "metadata": {},
   "outputs": [
    {
     "data": {
      "image/png": "[encoded data removed]",
      "text/plain": [
       "<Figure size 640x480 with 1 Axes>"
      ]
     },
     "metadata": {},
     "output_type": "display_data"
    }
   ],
   "source": [
    "r_now = yieldcurve[\"DGS1MO\"].values[1:]\n",
    "plt.plot(yieldcurve.index[1:], r_now)\n",
    "plt.title(\"1 Month T-bill Rate, 2004-2024\")\n",
    "plt.xlabel(\"Date\")\n",
    "plt.ylabel(\"Interest Rate\")\n",
    "plt.show()"
   ]
  },
  {
   "cell_type": "markdown",
   "metadata": {},
   "source": [
    "Two things should be considered regarding the accuaracy of the estimates long-term:\n",
    "- According to YCharts, the long-term average for Treasury bills of 1 Month maturity is about 1.44\\% (So our estimate of $\\beta$ should be around this value). Over this time period, the 1 month rate does not spend much time around that value.\n",
    "- The practically zero-interest-rate environment of 2008-2016, great recession of 2008, and current interest rate spikes, are particularly anomolous over the economy's history.\n",
    "\n",
    "With this in mind, I create the negative log likelihood function and check where it reaches its minimum:"
   ]
  },
  {
   "cell_type": "code",
   "execution_count": 198,
   "metadata": {},
   "outputs": [],
   "source": [
    "def scalarNegLogLike(alpha):\n",
    "    #read in time changes, rates, number of observations\n",
    "    delta_t = (yieldcurve.index[1:] - yieldcurve.index[0:len(yieldcurve.index) - 1]).days.values/365\n",
    "    r_now = yieldcurve[\"DGS1MO\"].values[1:]\n",
    "    r_before = yieldcurve[\"DGS1MO\"].values[0:len(yieldcurve[\"DGS1MO\"]) - 1]\n",
    "    \n",
    "    N = len(yieldcurve[\"DGS1MO\"].values) - 1\n",
    "\n",
    "    #calculate beta given alpha\n",
    "    beta_1 = np.sum((r_now - (r_before * np.exp(-1 * alpha * delta_t)))/(1 + np.exp(-1 * alpha * delta_t)))\n",
    "    beta_2 = 1/np.sum((1 - np.exp(-1 * alpha * delta_t))/(1 + np.exp(-1 * alpha * delta_t)))\n",
    "    beta = beta_1 * beta_2\n",
    "\n",
    "    #calculate sigmasq, given alpha\n",
    "    sigmasq = np.square(r_now - beta - (r_before - beta)*np.exp(-1 * alpha * delta_t))\n",
    "    sigmasq = sigmasq/(1 - np.exp(-2 * alpha * delta_t))\n",
    "    sigmasq = ((2 * alpha)/N)*np.sum(sigmasq)\n",
    "    term_1 = (N/2)*np.log(sigmasq/(2 * alpha))\n",
    "    term_2 = (1/2)*np.sum(np.log((1 - np.exp(-2 * alpha * delta_t))))\n",
    "    term_3 = (alpha/sigmasq) * np.square(r_now - beta - (r_before - beta) * np.exp(-1 * alpha * delta_t))\n",
    "    term_3 = term_3/(1 - np.exp(-2 * alpha * delta_t))\n",
    "    term_3 = np.sum(term_3)\n",
    "    nll = term_1 + term_2 + term_3\n",
    "    return nll"
   ]
  },
  {
   "cell_type": "code",
   "execution_count": 199,
   "metadata": {},
   "outputs": [
    {
     "data": {
      "image/png": "[encoded data removed]",
      "text/plain": [
       "<Figure size 640x480 with 1 Axes>"
      ]
     },
     "metadata": {},
     "output_type": "display_data"
    }
   ],
   "source": [
    "points = np.array([x * .1 for x in range(1,100)])\n",
    "resp = []\n",
    "for i in points:\n",
    "    resp.append(scalarNegLogLike(i))\n",
    "plt.scatter(points, resp)\n",
    "plt.xlabel(\"alpha\")\n",
    "plt.ylabel(\"Negative Log Likelihood\")\n",
    "plt.title(\"Negative Log Likelihood for different alpha values\")\n",
    "plt.show()"
   ]
  },
  {
   "cell_type": "markdown",
   "metadata": {},
   "source": [
    "As predicted, the negative log likelihood is minimized at a lower $\\alpha$. However, the rate of decrease tends to flatline. I optimize the function, with a tolerance parameter, and then recover $\\beta$ and $\\sigma^2$:"
   ]
  },
  {
   "cell_type": "code",
   "execution_count": 350,
   "metadata": {},
   "outputs": [
    {
     "data": {
      "text/plain": [
       "(0.5572809000084122, 1.777780050681752, 1.338624053374775)"
      ]
     },
     "execution_count": 350,
     "metadata": {},
     "output_type": "execute_result"
    }
   ],
   "source": [
    "#Get alpha\n",
    "z = sc.optimize.minimize_scalar(fun = scalarNegLogLike, method = \"bounded\", bounds = (0,10), tol = 1)\n",
    "alpha = z.x\n",
    "\n",
    "#Get beta\n",
    "delta_t = (yieldcurve.index[1:] - yieldcurve.index[0:len(yieldcurve.index) - 1]).days.values/365\n",
    "r_now = yieldcurve[\"DGS1MO\"].values[1:]\n",
    "r_before = yieldcurve[\"DGS1MO\"].values[0:len(yieldcurve[\"DGS1MO\"]) - 1]\n",
    "N = len(yieldcurve[\"DGS1MO\"].values) - 1\n",
    "\n",
    "beta_1 = np.sum((r_now - (r_before * np.exp(-1 * alpha * delta_t)))/(1 + np.exp(-1 * alpha * delta_t)))\n",
    "beta_2 = 1/np.sum((1 - np.exp(-1 * alpha * delta_t))/(1 + np.exp(-1 * alpha * delta_t)))\n",
    "beta = beta_1 * beta_2\n",
    "\n",
    "#Get sigmasq\n",
    "sigmasq = np.square(r_now - beta - (r_before - beta)*np.exp(-1 * alpha * delta_t))\n",
    "sigmasq = sigmasq/(1 - np.exp(-2 * alpha * delta_t))\n",
    "sigmasq = ((2 * alpha)/N)*np.sum(sigmasq)\n",
    "alpha, beta, sigmasq"
   ]
  },
  {
   "cell_type": "markdown",
   "metadata": {},
   "source": [
    "So $\\hat{\\Theta} = \\begin{bmatrix} 0.55728 & 1.77778 & 1.33862 \\end{bmatrix}$."
   ]
  },
  {
   "cell_type": "markdown",
   "metadata": {},
   "source": [
    "### c. Calculating spread between points with one month yield"
   ]
  },
  {
   "cell_type": "markdown",
   "metadata": {},
   "source": [
    "Using the April 12th, 2024 data, I find $r_0$ as the current 1 month rate:"
   ]
  },
  {
   "cell_type": "code",
   "execution_count": 201,
   "metadata": {},
   "outputs": [
    {
     "name": "stdout",
     "output_type": "stream",
     "text": [
      "r_0: 5.48\n"
     ]
    }
   ],
   "source": [
    "x = yieldcurve.loc[\"2024-04-12\"]\n",
    "print(\"r_0:\", x[0])"
   ]
  },
  {
   "cell_type": "markdown",
   "metadata": {},
   "source": [
    "Using the value as $r_0 = 5.48\\%$, I calculate the spread at each point by subtracting the current short rate (1 month yield) from all other points in the curve:"
   ]
  },
  {
   "cell_type": "code",
   "execution_count": 202,
   "metadata": {},
   "outputs": [
    {
     "data": {
      "text/html": [
       "<div>\n",
       "<style scoped>\n",
       "    .dataframe tbody tr th:only-of-type {\n",
       "        vertical-align: middle;\n",
       "    }\n",
       "\n",
       "    .dataframe tbody tr th {\n",
       "        vertical-align: top;\n",
       "    }\n",
       "\n",
       "    .dataframe thead th {\n",
       "        text-align: right;\n",
       "    }\n",
       "</style>\n",
       "<table border=\"1\" class=\"dataframe\">\n",
       "  <thead>\n",
       "    <tr style=\"text-align: right;\">\n",
       "      <th></th>\n",
       "      <th>Spread</th>\n",
       "    </tr>\n",
       "  </thead>\n",
       "  <tbody>\n",
       "    <tr>\n",
       "      <th>DGS1MO</th>\n",
       "      <td>0.00</td>\n",
       "    </tr>\n",
       "    <tr>\n",
       "      <th>DGS3MO</th>\n",
       "      <td>-0.03</td>\n",
       "    </tr>\n",
       "    <tr>\n",
       "      <th>DGS6MO</th>\n",
       "      <td>-0.12</td>\n",
       "    </tr>\n",
       "    <tr>\n",
       "      <th>DGS1</th>\n",
       "      <td>-0.35</td>\n",
       "    </tr>\n",
       "    <tr>\n",
       "      <th>DGS2</th>\n",
       "      <td>-0.60</td>\n",
       "    </tr>\n",
       "    <tr>\n",
       "      <th>DGS3</th>\n",
       "      <td>-0.78</td>\n",
       "    </tr>\n",
       "    <tr>\n",
       "      <th>DGS5</th>\n",
       "      <td>-0.94</td>\n",
       "    </tr>\n",
       "    <tr>\n",
       "      <th>DGS7</th>\n",
       "      <td>-0.95</td>\n",
       "    </tr>\n",
       "    <tr>\n",
       "      <th>DGS10</th>\n",
       "      <td>-0.98</td>\n",
       "    </tr>\n",
       "    <tr>\n",
       "      <th>DGS20</th>\n",
       "      <td>-0.75</td>\n",
       "    </tr>\n",
       "    <tr>\n",
       "      <th>DGS30</th>\n",
       "      <td>-0.87</td>\n",
       "    </tr>\n",
       "  </tbody>\n",
       "</table>\n",
       "</div>"
      ],
      "text/plain": [
       "        Spread\n",
       "DGS1MO    0.00\n",
       "DGS3MO   -0.03\n",
       "DGS6MO   -0.12\n",
       "DGS1     -0.35\n",
       "DGS2     -0.60\n",
       "DGS3     -0.78\n",
       "DGS5     -0.94\n",
       "DGS7     -0.95\n",
       "DGS10    -0.98\n",
       "DGS20    -0.75\n",
       "DGS30    -0.87"
      ]
     },
     "execution_count": 202,
     "metadata": {},
     "output_type": "execute_result"
    }
   ],
   "source": [
    "spread = pd.DataFrame(data = (x - x[0]))\n",
    "spread.columns = [\"Spread\"]\n",
    "spread"
   ]
  },
  {
   "cell_type": "markdown",
   "metadata": {},
   "source": [
    "Since the current short rate is so much higher than long-term yields, it makes sense for the yield curve to be inverted."
   ]
  },
  {
   "cell_type": "markdown",
   "metadata": {},
   "source": [
    "### d. Monte Carlo Simulation Engine"
   ]
  },
  {
   "cell_type": "markdown",
   "metadata": {},
   "source": [
    "Note once again that:\n",
    "$$\n",
    "R_t \\sim N\\left(\\beta + (r_0 - \\beta)e^{-\\alpha t}, \\frac{\\sigma^2}{2\\alpha}\\left(1 - e^{-2\\alpha t}\\right)\\right)\n",
    "$$\n",
    "In order to generate a simulation, then, I have to simulate short rates at many points, and then synthesize the yield curve from that. I run 1000 simulations, with each simulation getting a daily short rate (Note that in each simulation, the current mean has to be updated to the instatiation of the previous mean, and assuming a 360 day year for simplicity later on):"
   ]
  },
  {
   "cell_type": "code",
   "execution_count": 378,
   "metadata": {},
   "outputs": [
    {
     "data": {
      "text/plain": [
       "array([[5.57324722, 5.53010112, 5.49211471, ..., 3.40731309, 3.45134673,\n",
       "        3.55156507],\n",
       "       [5.39457671, 5.47869757, 5.47753529, ..., 0.32449122, 0.26037944,\n",
       "        0.34072244],\n",
       "       [5.46825221, 5.44608318, 5.5467387 , ..., 3.16950206, 3.17200704,\n",
       "        3.14471639],\n",
       "       ...,\n",
       "       [5.37746218, 5.34545007, 5.3305753 , ..., 2.01466613, 2.09764598,\n",
       "        2.02362716],\n",
       "       [5.32824561, 5.25953936, 5.23728351, ..., 2.78515159, 2.87685909,\n",
       "        2.86999944],\n",
       "       [5.41366433, 5.44690735, 5.4534751 , ..., 1.67533593, 1.73848919,\n",
       "        1.77619248]])"
      ]
     },
     "execution_count": 378,
     "metadata": {},
     "output_type": "execute_result"
    }
   ],
   "source": [
    "np.random.seed(1)\n",
    "times = np.asarray([i/360 for i in range(1, 360 * 5 + 1)])\n",
    "delta_t = 1/360\n",
    "currmean = beta + (x[0] - beta)*np.exp(-1 * alpha * delta_t)\n",
    "std = np.sqrt((sigmasq/(2 * alpha))*(1 - np.exp(-2 * alpha * delta_t)))\n",
    "num_sim = 1000\n",
    "simulations = np.empty(shape = (num_sim, len(times)))\n",
    "for i in range(num_sim):\n",
    "    currmean = beta + (x[0] - beta)*np.exp(-1 * alpha * delta_t)\n",
    "    for j in range(len(times)):\n",
    "        simulations[i,j] = np.random.normal(loc = currmean, scale = std)\n",
    "        currmean = beta + (simulations[i,j] - beta)*np.exp(-1 * alpha * delta_t)\n",
    "simulations"
   ]
  },
  {
   "cell_type": "markdown",
   "metadata": {},
   "source": [
    "Note that the discount factor for a zero-coupon bond is equal to $e^{-\\int_t^{T}r_sds}$. I approxmiate this with a riemann sum with the area of each rectangle being 1/360 times the rate at the given moment:\n",
    "$$\n",
    "-\\int_t^{T}r_sds \\approx -\\frac{1}{360}\\sum_{i = t}^{T}r_i\n",
    "$$"
   ]
  },
  {
   "cell_type": "code",
   "execution_count": 381,
   "metadata": {},
   "outputs": [
    {
     "data": {
      "text/plain": [
       "array([[0.9998452 , 0.99969162, 0.99953912, ..., 0.81601602, 0.81593779,\n",
       "        0.8158573 ],\n",
       "       [0.99985016, 0.99969801, 0.99954591, ..., 0.86761525, 0.86760898,\n",
       "        0.86760077],\n",
       "       [0.99984812, 0.99969687, 0.99954285, ..., 0.8055124 , 0.80544143,\n",
       "        0.80537108],\n",
       "       ...,\n",
       "       [0.99985064, 0.99970219, 0.99955417, ..., 0.86419489, 0.86414454,\n",
       "        0.86409596],\n",
       "       [0.999852  , 0.99970594, 0.99956051, ..., 0.83086914, 0.83080275,\n",
       "        0.83073652],\n",
       "       [0.99984963, 0.99969836, 0.99954693, ..., 0.8406601 , 0.8406195 ,\n",
       "        0.84057803]])"
      ]
     },
     "execution_count": 381,
     "metadata": {},
     "output_type": "execute_result"
    }
   ],
   "source": [
    "short_rates = simulations/100\n",
    "integral_approx = -1 * (1/360) * short_rates\n",
    "exp_disc_factor = np.cumsum(integral_approx, axis = 1)\n",
    "disc_factors = np.exp(exp_disc_factor)\n",
    "disc_factors"
   ]
  },
  {
   "cell_type": "markdown",
   "metadata": {},
   "source": [
    "Given these discount factors, I can generate the yield curve:"
   ]
  },
  {
   "cell_type": "markdown",
   "metadata": {},
   "source": [
    "### e. Pricing Interest Rate Swap"
   ]
  },
  {
   "cell_type": "markdown",
   "metadata": {},
   "source": [
    "To price the interest rate swap today, I have to sum the expected discounted cash flows, given the yield curve on April 12th, 2024. I use the \"PyCurve\" package to perform linear interpolation to build out the yield curve, calculate the discount factors and forward rates:"
   ]
  },
  {
   "cell_type": "code",
   "execution_count": 371,
   "metadata": {},
   "outputs": [],
   "source": [
    "Notional = 10000000\n",
    "t = np.array([0,0.25, 0.5, 1,2,3,5,7,10,20,30])\n",
    "rate = x[:].values\n",
    "curve = Curve(t, rate)\n",
    "linear_curve = CubicCurve(curve)\n",
    "discount_factors = np.asarray([linear_curve.df_t(t_i/4) for t_i in (range(1,21))])\n",
    "forward_rates = np.asarray([linear_curve.forward(t_i/4,(t_i + 1)/4) for t_i in range(0,20)])\n",
    "variable_leg = np.round(forward_rates/100 * Notional,2)"
   ]
  },
  {
   "cell_type": "markdown",
   "metadata": {},
   "source": [
    "Then, I create a dataframe showing the times, cash flows for fixed and variable legs, and the discount factor:"
   ]
  },
  {
   "cell_type": "code",
   "execution_count": 372,
   "metadata": {},
   "outputs": [
    {
     "data": {
      "text/html": [
       "<div>\n",
       "<style scoped>\n",
       "    .dataframe tbody tr th:only-of-type {\n",
       "        vertical-align: middle;\n",
       "    }\n",
       "\n",
       "    .dataframe tbody tr th {\n",
       "        vertical-align: top;\n",
       "    }\n",
       "\n",
       "    .dataframe thead th {\n",
       "        text-align: right;\n",
       "    }\n",
       "</style>\n",
       "<table border=\"1\" class=\"dataframe\">\n",
       "  <thead>\n",
       "    <tr style=\"text-align: right;\">\n",
       "      <th></th>\n",
       "      <th>Time (in years)</th>\n",
       "      <th>Fixed Leg</th>\n",
       "      <th>Variable Leg</th>\n",
       "      <th>Discount Factor</th>\n",
       "    </tr>\n",
       "  </thead>\n",
       "  <tbody>\n",
       "    <tr>\n",
       "      <th>0</th>\n",
       "      <td>0.25</td>\n",
       "      <td>450000.0</td>\n",
       "      <td>545000.00</td>\n",
       "      <td>0.986821</td>\n",
       "    </tr>\n",
       "    <tr>\n",
       "      <th>1</th>\n",
       "      <td>0.50</td>\n",
       "      <td>450000.0</td>\n",
       "      <td>527000.00</td>\n",
       "      <td>0.974231</td>\n",
       "    </tr>\n",
       "    <tr>\n",
       "      <th>2</th>\n",
       "      <td>0.75</td>\n",
       "      <td>450000.0</td>\n",
       "      <td>501053.77</td>\n",
       "      <td>0.962395</td>\n",
       "    </tr>\n",
       "    <tr>\n",
       "      <th>3</th>\n",
       "      <td>1.00</td>\n",
       "      <td>450000.0</td>\n",
       "      <td>478946.23</td>\n",
       "      <td>0.951203</td>\n",
       "    </tr>\n",
       "    <tr>\n",
       "      <th>4</th>\n",
       "      <td>1.25</td>\n",
       "      <td>450000.0</td>\n",
       "      <td>468872.48</td>\n",
       "      <td>0.940367</td>\n",
       "    </tr>\n",
       "    <tr>\n",
       "      <th>5</th>\n",
       "      <td>1.50</td>\n",
       "      <td>450000.0</td>\n",
       "      <td>464944.58</td>\n",
       "      <td>0.929743</td>\n",
       "    </tr>\n",
       "    <tr>\n",
       "      <th>6</th>\n",
       "      <td>1.75</td>\n",
       "      <td>450000.0</td>\n",
       "      <td>461891.33</td>\n",
       "      <td>0.919305</td>\n",
       "    </tr>\n",
       "    <tr>\n",
       "      <th>7</th>\n",
       "      <td>2.00</td>\n",
       "      <td>450000.0</td>\n",
       "      <td>456291.61</td>\n",
       "      <td>0.909106</td>\n",
       "    </tr>\n",
       "    <tr>\n",
       "      <th>8</th>\n",
       "      <td>2.25</td>\n",
       "      <td>450000.0</td>\n",
       "      <td>446335.64</td>\n",
       "      <td>0.899234</td>\n",
       "    </tr>\n",
       "    <tr>\n",
       "      <th>9</th>\n",
       "      <td>2.50</td>\n",
       "      <td>450000.0</td>\n",
       "      <td>436479.84</td>\n",
       "      <td>0.889679</td>\n",
       "    </tr>\n",
       "    <tr>\n",
       "      <th>10</th>\n",
       "      <td>2.75</td>\n",
       "      <td>450000.0</td>\n",
       "      <td>428853.17</td>\n",
       "      <td>0.880386</td>\n",
       "    </tr>\n",
       "    <tr>\n",
       "      <th>11</th>\n",
       "      <td>3.00</td>\n",
       "      <td>450000.0</td>\n",
       "      <td>424331.36</td>\n",
       "      <td>0.871284</td>\n",
       "    </tr>\n",
       "    <tr>\n",
       "      <th>12</th>\n",
       "      <td>3.25</td>\n",
       "      <td>450000.0</td>\n",
       "      <td>423214.48</td>\n",
       "      <td>0.862300</td>\n",
       "    </tr>\n",
       "    <tr>\n",
       "      <th>13</th>\n",
       "      <td>3.50</td>\n",
       "      <td>450000.0</td>\n",
       "      <td>423721.39</td>\n",
       "      <td>0.853399</td>\n",
       "    </tr>\n",
       "    <tr>\n",
       "      <th>14</th>\n",
       "      <td>3.75</td>\n",
       "      <td>450000.0</td>\n",
       "      <td>425177.99</td>\n",
       "      <td>0.844560</td>\n",
       "    </tr>\n",
       "    <tr>\n",
       "      <th>15</th>\n",
       "      <td>4.00</td>\n",
       "      <td>450000.0</td>\n",
       "      <td>427397.24</td>\n",
       "      <td>0.835768</td>\n",
       "    </tr>\n",
       "    <tr>\n",
       "      <th>16</th>\n",
       "      <td>4.25</td>\n",
       "      <td>450000.0</td>\n",
       "      <td>430192.12</td>\n",
       "      <td>0.827013</td>\n",
       "    </tr>\n",
       "    <tr>\n",
       "      <th>17</th>\n",
       "      <td>4.50</td>\n",
       "      <td>450000.0</td>\n",
       "      <td>433375.63</td>\n",
       "      <td>0.818288</td>\n",
       "    </tr>\n",
       "    <tr>\n",
       "      <th>18</th>\n",
       "      <td>4.75</td>\n",
       "      <td>450000.0</td>\n",
       "      <td>436760.73</td>\n",
       "      <td>0.809589</td>\n",
       "    </tr>\n",
       "    <tr>\n",
       "      <th>19</th>\n",
       "      <td>5.00</td>\n",
       "      <td>450000.0</td>\n",
       "      <td>440160.41</td>\n",
       "      <td>0.800917</td>\n",
       "    </tr>\n",
       "  </tbody>\n",
       "</table>\n",
       "</div>"
      ],
      "text/plain": [
       "    Time (in years)  Fixed Leg  Variable Leg  Discount Factor\n",
       "0              0.25   450000.0     545000.00         0.986821\n",
       "1              0.50   450000.0     527000.00         0.974231\n",
       "2              0.75   450000.0     501053.77         0.962395\n",
       "3              1.00   450000.0     478946.23         0.951203\n",
       "4              1.25   450000.0     468872.48         0.940367\n",
       "5              1.50   450000.0     464944.58         0.929743\n",
       "6              1.75   450000.0     461891.33         0.919305\n",
       "7              2.00   450000.0     456291.61         0.909106\n",
       "8              2.25   450000.0     446335.64         0.899234\n",
       "9              2.50   450000.0     436479.84         0.889679\n",
       "10             2.75   450000.0     428853.17         0.880386\n",
       "11             3.00   450000.0     424331.36         0.871284\n",
       "12             3.25   450000.0     423214.48         0.862300\n",
       "13             3.50   450000.0     423721.39         0.853399\n",
       "14             3.75   450000.0     425177.99         0.844560\n",
       "15             4.00   450000.0     427397.24         0.835768\n",
       "16             4.25   450000.0     430192.12         0.827013\n",
       "17             4.50   450000.0     433375.63         0.818288\n",
       "18             4.75   450000.0     436760.73         0.809589\n",
       "19             5.00   450000.0     440160.41         0.800917"
      ]
     },
     "execution_count": 372,
     "metadata": {},
     "output_type": "execute_result"
    }
   ],
   "source": [
    "times = np.asarray([t_i/4 for t_i in range(1,21)])\n",
    "fixed_leg = np.asarray([Notional] * 20) * .045\n",
    "summary = pd.DataFrame(np.transpose(np.vstack((times, fixed_leg, variable_leg, discount_factors))))\n",
    "summary.columns = [\"Time (in years)\", \"Fixed Leg\", \"Variable Leg\", \"Discount Factor\"]\n",
    "summary"
   ]
  },
  {
   "cell_type": "markdown",
   "metadata": {},
   "source": [
    "Then I sum the present values and calculate the difference:"
   ]
  },
  {
   "cell_type": "code",
   "execution_count": 375,
   "metadata": {},
   "outputs": [
    {
     "data": {
      "text/plain": [
       "-103457.26536739897"
      ]
     },
     "execution_count": 375,
     "metadata": {},
     "output_type": "execute_result"
    }
   ],
   "source": [
    "fixed_PV = np.sum(.045 * Notional * discount_factors)\n",
    "variable_PV = np.sum(variable_leg * discount_factors)\n",
    "fixed_PV - variable_PV"
   ]
  },
  {
   "cell_type": "markdown",
   "metadata": {},
   "source": [
    "Thus, as of this moment, this interest rate swap is worth $-\\$103,457.27$ to me - not a good investment!"
   ]
  },
  {
   "cell_type": "markdown",
   "metadata": {},
   "source": [
    "### f. Simulated Yield Curves Swap Price calculation"
   ]
  },
  {
   "cell_type": "markdown",
   "metadata": {},
   "source": [
    "I know that the fixed leg in any simulation only various based on the discount factors calculated for each simulation at each quarter mark for the year:"
   ]
  },
  {
   "cell_type": "code",
   "execution_count": 368,
   "metadata": {},
   "outputs": [],
   "source": [
    "fixed_for_sim = .045 * Notional * disc_factors[:,[(pmt * 90)  - 1 for pmt in range(1,21)]]\n",
    "fixed_for_sim = np.sum(fixed_for_sim, axis = 1)"
   ]
  },
  {
   "cell_type": "markdown",
   "metadata": {},
   "source": [
    "For the variable curve, I need to generate the yield curves, and generate the implied forward rates"
   ]
  },
  {
   "cell_type": "markdown",
   "metadata": {},
   "source": [
    "## $\\underline{\\text{Sources}}$\n",
    "Franco, J. C. G. (2023, May 14). Maximum likelihood estimation of a mean reverting process. investmentscience.com. http://www.investmentscience.com/Content/howtoArticles/MLE_for_OR_mean_reverting.pdf \n",
    "\n",
    "1 month Treasury Rate (I:1MTCMR). YCharts. (n.d.). https://ycharts.com/indicators/1_month_treasury_rate#:~:text=Basic%20Info,a%20maturity%20of%201%20month."
   ]
  },
  {
   "cell_type": "markdown",
   "metadata": {},
   "source": [
    "## Attempt at Optimization over multiple parameters"
   ]
  },
  {
   "cell_type": "code",
   "execution_count": null,
   "metadata": {},
   "outputs": [],
   "source": [
    "def negLogLike(Theta):\n",
    "    alpha, beta, sigmasq = Theta[0], Theta[1], Theta[2]\n",
    "    N = len(yieldcurve[\"DGS1MO\"].values) - 1\n",
    "    delta_t = (yieldcurve.index[1:] - yieldcurve.index[0:len(yieldcurve.index) - 1]).days.values\n",
    "    r_now = yieldcurve[\"DGS1MO\"].values[1:]\n",
    "    r_before = yieldcurve[\"DGS1MO\"].values[0:len(yieldcurve[\"DGS1MO\"]) - 1]\n",
    "    term_1 = (N/2)*np.log(sigmasq/(2 * alpha))\n",
    "    term_2 = (1/2)*np.sum(np.log((1 - np.exp(-2 * alpha * delta_t))))\n",
    "    term_3 = (alpha/sigmasq) * np.square(r_now - beta - (r_before - beta) * np.exp(-1 * alpha * delta_t))\n",
    "    term_3 = term_3/(1 - np.exp(-2 * alpha * delta_t))\n",
    "    term_3 = np.sum(term_3)\n",
    "    nll = term_1 + term_2 + term_3\n",
    "    return nll\n",
    "\n",
    "\n",
    "def negLogLike2(Theta):\n",
    "    alpha, beta, sigmasq = Theta[0], Theta[1], Theta[2]\n",
    "    N = len(yieldcurve[\"DGS1MO\"].values) - 1\n",
    "    delta_t = (yieldcurve.index[1:] - yieldcurve.index[0:len(yieldcurve.index) - 1]).days.values\n",
    "    r_now = yieldcurve[\"DGS1MO\"].values[1:]\n",
    "    r_before = yieldcurve[\"DGS1MO\"].values[0:len(yieldcurve[\"DGS1MO\"]) - 1]\n",
    "    return (N/2)*np.log(sigmasq/(2 * alpha)) + (1/2)*np.sum(np.log((1 - np.exp(-2 * alpha * delta_t)))) + (alpha/sigmasq)*np.sum((np.square(r_now - beta - (r_before - beta) * np.exp(-1 * alpha * delta_t))/(1 - np.exp(-2 * alpha * delta_t))))"
   ]
  },
  {
   "cell_type": "code",
   "execution_count": null,
   "metadata": {},
   "outputs": [],
   "source": [
    "init_guess = np.array([5,np.mean(yieldcurve[\"DGS1MO\"].values),np.var(yieldcurve[\"DGS1MO\"].values)])\n",
    "y = sc.optimize.minimize(fun = negLogLike, x0 = init_guess,method = \"L-BFGS-B\",\n",
    "   bounds = ((None, None), (0.05, None), (0.05, None)))\n",
    "y"
   ]
  }
 ],
 "metadata": {
  "kernelspec": {
   "display_name": "M5450env",
   "language": "python",
   "name": "python3"
  },
  "language_info": {
   "codemirror_mode": {
    "name": "ipython",
    "version": 3
   },
   "file_extension": ".py",
   "mimetype": "text/x-python",
   "name": "python",
   "nbconvert_exporter": "python",
   "pygments_lexer": "ipython3",
   "version": "3.11.7"
  }
 },
 "nbformat": 4,
 "nbformat_minor": 2
}
